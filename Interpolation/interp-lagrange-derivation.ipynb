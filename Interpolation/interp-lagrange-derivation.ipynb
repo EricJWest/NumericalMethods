{
 "cells": [
  {
   "cell_type": "markdown",
   "metadata": {},
   "source": [
    "# Polynomial Interpolation"
   ]
  },
  {
   "cell_type": "code",
   "execution_count": 49,
   "metadata": {
    "collapsed": true
   },
   "outputs": [],
   "source": [
    "%display latex"
   ]
  },
  {
   "cell_type": "markdown",
   "metadata": {},
   "source": [
    "## Case for n=1:"
   ]
  },
  {
   "cell_type": "code",
   "execution_count": 50,
   "metadata": {
    "collapsed": true
   },
   "outputs": [],
   "source": [
    "# define interpolation polynomial with undetermined coefficients\n",
    "var('a0, a1')\n",
    "p(x) = a0 + a1*x"
   ]
  },
  {
   "cell_type": "code",
   "execution_count": 52,
   "metadata": {
    "collapsed": false
   },
   "outputs": [],
   "source": [
    "# evaluate polynomial at given data points\n",
    "var('x0, x1, f0, f1')\n",
    "eq0 = f0 == p(x0)\n",
    "eq1 = f1 == p(x1)"
   ]
  },
  {
   "cell_type": "code",
   "execution_count": 53,
   "metadata": {
    "collapsed": false
   },
   "outputs": [],
   "source": [
    "# solve the system of equations\n",
    "eqns = [eq0, eq1]\n",
    "unknowns = [a0, a1]\n",
    "soln = solve(eqns, unknowns)[0]\n",
    "soln;"
   ]
  },
  {
   "cell_type": "code",
   "execution_count": 59,
   "metadata": {
    "collapsed": false
   },
   "outputs": [
    {
     "data": {
      "text/html": [
       "<html><script type=\"math/tex; mode=display\">\\newcommand{\\Bold}[1]{\\mathbf{#1}}\\left[\\frac{x - x_{1}}{x_{0} - x_{1}}, -\\frac{x - x_{0}}{x_{0} - x_{1}}\\right]</script></html>"
      ],
      "text/plain": [
       "[(x - x1)/(x0 - x1), -(x - x0)/(x0 - x1)]"
      ]
     },
     "execution_count": 59,
     "metadata": {},
     "output_type": "execute_result"
    }
   ],
   "source": [
    "# substitute solution back into interpolating polynomial\n",
    "pp(x) = p(x).subs(soln[0], soln[1]) \n",
    "L0 = pp(x).coefficient(f0).factor()\n",
    "L1 = pp(x).coefficient(f1).factor()\n",
    "[L0, L1]"
   ]
  },
  {
   "cell_type": "markdown",
   "metadata": {
    "deletable": true,
    "editable": true
   },
   "source": [
    "## Case for n=2:"
   ]
  },
  {
   "cell_type": "code",
   "execution_count": 60,
   "metadata": {
    "collapsed": true,
    "deletable": true,
    "editable": true
   },
   "outputs": [],
   "source": [
    "# define interpolation polynomial with undetermined coefficients\n",
    "var('a0, a1, a2')\n",
    "p(x) = a0 + a1*x + a2*x^2"
   ]
  },
  {
   "cell_type": "code",
   "execution_count": 61,
   "metadata": {
    "collapsed": false,
    "deletable": true,
    "editable": true
   },
   "outputs": [],
   "source": [
    "# evaluate polynomial at given data points\n",
    "var('x0, x1, x2, f0, f1, f2')\n",
    "eq0 = f0 == p(x0)\n",
    "eq1 = f1 == p(x1)\n",
    "eq2 = f2 == p(x2)"
   ]
  },
  {
   "cell_type": "code",
   "execution_count": 62,
   "metadata": {
    "collapsed": false,
    "deletable": true,
    "editable": true
   },
   "outputs": [],
   "source": [
    "# solve the system of equations\n",
    "eqns = [eq0, eq1, eq2]\n",
    "unknowns = [a0, a1, a2]\n",
    "soln = solve(eqns, unknowns)[0]\n",
    "soln;"
   ]
  },
  {
   "cell_type": "code",
   "execution_count": 63,
   "metadata": {
    "collapsed": false,
    "deletable": true,
    "editable": true
   },
   "outputs": [
    {
     "data": {
      "text/html": [
       "<html><script type=\"math/tex; mode=display\">\\newcommand{\\Bold}[1]{\\mathbf{#1}}\\left[\\frac{{\\left(x - x_{1}\\right)} {\\left(x - x_{2}\\right)}}{{\\left(x_{0} - x_{1}\\right)} {\\left(x_{0} - x_{2}\\right)}}, -\\frac{{\\left(x - x_{0}\\right)} {\\left(x - x_{2}\\right)}}{{\\left(x_{0} - x_{1}\\right)} {\\left(x_{1} - x_{2}\\right)}}, \\frac{{\\left(x - x_{0}\\right)} {\\left(x - x_{1}\\right)}}{{\\left(x_{0} - x_{2}\\right)} {\\left(x_{1} - x_{2}\\right)}}\\right]</script></html>"
      ],
      "text/plain": [
       "[(x - x1)*(x - x2)/((x0 - x1)*(x0 - x2)),\n",
       " -(x - x0)*(x - x2)/((x0 - x1)*(x1 - x2)),\n",
       " (x - x0)*(x - x1)/((x0 - x2)*(x1 - x2))]"
      ]
     },
     "execution_count": 63,
     "metadata": {},
     "output_type": "execute_result"
    }
   ],
   "source": [
    "# substitute solution back into interpolating polynomial\n",
    "pp(x) = p(x).subs(soln[0], soln[1], soln[2]) \n",
    "L0 = pp(x).coefficient(f0).factor()\n",
    "L1 = pp(x).coefficient(f1).factor()\n",
    "L2 = pp(x).coefficient(f2).factor()\n",
    "[L0, L1, L2]"
   ]
  },
  {
   "cell_type": "markdown",
   "metadata": {
    "deletable": true,
    "editable": true
   },
   "source": [
    "## Case for n=3:"
   ]
  },
  {
   "cell_type": "code",
   "execution_count": 64,
   "metadata": {
    "collapsed": true,
    "deletable": true,
    "editable": true
   },
   "outputs": [],
   "source": [
    "# define interpolation polynomial with undetermined coefficients\n",
    "var('a0, a1, a2, a3')\n",
    "p(x) = a0 + a1*x + a2*x^2 + a3*x^3"
   ]
  },
  {
   "cell_type": "code",
   "execution_count": 65,
   "metadata": {
    "collapsed": false,
    "deletable": true,
    "editable": true
   },
   "outputs": [],
   "source": [
    "# evaluate polynomial at given data points\n",
    "var('x0, x1, x2, x3, f0, f1, f2, f3')\n",
    "eq0 = f0 == p(x0)\n",
    "eq1 = f1 == p(x1)\n",
    "eq2 = f2 == p(x2)\n",
    "eq3 = f3 == p(x3)"
   ]
  },
  {
   "cell_type": "code",
   "execution_count": 66,
   "metadata": {
    "collapsed": false,
    "deletable": true,
    "editable": true
   },
   "outputs": [],
   "source": [
    "# solve the system of equations\n",
    "eqns = [eq0, eq1, eq2, eq3]\n",
    "unknowns = [a0, a1, a2, a3]\n",
    "soln = solve(eqns, unknowns)[0]\n",
    "soln;"
   ]
  },
  {
   "cell_type": "code",
   "execution_count": 67,
   "metadata": {
    "collapsed": false,
    "deletable": true,
    "editable": true
   },
   "outputs": [
    {
     "data": {
      "text/html": [
       "<html><script type=\"math/tex; mode=display\">\\newcommand{\\Bold}[1]{\\mathbf{#1}}\\left[\\frac{{\\left(x - x_{1}\\right)} {\\left(x - x_{2}\\right)} {\\left(x - x_{3}\\right)}}{{\\left(x_{0} - x_{1}\\right)} {\\left(x_{0} - x_{2}\\right)} {\\left(x_{0} - x_{3}\\right)}}, -\\frac{{\\left(x - x_{0}\\right)} {\\left(x - x_{2}\\right)} {\\left(x - x_{3}\\right)}}{{\\left(x_{0} - x_{1}\\right)} {\\left(x_{1} - x_{2}\\right)} {\\left(x_{1} - x_{3}\\right)}}, \\frac{{\\left(x - x_{0}\\right)} {\\left(x - x_{1}\\right)} {\\left(x - x_{3}\\right)}}{{\\left(x_{0} - x_{2}\\right)} {\\left(x_{1} - x_{2}\\right)} {\\left(x_{2} - x_{3}\\right)}}, -\\frac{{\\left(x - x_{0}\\right)} {\\left(x - x_{1}\\right)} {\\left(x - x_{2}\\right)}}{{\\left(x_{0} - x_{3}\\right)} {\\left(x_{1} - x_{3}\\right)} {\\left(x_{2} - x_{3}\\right)}}\\right]</script></html>"
      ],
      "text/plain": [
       "[(x - x1)*(x - x2)*(x - x3)/((x0 - x1)*(x0 - x2)*(x0 - x3)),\n",
       " -(x - x0)*(x - x2)*(x - x3)/((x0 - x1)*(x1 - x2)*(x1 - x3)),\n",
       " (x - x0)*(x - x1)*(x - x3)/((x0 - x2)*(x1 - x2)*(x2 - x3)),\n",
       " -(x - x0)*(x - x1)*(x - x2)/((x0 - x3)*(x1 - x3)*(x2 - x3))]"
      ]
     },
     "execution_count": 67,
     "metadata": {},
     "output_type": "execute_result"
    }
   ],
   "source": [
    "# substitute solution back into interpolating polynomial\n",
    "pp(x) = p(x).subs(soln[0], soln[1], soln[2], soln[3]) \n",
    "L0 = pp(x).coefficient(f0).factor()\n",
    "L1 = pp(x).coefficient(f1).factor()\n",
    "L2 = pp(x).coefficient(f2).factor()\n",
    "L3 = pp(x).coefficient(f3).factor()\n",
    "[L0, L1, L2, L3]"
   ]
  },
  {
   "cell_type": "markdown",
   "metadata": {
    "deletable": true,
    "editable": true
   },
   "source": [
    "## Case for n=4:"
   ]
  },
  {
   "cell_type": "code",
   "execution_count": 68,
   "metadata": {
    "collapsed": true,
    "deletable": true,
    "editable": true
   },
   "outputs": [],
   "source": [
    "# define interpolation polynomial with undetermined coefficients\n",
    "var('a0, a1, a2, a3, a4')\n",
    "p(x) = a0 + a1*x + a2*x^2 + a3*x^3 + a4*x^4"
   ]
  },
  {
   "cell_type": "code",
   "execution_count": 69,
   "metadata": {
    "collapsed": false,
    "deletable": true,
    "editable": true
   },
   "outputs": [],
   "source": [
    "# evaluate polynomial at given data points\n",
    "var('x0, x1, x2, x3, x4, f0, f1, f2, f3, f4')\n",
    "eq0 = f0 == p(x0)\n",
    "eq1 = f1 == p(x1)\n",
    "eq2 = f2 == p(x2)\n",
    "eq3 = f3 == p(x3)\n",
    "eq4 = f4 == p(x4)"
   ]
  },
  {
   "cell_type": "code",
   "execution_count": 70,
   "metadata": {
    "collapsed": false,
    "deletable": true,
    "editable": true
   },
   "outputs": [],
   "source": [
    "# solve the system of equations\n",
    "eqns = [eq0, eq1, eq2, eq3, eq4]\n",
    "unknowns = [a0, a1, a2, a3, a4]\n",
    "soln = solve(eqns, unknowns)[0]\n",
    "soln;"
   ]
  },
  {
   "cell_type": "code",
   "execution_count": 104,
   "metadata": {
    "collapsed": false,
    "deletable": true,
    "editable": true
   },
   "outputs": [
    {
     "data": {
      "text/html": [
       "<html><script type=\"math/tex; mode=display\">\\newcommand{\\Bold}[1]{\\mathbf{#1}}\\left[\\frac{{\\left(x - x_{1}\\right)} {\\left(x - x_{2}\\right)} {\\left(x - x_{3}\\right)} {\\left(x - x_{4}\\right)}}{{\\left(x_{0} - x_{1}\\right)} {\\left(x_{0} - x_{2}\\right)} {\\left(x_{0} - x_{3}\\right)} {\\left(x_{0} - x_{4}\\right)}}, -\\frac{{\\left(x - x_{0}\\right)} {\\left(x - x_{2}\\right)} {\\left(x - x_{3}\\right)} {\\left(x - x_{4}\\right)}}{{\\left(x_{0} - x_{1}\\right)} {\\left(x_{1} - x_{2}\\right)} {\\left(x_{1} - x_{3}\\right)} {\\left(x_{1} - x_{4}\\right)}}, \\frac{{\\left(x - x_{0}\\right)} {\\left(x - x_{1}\\right)} {\\left(x - x_{3}\\right)} {\\left(x - x_{4}\\right)}}{{\\left(x_{0} - x_{2}\\right)} {\\left(x_{1} - x_{2}\\right)} {\\left(x_{2} - x_{3}\\right)} {\\left(x_{2} - x_{4}\\right)}}, -\\frac{{\\left(x - x_{0}\\right)} {\\left(x - x_{1}\\right)} {\\left(x - x_{2}\\right)} {\\left(x - x_{4}\\right)}}{{\\left(x_{0} - x_{3}\\right)} {\\left(x_{1} - x_{3}\\right)} {\\left(x_{2} - x_{3}\\right)} {\\left(x_{3} - x_{4}\\right)}}, \\frac{{\\left(x - x_{0}\\right)} {\\left(x - x_{1}\\right)} {\\left(x - x_{2}\\right)} {\\left(x - x_{3}\\right)}}{{\\left(x_{0} - x_{4}\\right)} {\\left(x_{1} - x_{4}\\right)} {\\left(x_{2} - x_{4}\\right)} {\\left(x_{3} - x_{4}\\right)}}\\right]</script></html>"
      ],
      "text/plain": [
       "[(x - x1)*(x - x2)*(x - x3)*(x - x4)/((x0 - x1)*(x0 - x2)*(x0 - x3)*(x0 - x4)),\n",
       " -(x - x0)*(x - x2)*(x - x3)*(x - x4)/((x0 - x1)*(x1 - x2)*(x1 - x3)*(x1 - x4)),\n",
       " (x - x0)*(x - x1)*(x - x3)*(x - x4)/((x0 - x2)*(x1 - x2)*(x2 - x3)*(x2 - x4)),\n",
       " -(x - x0)*(x - x1)*(x - x2)*(x - x4)/((x0 - x3)*(x1 - x3)*(x2 - x3)*(x3 - x4)),\n",
       " (x - x0)*(x - x1)*(x - x2)*(x - x3)/((x0 - x4)*(x1 - x4)*(x2 - x4)*(x3 - x4))]"
      ]
     },
     "execution_count": 104,
     "metadata": {},
     "output_type": "execute_result"
    }
   ],
   "source": [
    "# substitute solution back into interpolating polynomial\n",
    "pp(x) = p(x).subs(soln[0], soln[1], soln[2], soln[3], soln[4]) \n",
    "L_0 = pp(x).coefficient(f0).factor()\n",
    "L1 = pp(x).coefficient(f1).factor()\n",
    "L2 = pp(x).coefficient(f2).factor()\n",
    "L3 = pp(x).coefficient(f3).factor()\n",
    "L4 = pp(x).coefficient(f4).factor()\n",
    "[L0, L1, L2, L3, L4]"
   ]
  },
  {
   "cell_type": "code",
   "execution_count": 112,
   "metadata": {
    "collapsed": false
   },
   "outputs": [
    {
     "data": {
      "text/html": [
       "<html><script type=\"math/tex; mode=display\">\\newcommand{\\Bold}[1]{\\mathbf{#1}}\\frac{f_{0} {\\left(x - x_{1}\\right)} {\\left(x - x_{2}\\right)} {\\left(x - x_{3}\\right)} {\\left(x - x_{4}\\right)}}{{\\left(x_{0} - x_{1}\\right)} {\\left(x_{0} - x_{2}\\right)} {\\left(x_{0} - x_{3}\\right)} {\\left(x_{0} - x_{4}\\right)}} - \\frac{f_{1} {\\left(x - x_{0}\\right)} {\\left(x - x_{2}\\right)} {\\left(x - x_{3}\\right)} {\\left(x - x_{4}\\right)}}{{\\left(x_{0} - x_{1}\\right)} {\\left(x_{1} - x_{2}\\right)} {\\left(x_{1} - x_{3}\\right)} {\\left(x_{1} - x_{4}\\right)}} + \\frac{f_{2} {\\left(x - x_{0}\\right)} {\\left(x - x_{1}\\right)} {\\left(x - x_{3}\\right)} {\\left(x - x_{4}\\right)}}{{\\left(x_{0} - x_{2}\\right)} {\\left(x_{1} - x_{2}\\right)} {\\left(x_{2} - x_{3}\\right)} {\\left(x_{2} - x_{4}\\right)}} - \\frac{f_{3} {\\left(x - x_{0}\\right)} {\\left(x - x_{1}\\right)} {\\left(x - x_{2}\\right)} {\\left(x - x_{4}\\right)}}{{\\left(x_{0} - x_{3}\\right)} {\\left(x_{1} - x_{3}\\right)} {\\left(x_{2} - x_{3}\\right)} {\\left(x_{3} - x_{4}\\right)}} + \\frac{f_{4} {\\left(x - x_{0}\\right)} {\\left(x - x_{1}\\right)} {\\left(x - x_{2}\\right)} {\\left(x - x_{3}\\right)}}{{\\left(x_{0} - x_{4}\\right)} {\\left(x_{1} - x_{4}\\right)} {\\left(x_{2} - x_{4}\\right)} {\\left(x_{3} - x_{4}\\right)}}</script></html>"
      ],
      "text/plain": [
       "f0*(x - x1)*(x - x2)*(x - x3)*(x - x4)/((x0 - x1)*(x0 - x2)*(x0 - x3)*(x0 - x4)) - f1*(x - x0)*(x - x2)*(x - x3)*(x - x4)/((x0 - x1)*(x1 - x2)*(x1 - x3)*(x1 - x4)) + f2*(x - x0)*(x - x1)*(x - x3)*(x - x4)/((x0 - x2)*(x1 - x2)*(x2 - x3)*(x2 - x4)) - f3*(x - x0)*(x - x1)*(x - x2)*(x - x4)/((x0 - x3)*(x1 - x3)*(x2 - x3)*(x3 - x4)) + f4*(x - x0)*(x - x1)*(x - x2)*(x - x3)/((x0 - x4)*(x1 - x4)*(x2 - x4)*(x3 - x4))"
      ]
     },
     "execution_count": 112,
     "metadata": {},
     "output_type": "execute_result"
    }
   ],
   "source": [
    "import numpy as np\n",
    "N = 5\n",
    "L = np.array([L0, L1, L2, L3, L4])\n",
    "f = np.array([f0, f1, f2, f3, f4])\n",
    "P(x) = sum([L[n]*f[n] for n in range(0,N)])\n",
    "P(x)"
   ]
  },
  {
   "cell_type": "code",
   "execution_count": null,
   "metadata": {
    "collapsed": true
   },
   "outputs": [],
   "source": []
  }
 ],
 "metadata": {
  "kernelspec": {
   "display_name": "SageMath 8.1",
   "language": "",
   "name": "sagemath"
  },
  "language_info": {
   "codemirror_mode": {
    "name": "ipython",
    "version": 2
   },
   "file_extension": ".py",
   "mimetype": "text/x-python",
   "name": "python",
   "nbconvert_exporter": "python",
   "pygments_lexer": "ipython2",
   "version": "2.7.14"
  }
 },
 "nbformat": 4,
 "nbformat_minor": 2
}
