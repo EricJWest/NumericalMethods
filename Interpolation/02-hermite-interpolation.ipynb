{
 "cells": [
  {
   "cell_type": "markdown",
   "metadata": {},
   "source": [
    "# Hermite Interpolation\n",
    "---\n",
    "\n",
    "PRE-REQUISITES:\n",
    "- Lagrange interpolation\n",
    "\n",
    "REFERENCES:\n",
    "- [1] DeVries and Hasbun, *A First Course in Computational Physics, 2nd edition*\n",
    "- [2] Burden and Faires, *Numerical Analysis, 7th edition*\n",
    "- [3] Ralston and Rabinowitz, *A First Course in Numerical Analysis, 2nd edition*"
   ]
  }
 ],
 "metadata": {
  "kernelspec": {
   "display_name": "Python 3",
   "language": "python",
   "name": "python3"
  },
  "language_info": {
   "codemirror_mode": {
    "name": "ipython",
    "version": 3
   },
   "file_extension": ".py",
   "mimetype": "text/x-python",
   "name": "python",
   "nbconvert_exporter": "python",
   "pygments_lexer": "ipython3",
   "version": "3.5.2"
  }
 },
 "nbformat": 4,
 "nbformat_minor": 2
}
