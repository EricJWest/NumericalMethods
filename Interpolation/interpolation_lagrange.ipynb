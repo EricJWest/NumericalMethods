{
 "cells": [
  {
   "cell_type": "markdown",
   "metadata": {},
   "source": [
    "# Lagrange Interpolation\n",
    "---\n",
    "\n",
    "GENERAL PROBLEM: Suppose we are given values of some function $f(x_1),\\ldots,f(x_n)$, at the points $x_1,\\ldots,x_n$. Using these data alone, we want to find a polynomial, $p(x)$, that passes through those points and thereby approximates the function.\n",
    "\n",
    "IDEA: Construct a generic polynomial with undetermined coefficients related to the function and it derivates at various points (say, using Taylor series expansions about different points). Set up an algebraic system of equations for the undetermined coefficients in terms of the given data. Solve."
   ]
  },
  {
   "cell_type": "markdown",
   "metadata": {},
   "source": [
    "## Warm-Up: Linear Interpolation\n",
    "\n",
    "Suppose we are given $f(x_1)$ and $f(x_2)$ at the points $x_1$ and $x_2$, respectively. We can easily find the unique line that passes through those points as follows. The slope of the line is\n",
    "\n",
    "\\begin{equation}\n",
    "   \\text{slope} = \\frac{f_2 - f_1}{x_2 - x_1},\n",
    "\\end{equation}\n",
    "\n",
    "where $f_i=f(x_i)$. The equation for the line can therefore be written\n",
    "\n",
    "\\begin{equation}\n",
    "   p(x) = \\frac{(f_2 - f_1)}{(x_2 - x_1)}x + p(0).\n",
    "\\end{equation}\n",
    "\n",
    "Evaluating this at $x_1$ gives\n",
    "\n",
    "\\begin{equation}\n",
    "   p(x_1) = f_1 = \\frac{(f_2 - f_1)}{(x_2 - x_1)}x_1 + p(0).\n",
    "\\end{equation}\n",
    "\n",
    "We now elimate $p(0)$ in terms of the given data. Solving for $p(0)$ gives\n",
    "\n",
    "\\begin{equation}\n",
    "   p(0) = \\frac{(x_2 f_1 - f_2 x_1)}{(x_2 - x_1)}.\n",
    "\\end{equation}\n",
    "\n",
    "Plugging this back into the expression for $p(x)$ above gives\n",
    "\n",
    "\\end{equation}\n",
    "   p(x) = \\frac{(x - x_2)}{(x_1 - x_2)}f(x_1) + \\frac{(x - x_1)}{(x_2 - x_1)}f(x_2).\n",
    "\\end{equation}\n",
    "\n",
    "By inspection we see that $p(x_1)=f(x_1)$ and $p(x_2)=f(x_2)$, as required. The function $p(x)$ is therefore the unique line that passes through $f(x_1)$ and $f(x_2)$. This solution is the (first or n=1) Lagrange interpolating polynomial. In this case, the polynomial is just a line. We will generalize this procedure to higher-order polynomials below."
   ]
  },
  {
   "cell_type": "markdown",
   "metadata": {},
   "source": [
    "### Exercise 1. [Paper]\n",
    "Re-derive the expression for $p(x)$ using $p(x_2)=f_2$ to eliminate $p(0)$, instead of $p(x_1)=f_1$, as was done above."
   ]
  },
  {
   "cell_type": "markdown",
   "metadata": {},
   "source": [
    "## Interpolating Function via Taylor Series\n",
    "\n",
    "As an alternative to the above derivation, we may derive the same result from Taylor series considerations. The Taylor series expansions of $f(x)$ in the neighborhoods of $x_1$ and $x_2$ yields\n",
    "\n",
    "\\begin{align*}\n",
    "   f(x_1) &= f(x) + (x_1 - x)f'(x) + \\cdots \\\\\n",
    "   f(x_2) &= f(x) + (x_2 - x)f'(x) + \\cdots.\n",
    "\\end{align*}\n",
    "\n",
    "Next, approximate $f(x)$ by the truncated polynomial $p(x)$, leading to\n",
    "\n",
    "\\begin{align*}\n",
    "   f(x_1) &= f_1 = p(x) + (x_1 - x)p'(x)\\\\\n",
    "   f(x_2) &= f_2 = p(x) + (x_2 - x)p'(x).\n",
    "\\end{align*}\n",
    "\n",
    "This gives two equations in the two unknowns, $p(x)$ and $p'(x)$. Solving for $p'(x)$ gives\n",
    "\n",
    "\\begin{equation}\n",
    "   p'(x) = \\frac{(f_2 - f_1)}{(x_2 - x_1)},\n",
    "\\end{equation}\n",
    "\n",
    "and then plugging back in to get $p(x)$ gives\n",
    "\n",
    "\\begin{equation}\n",
    "   p(x) = \\frac{(x - x_2)}{(x_1 - x_2)}f(x_1) + \\frac{(x - x_1)}{(x_2 - x_1)}f(x_2).\n",
    "\\end{equation}\n",
    "\n",
    "This gives the same interpolating function as above."
   ]
  },
  {
   "cell_type": "markdown",
   "metadata": {},
   "source": [
    "## Weight Functions\n",
    "\n",
    "We can write the interpolating polynomial in terms of weight functions as follows\n",
    "\n",
    "\\begin{equation}\n",
    "   p(x) = L_1(x)f(x_1) + L_2(x)f(x_2),\n",
    "\\end{equation}\n",
    "\n",
    "where\n",
    "\n",
    "\\begin{equation}\n",
    "   L_1(x) = \\frac{(x - x_2)}{(x_1 - x_2)} \n",
    "   \\quad\\text{and}\\quad \n",
    "   L_2(x) = \\frac{(x - x_1)}{(x_2 - x_1)}.\n",
    "\\end{equation}\n",
    "\n",
    "To see that $L_1(x)$ and $L_2(x)$ act as weight functions, consider their asyptotic behavior.\n",
    "\n",
    "\\begin{align*}\n",
    "   &\\text{as } x\\rightarrow x_1: \\quad L_1\\rightarrow 1 \\quad\\text{and}\\quad L_2\\rightarrow 0 \\\\\n",
    "   &\\text{as } x\\rightarrow x_2: \\quad L_1\\rightarrow 0 \\quad\\text{and}\\quad L_2\\rightarrow 1 \\\\\n",
    "\\end{align*}\n",
    "\n",
    "As a result, $p(x_1)\\rightarrow f_1$ and $p(x_2)\\rightarrow f_2$."
   ]
  },
  {
   "cell_type": "markdown",
   "metadata": {},
   "source": [
    "### Exercise 2. [Coding]\n",
    "Write a program that implements the linear interpolation scheme above, given two data points. Plot the interpolating line along with the given data. "
   ]
  },
  {
   "cell_type": "code",
   "execution_count": 1,
   "metadata": {},
   "outputs": [
    {
     "data": {
      "image/png": "[encoded data removed]",
      "text/plain": [
       "<matplotlib.figure.Figure at 0x7f9134720748>"
      ]
     },
     "metadata": {},
     "output_type": "display_data"
    }
   ],
   "source": [
    "import numpy as np\n",
    "import matplotlib.pyplot as plt\n",
    "%matplotlib inline\n",
    "\n",
    "def interpLinear(x, xdata, fdata) :\n",
    "    \"\"\" linear interpolation function\n",
    "    \n",
    "    INPUT:\n",
    "    x = grid point where function value is wanted\n",
    "    xdata = [x1,x2], 1D array of grid points where function values are given\n",
    "    fdata = [f1,f2], 1D array of function values at given grid points\n",
    "\n",
    "    OUTPUT:\n",
    "    p = value of interpolating function at grid point\n",
    "    \"\"\"\n",
    "\n",
    "    x1 = xdata[0]\n",
    "    x2 = xdata[1]\n",
    "    f1 = fdata[0]\n",
    "    f2 = fdata[1]\n",
    "    L1 = (x - x2)/(x1 - x2)\n",
    "    L2 = (x - x1)/(x2 - x1)\n",
    "    p = L1*f1 + L2*f2\n",
    "    return p\n",
    "\n",
    "data = np.array([[0,-1],[3,7]])\n",
    "xdata = data[:,0]\n",
    "ydata = data[:,1]\n",
    "\n",
    "xmin = np.amin(xdata)\n",
    "xmax = np.amax(xdata)\n",
    "\n",
    "x = np.linspace(xmin-1,xmax+1,100)\n",
    "y = interpLinear(x, xdata, ydata)\n",
    "\n",
    "fig, ax = plt.subplots()\n",
    "ax.plot(x, y, color=\"blue\", label=\"interpolation\")\n",
    "ax.plot(xdata, ydata, 'rs', markersize=5, label=\"data\")\n",
    "ax.legend(bbox_to_anchor=(1.02,1),loc=2)\n",
    "plt.show()"
   ]
  },
  {
   "cell_type": "markdown",
   "metadata": {},
   "source": [
    "## Quadratic Interpolation\n",
    "\n",
    "Next suppose we are given $f(x_1)$, $f(x_2)$, and $f(x_3)$ at the points $x_1$, $x_2$, and $x_3$, respectively. The quadratic equation that passes through these three points can be parameterized as\n",
    "\n",
    "\\begin{equation}\n",
    "   p(x) = a_0 + a_1 x + a_2 x^2,\n",
    "\\end{equation}\n",
    "\n",
    "where $a_0$, $a_1$, and $a_2$ are undetermined coefficients. Evaluating $p(x)$ at $x_1$, $x_2$, and $x_3$ yields three equations in these undetermined coeffients\n",
    "\n",
    "\\begin{align*}\n",
    "   p(x_1) &= a_0 + a_1 x_1 + a_2 x_1^2 \\\\\n",
    "   p(x_2) &= a_0 + a_1 x_2 + a_2 x_2^2 \\\\\n",
    "   p(x_3) &= a_0 + a_1 x_3 + a_2 x_3^2.\n",
    "\\end{align*}\n",
    "\n",
    "Solving this system of equations and plugging the results back into the expression for $p(x)$ above gives\n",
    "\n",
    "\\begin{equation}\n",
    "   p(x) = \\frac{(x - x_2)(x - x_3)}{(x_1 - x_2)(x_1 - x_3)}f(x_1) \n",
    "   + \\frac{(x - x_1)(x - x_3)}{(x_2 - x_1)(x_2 - x_3)}f(x_2)\n",
    "   + \\frac{(x - x_1)(x - x_2)}{(x_3 - x_1)(x_3 - x_2)}f(x_3).\n",
    "\\end{equation}\n",
    "\n",
    "By inspection we see that $p(x_1)=f(x_1)$, $p(x_2)=f(x_2)$, and $p(x_3)=f(x_3)$, as required. "
   ]
  },
  {
   "cell_type": "markdown",
   "metadata": {},
   "source": [
    "### Exercise 4. [Paper]\n",
    "Verify the above expression for $p(x)$."
   ]
  },
  {
   "cell_type": "markdown",
   "metadata": {},
   "source": [
    "### Exercise 5. [Paper]\n",
    "Re-derive the above expressions from the Taylor series approximations of $f(x)$ in the neighborhoods of $x_1$, $x_2$, and $x_3$."
   ]
  },
  {
   "cell_type": "markdown",
   "metadata": {},
   "source": [
    "### Exercise 6. [Paper]\n",
    "Express $p(x)$ in terms of weight functions, and analyze the behavior of those functions in the neighborhoods of $x_1$, $x_2$, and $x_3$.\n",
    "\n",
    "**Solution:**\n",
    "\n",
    "\\begin{equation}\n",
    "   p(x) = L_1(x) f(x_1) + L_2(x) f(x_2) + L_3(x) f(x_3),\n",
    "\\end{equation}\n",
    "\n",
    "where \n",
    "\n",
    "\\begin{equation}\n",
    "   L_1(x) = \\frac{(x - x_2)(x - x_3)}{(x_1 - x_2)(x_1 - x_3)}\n",
    "   \\quad,\\quad\n",
    "   L_2(x) = \\frac{(x - x_1)(x - x_3)}{(x_2 - x_1)(x_2 - x_3)}\n",
    "   \\quad,\\quad\n",
    "   L_3(x) = \\frac{(x - x_1)(x - x_2)}{(x_3 - x_1)(x_3 - x_2)}   \n",
    "\\end{equation}\n",
    "\n",
    "with asymptotic properties\n",
    "\n",
    "\\begin{align*}\n",
    "   &\\text{as } x\\rightarrow x_1: \n",
    "      \\quad L_1\\rightarrow 1 \\quad,\\quad L_2\\rightarrow 0 \\quad,\\quad L_3\\rightarrow 0\\\\\n",
    "   &\\text{as } x\\rightarrow x_2: \n",
    "      \\quad L_1\\rightarrow 0 \\quad,\\quad L_2\\rightarrow 1 \\quad,\\quad L_3\\rightarrow 0\\\\\n",
    "   &\\text{as } x\\rightarrow x_3: \n",
    "      \\quad L_1\\rightarrow 0 \\quad,\\quad L_2\\rightarrow 0 \\quad,\\quad L_3\\rightarrow 1\\\\\n",
    "\\end{align*}\n",
    "\n",
    "As a result, $p(x_1)\\rightarrow f_1$, $p(x_2)\\rightarrow f_2$, and $p(x_3)\\rightarrow f_3$."
   ]
  },
  {
   "cell_type": "markdown",
   "metadata": {},
   "source": [
    "### Exercise 7. [Coding]\n",
    "Extend your linear interpolation program above to the case of quadratic interpolation, given three data points. Plot the interpolating function along with the given data. "
   ]
  },
  {
   "cell_type": "code",
   "execution_count": 2,
   "metadata": {},
   "outputs": [
    {
     "data": {
      "image/png": "[encoded data removed]",
      "text/plain": [
       "<matplotlib.figure.Figure at 0x7f9109edeb70>"
      ]
     },
     "metadata": {},
     "output_type": "display_data"
    }
   ],
   "source": [
    "import numpy as np\n",
    "import matplotlib.pyplot as plt\n",
    "%matplotlib inline\n",
    "\n",
    "def interpQuad(x, xdata, fdata) :\n",
    "    \"\"\" quadratic interpolation function\n",
    "    \n",
    "    INPUT:\n",
    "    x = grid point where function value is wanted\n",
    "    xdata = [x1,x2,x3], 1D array of grid points where function values are given\n",
    "    fdata = [f1,f2,f3], 1D array of function values at given grid points\n",
    "\n",
    "    OUTPUT:\n",
    "    p = value of interpolating function at grid point\n",
    "    \"\"\"\n",
    "\n",
    "    x1 = xdata[0]\n",
    "    x2 = xdata[1]\n",
    "    x3 = xdata[2]\n",
    "    f1 = fdata[0]\n",
    "    f2 = fdata[1]\n",
    "    f3 = fdata[2]\n",
    "    L1 = (x - x2)*(x - x3)/((x1 - x2)*(x1 - x3))\n",
    "    L2 = (x - x3)*(x - x1)/((x2 - x3)*(x2 - x1))\n",
    "    L3 = (x - x1)*(x - x2)/((x3 - x1)*(x3 - x2))\n",
    "    p = L1*f1 + L2*f2 + L3*f3\n",
    "    return p\n",
    "\n",
    "data = np.array([[0,0],[3,7],[-2,16]])\n",
    "xdata = data[:,0]\n",
    "ydata = data[:,1]\n",
    "\n",
    "xmin = np.amin(xdata)\n",
    "xmax = np.amax(xdata)\n",
    "\n",
    "x = np.linspace(xmin-1,xmax+1,100)\n",
    "y = interpQuad(x, xdata, ydata)\n",
    "\n",
    "fig, ax = plt.subplots()\n",
    "ax.plot(x, y, color=\"blue\", label=\"interpolation\")\n",
    "ax.plot(xdata, ydata, 'rs', markersize=5, label=\"data\")\n",
    "ax.legend(bbox_to_anchor=(1.02,1),loc=2)\n",
    "plt.show()"
   ]
  },
  {
   "cell_type": "markdown",
   "metadata": {},
   "source": [
    "## Nth-Order Interpolating Polynomial\n",
    "\n",
    "If $N+1$ data are given ($f(x_1),\\ldots,f(x_{N+1})$) then the $N$th-order interpolating polynomial can be constructed using\n",
    "\n",
    "\\begin{equation}\n",
    "   p(x) = L_1(x)f(x_1) + \\cdots + L_{N+1}(x)f(x_{N+1})\n",
    "   = \\sum_{i=1}^{N+1} L_{i}(x) f(x_i),\n",
    "\\end{equation}\n",
    "\n",
    "where \n",
    "\n",
    "\\begin{equation}\n",
    "   L^{(N)}_{i}(x) = \\prod_{j=1, j\\neq i}^{N}\\frac{(x - x_j)}{(x_i - x_j)}.\n",
    "\\end{equation}\n",
    "\n",
    "For example, for $N=4$ (cubic interpolation) and $i=3$:\n",
    "\n",
    "\\begin{equation}\n",
    "   L^{(4)}_{3}(x) = \\prod_{j=1, j\\neq 3}^{4}\\frac{(x - x_j)}{(x_3 - x_j)}\n",
    "   = \\frac{(x - x_1)(x - x_2)(x - x_4)}{(x_3 - x_1)(x_3 - x_2)(x_3 - x_4)}.\n",
    "\\end{equation}\n"
   ]
  },
  {
   "cell_type": "markdown",
   "metadata": {},
   "source": [
    "### Exercise 8. [Paper]\n",
    "Verify the above expression for $p(x)$ for the case of cubic interpolation ($N=4$)."
   ]
  },
  {
   "cell_type": "markdown",
   "metadata": {},
   "source": [
    "### Exercise 9. [Coding]\n",
    "Extend your quadratic interpolation program above to the general case."
   ]
  },
  {
   "cell_type": "code",
   "execution_count": 3,
   "metadata": {},
   "outputs": [
    {
     "data": {
      "image/png": "[encoded data removed]",
      "text/plain": [
       "<matplotlib.figure.Figure at 0x7f9109ede0b8>"
      ]
     },
     "metadata": {},
     "output_type": "display_data"
    }
   ],
   "source": [
    "import numpy as np\n",
    "import matplotlib.pyplot as plt\n",
    "%matplotlib inline\n",
    "\n",
    "def interp(x, xdata, fdata) :\n",
    "    \"\"\" interpolation function\n",
    "    \n",
    "    INPUT:\n",
    "    x = grid point where function value is wanted\n",
    "    xdata = [x1,...,xN], 1D array of grid points where function values are given\n",
    "    fdata = [f1,...,fN], 1D array of function values at given grid points\n",
    "\n",
    "    OUTPUT:\n",
    "    p = value of interpolating function at grid point\n",
    "    \"\"\"\n",
    "    \n",
    "    # initialize interpolating function\n",
    "    p = 0\n",
    "        \n",
    "    # loop to calculate basis functions\n",
    "    for i in range(len(xdata)):\n",
    "        numerator = 1   # initialize numerator\n",
    "        denominator = 1 # initialize denominator\n",
    "        for j in range(len(xdata)):\n",
    "            if j!=i:\n",
    "                numerator = numerator*(x - xdata[j])\n",
    "                denominator = denominator*(xdata[i] - xdata[j])\n",
    "\n",
    "        Li = numerator/denominator\n",
    "        p = p + Li*fdata[i]\n",
    "            \n",
    "    return p\n",
    "\n",
    "# enter input data \n",
    "data = np.array([[-1,10],[0,5],[1,-7],[2,-12]]) # <-- ENTER DATA HERE\n",
    "xdata = data[:,0]\n",
    "ydata = data[:,1]\n",
    "\n",
    "# define x-grid\n",
    "xmin = np.amin(xdata)\n",
    "xmax = np.amax(xdata)\n",
    "x = np.linspace(xmin-1, xmax+1, 100)\n",
    "\n",
    "# get interpolating polynomial on grid\n",
    "y = interp(x, xdata, ydata)\n",
    "\n",
    "# plot\n",
    "fig, ax = plt.subplots()\n",
    "ax.plot(x, y, color=\"blue\", label=\"interpolation\")\n",
    "ax.plot(xdata, ydata, 'rs', markersize=5, label=\"data\")\n",
    "ax.legend(bbox_to_anchor=(1.02,1), loc=2)\n",
    "plt.show()"
   ]
  },
  {
   "cell_type": "markdown",
   "metadata": {},
   "source": [
    "### Exercise 10. [Coding]\n",
    "Using the tabulated values for the Bessel functions below, estimate $J_1(5.5)$ by linear, quadratic, and cubic interpolation. \n",
    "\n",
    "\\begin{align*}\n",
    "   J_1(0.0) &= 0.00000\\,00000 \\\\\n",
    "   J_1(1.0) &= 0.44005\\,05857 \\\\\n",
    "   J_1(2.0) &= 0.57672\\,48078 \\\\\n",
    "   J_1(3.0) &= 0.33905\\,89585 \\\\\n",
    "   J_1(4.0) &= -0.06604\\,33280 \\\\\n",
    "   J_1(5.0) &= -0.32757\\,91376 \\\\\n",
    "   J_1(6.0) &= -0.27668\\,38581 \\\\\n",
    "   J_1(7.0) &= -0.00468\\,28235 \\\\\n",
    "   J_1(8.0) &= 0.23463\\,63469 \\\\\n",
    "   J_1(9.0) &= 0.24531\\,17866 \\\\\n",
    "   J_1(10.0) &= 0.04347\\,27462\n",
    "\\end{align*}\n"
   ]
  },
  {
   "cell_type": "code",
   "execution_count": 5,
   "metadata": {},
   "outputs": [
    {
     "name": "stdout",
     "output_type": "stream",
     "text": [
      "linear interpolation                     =  -0.4583470424\n",
      "quadratic interpolation (left-weighted)  =  -0.404509613563\n",
      "quadratic interpolation (right-weighted) =  -0.341185383988\n",
      "cubic interpolation                      =  -0.35173942225\n",
      "quintic interpolation                    =  -0.342959170183\n",
      "heptic interpolation                     =  -0.341449659433\n",
      "ninth-order interpolation                =  -0.341440842728\n"
     ]
    }
   ],
   "source": [
    "x = 5.5\n",
    "\n",
    "J1 = np.zeros((11,2))\n",
    "J1[0,:] = [0.0, 0.0000000000]\n",
    "J1[1,:] = [1.0, 0.4400505857]\n",
    "J1[2,:] = [2.0, 0.5767248078]\n",
    "J1[3,:] = [3.0, 0.3390589585]\n",
    "J1[4,:] = [4.0, -0.0660433280]\n",
    "J1[5,:] = [5.0, -0.3275791376]\n",
    "J1[6,:] = [6.0, -0.2766838581]\n",
    "J1[7,:] = [7.0, -0.0046828235]\n",
    "J1[8,:] = [8.0, 0.2346363469]\n",
    "J1[9,:] = [9.0, 0.2453117866]\n",
    "J1[10,:] = [10.0, 0.0434727462]\n",
    "\n",
    "# linear interpolation\n",
    "data_lin = np.array(J1[4:6,:])\n",
    "xdata = data_lin[:,0]\n",
    "ydata = data_lin[:,1]\n",
    "lin = interp(x, xdata, ydata)\n",
    "\n",
    "# quadratic interpolation (left-weighted)\n",
    "data_quadL = np.array(J1[3:6,:])\n",
    "xdata = data_quadL[:,0]\n",
    "ydata = data_quadL[:,1]\n",
    "quadL = interp(x, xdata, ydata)\n",
    "\n",
    "# quadratic interpolation (right-weighted)\n",
    "data_quadR = np.array(J1[4:7,:])\n",
    "xdata = data_quadR[:,0]\n",
    "ydata = data_quadR[:,1]\n",
    "quadR = interp(x, xdata, ydata)\n",
    "\n",
    "# cubic interpolation\n",
    "data_cubic = np.array(J1[3:7,:])\n",
    "xdata = data_cubic[:,0]\n",
    "ydata = data_cubic[:,1]\n",
    "cubic = interp(x, xdata, ydata)\n",
    "\n",
    "# quintic interpolation\n",
    "data_quint = np.array(J1[2:8,:])\n",
    "xdata = data_quint[:,0]\n",
    "ydata = data_quint[:,1]\n",
    "quint = interp(x, xdata, ydata)\n",
    "\n",
    "# heptic interpolation\n",
    "data_hept = np.array(J1[1:10,:])\n",
    "xdata = data_hept[:,0]\n",
    "ydata = data_hept[:,1]\n",
    "hept = interp(x, xdata, ydata)\n",
    "\n",
    "# ninth-order interpolation\n",
    "data_ninth = np.array(J1[:,:])\n",
    "xdata = data_ninth[:,0]\n",
    "ydata = data_ninth[:,1]\n",
    "ninth = interp(x, xdata, ydata)\n",
    "\n",
    "print(\"linear interpolation                     = \",lin)\n",
    "print(\"quadratic interpolation (left-weighted)  = \",quadL)\n",
    "print(\"quadratic interpolation (right-weighted) = \",quadR)\n",
    "print(\"cubic interpolation                      = \",cubic)\n",
    "print(\"quintic interpolation                    = \",quint)\n",
    "print(\"heptic interpolation                     = \",hept)\n",
    "print(\"ninth-order interpolation                = \",ninth)"
   ]
  },
  {
   "cell_type": "code",
   "execution_count": null,
   "metadata": {},
   "outputs": [],
   "source": []
  }
 ],
 "metadata": {
  "kernelspec": {
   "display_name": "Python 2",
   "language": "python",
   "name": "python2"
  },
  "language_info": {
   "codemirror_mode": {
    "name": "ipython",
    "version": 3
   },
   "file_extension": ".py",
   "mimetype": "text/x-python",
   "name": "python",
   "nbconvert_exporter": "python",
   "pygments_lexer": "ipython3",
   "version": "3.5.2"
  }
 },
 "nbformat": 4,
 "nbformat_minor": 2
}
