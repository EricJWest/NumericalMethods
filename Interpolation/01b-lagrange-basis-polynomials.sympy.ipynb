{
 "cells": [
  {
   "cell_type": "markdown",
   "metadata": {},
   "source": [
    "# Lagrange Basis Polynomials"
   ]
  },
  {
   "cell_type": "code",
   "execution_count": 1,
   "metadata": {},
   "outputs": [],
   "source": [
    "import sympy as sym\n",
    "sym.init_printing()"
   ]
  },
  {
   "cell_type": "markdown",
   "metadata": {},
   "source": [
    "## Case for n=1:"
   ]
  },
  {
   "cell_type": "code",
   "execution_count": 2,
   "metadata": {},
   "outputs": [
    {
     "data": {
      "image/png": "[encoded data removed]",
      "text/latex": [
       "$$\\left( x \\mapsto a_{0} + a_{1} x \\right)$$"
      ],
      "text/plain": [
       "x ↦ a₀ + a₁⋅x"
      ]
     },
     "execution_count": 2,
     "metadata": {},
     "output_type": "execute_result"
    }
   ],
   "source": [
    "# define interpolation polynomial with undetermined coefficients\n",
    "x = sym.Symbol('x')\n",
    "a0, a1 = sym.symbols('a0, a1')\n",
    "p = sym.Lambda(x, a0 + a1*x)\n",
    "p"
   ]
  },
  {
   "cell_type": "code",
   "execution_count": 3,
   "metadata": {},
   "outputs": [
    {
     "data": {
      "image/png": "[encoded data removed]",
      "text/latex": [
       "$$\\left ( a_{0} + a_{1} x_{0} = f_{0}, \\quad a_{0} + a_{1} x_{1} = f_{1}\\right )$$"
      ],
      "text/plain": [
       "(a₀ + a₁⋅x₀ = f₀, a₀ + a₁⋅x₁ = f₁)"
      ]
     },
     "execution_count": 3,
     "metadata": {},
     "output_type": "execute_result"
    }
   ],
   "source": [
    "# evaluate polynomial at given data points\n",
    "x0, x1 = sym.symbols('x0, x1')\n",
    "f0, f1 = sym.symbols('f0, f1')\n",
    "eq0 = sym.Eq(p(x0),f0)\n",
    "eq1 = sym.Eq(p(x1),f1)\n",
    "eq0, eq1"
   ]
  },
  {
   "cell_type": "code",
   "execution_count": 4,
   "metadata": {},
   "outputs": [
    {
     "data": {
      "image/png": "[encoded data removed]",
      "text/latex": [
       "$$\\left \\{ a_{0} : \\frac{- f_{0} x_{1} + f_{1} x_{0}}{x_{0} - x_{1}}, \\quad a_{1} : \\frac{f_{0} - f_{1}}{x_{0} - x_{1}}\\right \\}$$"
      ],
      "text/plain": [
       "⎧    -f₀⋅x₁ + f₁⋅x₀      f₀ - f₁⎫\n",
       "⎨a₀: ──────────────, a₁: ───────⎬\n",
       "⎩       x₀ - x₁          x₀ - x₁⎭"
      ]
     },
     "execution_count": 4,
     "metadata": {},
     "output_type": "execute_result"
    }
   ],
   "source": [
    "# solve the system of equations\n",
    "eqns = [eq0, eq1]\n",
    "unknowns = [a0, a1]\n",
    "soln = sym.solve(eqns, unknowns)\n",
    "soln"
   ]
  },
  {
   "cell_type": "code",
   "execution_count": 5,
   "metadata": {},
   "outputs": [
    {
     "data": {
      "image/png": "[encoded data removed]",
      "text/latex": [
       "$$\\left ( \\frac{x - x_{1}}{x_{0} - x_{1}}, \\quad \\frac{- x + x_{0}}{x_{0} - x_{1}}\\right )$$"
      ],
      "text/plain": [
       "⎛ x - x₁  -x + x₀⎞\n",
       "⎜───────, ───────⎟\n",
       "⎝x₀ - x₁  x₀ - x₁⎠"
      ]
     },
     "execution_count": 5,
     "metadata": {},
     "output_type": "execute_result"
    }
   ],
   "source": [
    "# substitute solution back into interpolating polynomial\n",
    "pp = p.subs(soln)\n",
    "L0 = pp(x).expand().collect(f0).coeff(f0).factor()\n",
    "L1 = pp(x).expand().collect(f1).coeff(f1).factor()\n",
    "L0, L1"
   ]
  },
  {
   "cell_type": "markdown",
   "metadata": {},
   "source": [
    "## Case for n=2:"
   ]
  },
  {
   "cell_type": "code",
   "execution_count": 6,
   "metadata": {},
   "outputs": [
    {
     "data": {
      "image/png": "[encoded data removed]",
      "text/latex": [
       "$$\\left( x \\mapsto a_{0} + a_{1} x + a_{2} x^{2} \\right)$$"
      ],
      "text/plain": [
       "                    2\n",
       "x ↦ a₀ + a₁⋅x + a₂⋅x "
      ]
     },
     "execution_count": 6,
     "metadata": {},
     "output_type": "execute_result"
    }
   ],
   "source": [
    "# define interpolation polynomial with undetermined coefficients\n",
    "x = sym.Symbol('x')\n",
    "a0, a1, a2 = sym.symbols('a0, a1, a2')\n",
    "p = sym.Lambda(x, a0 + a1*x + a2*x*x)\n",
    "p"
   ]
  },
  {
   "cell_type": "code",
   "execution_count": 7,
   "metadata": {},
   "outputs": [
    {
     "data": {
      "image/png": "[encoded data removed]",
      "text/latex": [
       "$$\\left ( a_{0} + a_{1} x_{0} + a_{2} x_{0}^{2} = f_{0}, \\quad a_{0} + a_{1} x_{1} + a_{2} x_{1}^{2} = f_{1}, \\quad a_{0} + a_{1} x_{2} + a_{2} x_{2}^{2} = f_{2}\\right )$$"
      ],
      "text/plain": [
       "⎛                  2                         2                         2     ⎞\n",
       "⎝a₀ + a₁⋅x₀ + a₂⋅x₀  = f₀, a₀ + a₁⋅x₁ + a₂⋅x₁  = f₁, a₀ + a₁⋅x₂ + a₂⋅x₂  = f₂⎠"
      ]
     },
     "execution_count": 7,
     "metadata": {},
     "output_type": "execute_result"
    }
   ],
   "source": [
    "# evaluate polynomial at given data points\n",
    "x0, x1, x2 = sym.symbols('x0, x1, x2')\n",
    "f0, f1, f2 = sym.symbols('f0, f1, f2')\n",
    "eq0 = sym.Eq(p(x0),f0)\n",
    "eq1 = sym.Eq(p(x1),f1)\n",
    "eq2 = sym.Eq(p(x2),f2)\n",
    "eq0, eq1, eq2"
   ]
  },
  {
   "cell_type": "code",
   "execution_count": 8,
   "metadata": {},
   "outputs": [
    {
     "data": {
      "image/png": "[encoded data removed]",
      "text/latex": [
       "$$\\left \\{ a_{0} : \\frac{f_{0} x_{1} x_{2} \\left(x_{1} - x_{2}\\right) - f_{1} x_{0} x_{2} \\left(x_{0} - x_{2}\\right) + f_{2} x_{0} x_{1} \\left(x_{0} - x_{1}\\right)}{x_{0}^{2} x_{1} - x_{0}^{2} x_{2} - x_{0} x_{1}^{2} + x_{0} x_{2}^{2} + x_{1}^{2} x_{2} - x_{1} x_{2}^{2}}, \\quad a_{1} : \\frac{- f_{0} \\left(x_{1}^{2} - x_{2}^{2}\\right) + f_{1} \\left(x_{0}^{2} - x_{2}^{2}\\right) - f_{2} \\left(x_{0}^{2} - x_{1}^{2}\\right)}{x_{0}^{2} x_{1} - x_{0}^{2} x_{2} - x_{0} x_{1}^{2} + x_{0} x_{2}^{2} + x_{1}^{2} x_{2} - x_{1} x_{2}^{2}}, \\quad a_{2} : \\frac{f_{0} \\left(x_{1} - x_{2}\\right) - f_{1} \\left(x_{0} - x_{2}\\right) + f_{2} \\left(x_{0} - x_{1}\\right)}{x_{0}^{2} x_{1} - x_{0}^{2} x_{2} - x_{0} x_{1}^{2} + x_{0} x_{2}^{2} + x_{1}^{2} x_{2} - x_{1} x_{2}^{2}}\\right \\}$$"
      ],
      "text/plain": [
       "⎧                                                                            ⎛\n",
       "⎪    f₀⋅x₁⋅x₂⋅(x₁ - x₂) - f₁⋅x₀⋅x₂⋅(x₀ - x₂) + f₂⋅x₀⋅x₁⋅(x₀ - x₁)       - f₀⋅⎝\n",
       "⎨a₀: ────────────────────────────────────────────────────────────, a₁: ───────\n",
       "⎪          2        2           2        2     2           2             2    \n",
       "⎩        x₀ ⋅x₁ - x₀ ⋅x₂ - x₀⋅x₁  + x₀⋅x₂  + x₁ ⋅x₂ - x₁⋅x₂            x₀ ⋅x₁ \n",
       "\n",
       "  2     2⎞      ⎛  2     2⎞      ⎛  2     2⎞                                  \n",
       "x₁  - x₂ ⎠ + f₁⋅⎝x₀  - x₂ ⎠ - f₂⋅⎝x₀  - x₁ ⎠           f₀⋅(x₁ - x₂) - f₁⋅(x₀ -\n",
       "────────────────────────────────────────────, a₂: ────────────────────────────\n",
       "    2           2        2     2           2        2        2           2    \n",
       "- x₀ ⋅x₂ - x₀⋅x₁  + x₀⋅x₂  + x₁ ⋅x₂ - x₁⋅x₂       x₀ ⋅x₁ - x₀ ⋅x₂ - x₀⋅x₁  + x\n",
       "\n",
       "                       ⎫\n",
       " x₂) + f₂⋅(x₀ - x₁)    ⎪\n",
       "───────────────────────⎬\n",
       "    2     2           2⎪\n",
       "₀⋅x₂  + x₁ ⋅x₂ - x₁⋅x₂ ⎭"
      ]
     },
     "execution_count": 8,
     "metadata": {},
     "output_type": "execute_result"
    }
   ],
   "source": [
    "# solve the system of equations\n",
    "eqns = [eq0, eq1, eq2]\n",
    "unknowns = [a0, a1, a2]\n",
    "soln = sym.solve(eqns, unknowns)\n",
    "soln"
   ]
  },
  {
   "cell_type": "code",
   "execution_count": 9,
   "metadata": {},
   "outputs": [
    {
     "data": {
      "image/png": "[encoded data removed]",
      "text/latex": [
       "$$\\left ( \\frac{\\left(x - x_{1}\\right) \\left(x - x_{2}\\right)}{\\left(x_{0} - x_{1}\\right) \\left(x_{0} - x_{2}\\right)}, \\quad \\frac{\\left(- x + x_{0}\\right) \\left(x - x_{2}\\right)}{\\left(x_{0} - x_{1}\\right) \\left(x_{1} - x_{2}\\right)}, \\quad - \\frac{\\left(- x + x_{0}\\right) \\left(x - x_{1}\\right)}{\\left(x_{0} - x_{2}\\right) \\left(x_{1} - x_{2}\\right)}\\right )$$"
      ],
      "text/plain": [
       "⎛ (x - x₁)⋅(x - x₂)    (-x + x₀)⋅(x - x₂)  -(-x + x₀)⋅(x - x₁) ⎞\n",
       "⎜───────────────────, ───────────────────, ────────────────────⎟\n",
       "⎝(x₀ - x₁)⋅(x₀ - x₂)  (x₀ - x₁)⋅(x₁ - x₂)  (x₀ - x₂)⋅(x₁ - x₂) ⎠"
      ]
     },
     "execution_count": 9,
     "metadata": {},
     "output_type": "execute_result"
    }
   ],
   "source": [
    "# substitute solution back into interpolating polynomial\n",
    "pp = p.subs(soln)\n",
    "L0 = pp(x).expand().collect(f0).coeff(f0).factor()\n",
    "L1 = pp(x).expand().collect(f1).coeff(f1).factor()\n",
    "L2 = pp(x).expand().collect(f2).coeff(f2).factor()\n",
    "L0, L1, L2"
   ]
  },
  {
   "cell_type": "markdown",
   "metadata": {},
   "source": [
    "## Case for n=3:"
   ]
  },
  {
   "cell_type": "code",
   "execution_count": 10,
   "metadata": {},
   "outputs": [
    {
     "data": {
      "image/png": "[encoded data removed]",
      "text/latex": [
       "$$\\left( x \\mapsto a_{0} + a_{1} x + a_{2} x^{2} + a_{3} x^{3} \\right)$$"
      ],
      "text/plain": [
       "                    2       3\n",
       "x ↦ a₀ + a₁⋅x + a₂⋅x  + a₃⋅x "
      ]
     },
     "execution_count": 10,
     "metadata": {},
     "output_type": "execute_result"
    }
   ],
   "source": [
    "# define interpolation polynomial with undetermined coefficients\n",
    "x = sym.Symbol('x')\n",
    "a0, a1, a2, a3 = sym.symbols('a0, a1, a2, a3')\n",
    "p = sym.Lambda(x, a0 + a1*x + a2*x*x + a3*x*x*x)\n",
    "p"
   ]
  },
  {
   "cell_type": "code",
   "execution_count": 11,
   "metadata": {},
   "outputs": [
    {
     "data": {
      "image/png": "[encoded data removed]",
      "text/latex": [
       "$$\\left ( a_{0} + a_{1} x_{0} + a_{2} x_{0}^{2} + a_{3} x_{0}^{3} = f_{0}, \\quad a_{0} + a_{1} x_{1} + a_{2} x_{1}^{2} + a_{3} x_{1}^{3} = f_{1}, \\quad a_{0} + a_{1} x_{2} + a_{2} x_{2}^{2} + a_{3} x_{2}^{3} = f_{2}, \\quad a_{0} + a_{1} x_{3} + a_{2} x_{3}^{2} + a_{3} x_{3}^{3} = f_{3}\\right )$$"
      ],
      "text/plain": [
       "⎛                  2        3                         2        3              \n",
       "⎝a₀ + a₁⋅x₀ + a₂⋅x₀  + a₃⋅x₀  = f₀, a₀ + a₁⋅x₁ + a₂⋅x₁  + a₃⋅x₁  = f₁, a₀ + a₁\n",
       "\n",
       "           2        3                         2        3     ⎞\n",
       "⋅x₂ + a₂⋅x₂  + a₃⋅x₂  = f₂, a₀ + a₁⋅x₃ + a₂⋅x₃  + a₃⋅x₃  = f₃⎠"
      ]
     },
     "execution_count": 11,
     "metadata": {},
     "output_type": "execute_result"
    }
   ],
   "source": [
    "# evaluate polynomial at given data points\n",
    "x0, x1, x2, x3 = sym.symbols('x0, x1, x2, x3')\n",
    "f0, f1, f2, f3 = sym.symbols('f0, f1, f2, f3')\n",
    "eq0 = sym.Eq(p(x0),f0)\n",
    "eq1 = sym.Eq(p(x1),f1)\n",
    "eq2 = sym.Eq(p(x2),f2)\n",
    "eq3 = sym.Eq(p(x3),f3)\n",
    "eq0, eq1, eq2, eq3"
   ]
  },
  {
   "cell_type": "code",
   "execution_count": 12,
   "metadata": {},
   "outputs": [
    {
     "data": {
      "image/png": "[encoded data removed]",
      "text/latex": [
       "$$\\left \\{ a_{0} : \\frac{- f_{0} x_{1} x_{2} x_{3} \\left(x_{1}^{2} x_{2} - x_{1}^{2} x_{3} - x_{1} x_{2}^{2} + x_{1} x_{3}^{2} + x_{2}^{2} x_{3} - x_{2} x_{3}^{2}\\right) + f_{1} x_{0} x_{2} x_{3} \\left(x_{0}^{2} x_{2} - x_{0}^{2} x_{3} - x_{0} x_{2}^{2} + x_{0} x_{3}^{2} + x_{2}^{2} x_{3} - x_{2} x_{3}^{2}\\right) - f_{2} x_{0} x_{1} x_{3} \\left(x_{0}^{2} x_{1} - x_{0}^{2} x_{3} - x_{0} x_{1}^{2} + x_{0} x_{3}^{2} + x_{1}^{2} x_{3} - x_{1} x_{3}^{2}\\right) + f_{3} x_{0} x_{1} x_{2} \\left(x_{0}^{2} x_{1} - x_{0}^{2} x_{2} - x_{0} x_{1}^{2} + x_{0} x_{2}^{2} + x_{1}^{2} x_{2} - x_{1} x_{2}^{2}\\right)}{x_{0}^{3} x_{1}^{2} x_{2} - x_{0}^{3} x_{1}^{2} x_{3} - x_{0}^{3} x_{1} x_{2}^{2} + x_{0}^{3} x_{1} x_{3}^{2} + x_{0}^{3} x_{2}^{2} x_{3} - x_{0}^{3} x_{2} x_{3}^{2} - x_{0}^{2} x_{1}^{3} x_{2} + x_{0}^{2} x_{1}^{3} x_{3} + x_{0}^{2} x_{1} x_{2}^{3} - x_{0}^{2} x_{1} x_{3}^{3} - x_{0}^{2} x_{2}^{3} x_{3} + x_{0}^{2} x_{2} x_{3}^{3} + x_{0} x_{1}^{3} x_{2}^{2} - x_{0} x_{1}^{3} x_{3}^{2} - x_{0} x_{1}^{2} x_{2}^{3} + x_{0} x_{1}^{2} x_{3}^{3} + x_{0} x_{2}^{3} x_{3}^{2} - x_{0} x_{2}^{2} x_{3}^{3} - x_{1}^{3} x_{2}^{2} x_{3} + x_{1}^{3} x_{2} x_{3}^{2} + x_{1}^{2} x_{2}^{3} x_{3} - x_{1}^{2} x_{2} x_{3}^{3} - x_{1} x_{2}^{3} x_{3}^{2} + x_{1} x_{2}^{2} x_{3}^{3}}, \\quad a_{1} : \\frac{f_{0} \\left(x_{1}^{3} x_{2}^{2} - x_{1}^{3} x_{3}^{2} - x_{1}^{2} x_{2}^{3} + x_{1}^{2} x_{3}^{3} + x_{2}^{3} x_{3}^{2} - x_{2}^{2} x_{3}^{3}\\right) - f_{1} \\left(x_{0}^{3} x_{2}^{2} - x_{0}^{3} x_{3}^{2} - x_{0}^{2} x_{2}^{3} + x_{0}^{2} x_{3}^{3} + x_{2}^{3} x_{3}^{2} - x_{2}^{2} x_{3}^{3}\\right) + f_{2} \\left(x_{0}^{3} x_{1}^{2} - x_{0}^{3} x_{3}^{2} - x_{0}^{2} x_{1}^{3} + x_{0}^{2} x_{3}^{3} + x_{1}^{3} x_{3}^{2} - x_{1}^{2} x_{3}^{3}\\right) - f_{3} \\left(x_{0}^{3} x_{1}^{2} - x_{0}^{3} x_{2}^{2} - x_{0}^{2} x_{1}^{3} + x_{0}^{2} x_{2}^{3} + x_{1}^{3} x_{2}^{2} - x_{1}^{2} x_{2}^{3}\\right)}{x_{0}^{3} x_{1}^{2} x_{2} - x_{0}^{3} x_{1}^{2} x_{3} - x_{0}^{3} x_{1} x_{2}^{2} + x_{0}^{3} x_{1} x_{3}^{2} + x_{0}^{3} x_{2}^{2} x_{3} - x_{0}^{3} x_{2} x_{3}^{2} - x_{0}^{2} x_{1}^{3} x_{2} + x_{0}^{2} x_{1}^{3} x_{3} + x_{0}^{2} x_{1} x_{2}^{3} - x_{0}^{2} x_{1} x_{3}^{3} - x_{0}^{2} x_{2}^{3} x_{3} + x_{0}^{2} x_{2} x_{3}^{3} + x_{0} x_{1}^{3} x_{2}^{2} - x_{0} x_{1}^{3} x_{3}^{2} - x_{0} x_{1}^{2} x_{2}^{3} + x_{0} x_{1}^{2} x_{3}^{3} + x_{0} x_{2}^{3} x_{3}^{2} - x_{0} x_{2}^{2} x_{3}^{3} - x_{1}^{3} x_{2}^{2} x_{3} + x_{1}^{3} x_{2} x_{3}^{2} + x_{1}^{2} x_{2}^{3} x_{3} - x_{1}^{2} x_{2} x_{3}^{3} - x_{1} x_{2}^{3} x_{3}^{2} + x_{1} x_{2}^{2} x_{3}^{3}}, \\quad a_{2} : \\frac{- f_{0} \\left(x_{1}^{3} x_{2} - x_{1}^{3} x_{3} - x_{1} x_{2}^{3} + x_{1} x_{3}^{3} + x_{2}^{3} x_{3} - x_{2} x_{3}^{3}\\right) + f_{1} \\left(x_{0}^{3} x_{2} - x_{0}^{3} x_{3} - x_{0} x_{2}^{3} + x_{0} x_{3}^{3} + x_{2}^{3} x_{3} - x_{2} x_{3}^{3}\\right) - f_{2} \\left(x_{0}^{3} x_{1} - x_{0}^{3} x_{3} - x_{0} x_{1}^{3} + x_{0} x_{3}^{3} + x_{1}^{3} x_{3} - x_{1} x_{3}^{3}\\right) + f_{3} \\left(x_{0}^{3} x_{1} - x_{0}^{3} x_{2} - x_{0} x_{1}^{3} + x_{0} x_{2}^{3} + x_{1}^{3} x_{2} - x_{1} x_{2}^{3}\\right)}{x_{0}^{3} x_{1}^{2} x_{2} - x_{0}^{3} x_{1}^{2} x_{3} - x_{0}^{3} x_{1} x_{2}^{2} + x_{0}^{3} x_{1} x_{3}^{2} + x_{0}^{3} x_{2}^{2} x_{3} - x_{0}^{3} x_{2} x_{3}^{2} - x_{0}^{2} x_{1}^{3} x_{2} + x_{0}^{2} x_{1}^{3} x_{3} + x_{0}^{2} x_{1} x_{2}^{3} - x_{0}^{2} x_{1} x_{3}^{3} - x_{0}^{2} x_{2}^{3} x_{3} + x_{0}^{2} x_{2} x_{3}^{3} + x_{0} x_{1}^{3} x_{2}^{2} - x_{0} x_{1}^{3} x_{3}^{2} - x_{0} x_{1}^{2} x_{2}^{3} + x_{0} x_{1}^{2} x_{3}^{3} + x_{0} x_{2}^{3} x_{3}^{2} - x_{0} x_{2}^{2} x_{3}^{3} - x_{1}^{3} x_{2}^{2} x_{3} + x_{1}^{3} x_{2} x_{3}^{2} + x_{1}^{2} x_{2}^{3} x_{3} - x_{1}^{2} x_{2} x_{3}^{3} - x_{1} x_{2}^{3} x_{3}^{2} + x_{1} x_{2}^{2} x_{3}^{3}}, \\quad a_{3} : \\frac{f_{0} \\left(x_{1}^{2} x_{2} - x_{1}^{2} x_{3} - x_{1} x_{2}^{2} + x_{1} x_{3}^{2} + x_{2}^{2} x_{3} - x_{2} x_{3}^{2}\\right) - f_{1} \\left(x_{0}^{2} x_{2} - x_{0}^{2} x_{3} - x_{0} x_{2}^{2} + x_{0} x_{3}^{2} + x_{2}^{2} x_{3} - x_{2} x_{3}^{2}\\right) + f_{2} \\left(x_{0}^{2} x_{1} - x_{0}^{2} x_{3} - x_{0} x_{1}^{2} + x_{0} x_{3}^{2} + x_{1}^{2} x_{3} - x_{1} x_{3}^{2}\\right) - f_{3} \\left(x_{0}^{2} x_{1} - x_{0}^{2} x_{2} - x_{0} x_{1}^{2} + x_{0} x_{2}^{2} + x_{1}^{2} x_{2} - x_{1} x_{2}^{2}\\right)}{x_{0}^{3} x_{1}^{2} x_{2} - x_{0}^{3} x_{1}^{2} x_{3} - x_{0}^{3} x_{1} x_{2}^{2} + x_{0}^{3} x_{1} x_{3}^{2} + x_{0}^{3} x_{2}^{2} x_{3} - x_{0}^{3} x_{2} x_{3}^{2} - x_{0}^{2} x_{1}^{3} x_{2} + x_{0}^{2} x_{1}^{3} x_{3} + x_{0}^{2} x_{1} x_{2}^{3} - x_{0}^{2} x_{1} x_{3}^{3} - x_{0}^{2} x_{2}^{3} x_{3} + x_{0}^{2} x_{2} x_{3}^{3} + x_{0} x_{1}^{3} x_{2}^{2} - x_{0} x_{1}^{3} x_{3}^{2} - x_{0} x_{1}^{2} x_{2}^{3} + x_{0} x_{1}^{2} x_{3}^{3} + x_{0} x_{2}^{3} x_{3}^{2} - x_{0} x_{2}^{2} x_{3}^{3} - x_{1}^{3} x_{2}^{2} x_{3} + x_{1}^{3} x_{2} x_{3}^{2} + x_{1}^{2} x_{2}^{3} x_{3} - x_{1}^{2} x_{2} x_{3}^{3} - x_{1} x_{2}^{3} x_{3}^{2} + x_{1} x_{2}^{2} x_{3}^{3}}\\right \\}$$"
      ],
      "text/plain": [
       "⎧                                     ⎛  2        2           2        2     2\n",
       "⎪                       - f₀⋅x₁⋅x₂⋅x₃⋅⎝x₁ ⋅x₂ - x₁ ⋅x₃ - x₁⋅x₂  + x₁⋅x₃  + x₂ \n",
       "⎨a₀: ─────────────────────────────────────────────────────────────────────────\n",
       "⎪      3   2        3   2        3      2     3      2     3   2        3     \n",
       "⎩    x₀ ⋅x₁ ⋅x₂ - x₀ ⋅x₁ ⋅x₃ - x₀ ⋅x₁⋅x₂  + x₀ ⋅x₁⋅x₃  + x₀ ⋅x₂ ⋅x₃ - x₀ ⋅x₂⋅x\n",
       "\n",
       "           2⎞               ⎛  2        2           2        2     2          \n",
       "⋅x₃ - x₂⋅x₃ ⎠ + f₁⋅x₀⋅x₂⋅x₃⋅⎝x₀ ⋅x₂ - x₀ ⋅x₃ - x₀⋅x₂  + x₀⋅x₃  + x₂ ⋅x₃ - x₂⋅x\n",
       "──────────────────────────────────────────────────────────────────────────────\n",
       " 2     2   3        2   3        2      3     2      3     2   3        2     \n",
       "₃  - x₀ ⋅x₁ ⋅x₂ + x₀ ⋅x₁ ⋅x₃ + x₀ ⋅x₁⋅x₂  - x₀ ⋅x₁⋅x₃  - x₀ ⋅x₂ ⋅x₃ + x₀ ⋅x₂⋅x\n",
       "\n",
       " 2⎞               ⎛  2        2           2        2     2           2⎞       \n",
       "₃ ⎠ - f₂⋅x₀⋅x₁⋅x₃⋅⎝x₀ ⋅x₁ - x₀ ⋅x₃ - x₀⋅x₁  + x₀⋅x₃  + x₁ ⋅x₃ - x₁⋅x₃ ⎠ + f₃⋅x\n",
       "──────────────────────────────────────────────────────────────────────────────\n",
       " 3        3   2        3   2        2   3        2   3        3   2        2  \n",
       "₃  + x₀⋅x₁ ⋅x₂  - x₀⋅x₁ ⋅x₃  - x₀⋅x₁ ⋅x₂  + x₀⋅x₁ ⋅x₃  + x₀⋅x₂ ⋅x₃  - x₀⋅x₂ ⋅x\n",
       "\n",
       "        ⎛  2        2           2        2     2           2⎞                 \n",
       "₀⋅x₁⋅x₂⋅⎝x₀ ⋅x₁ - x₀ ⋅x₂ - x₀⋅x₁  + x₀⋅x₂  + x₁ ⋅x₂ - x₁⋅x₂ ⎠                 \n",
       "──────────────────────────────────────────────────────────────────────────────\n",
       " 3     3   2        3      2     2   3        2      3        3   2        2  \n",
       "₃  - x₁ ⋅x₂ ⋅x₃ + x₁ ⋅x₂⋅x₃  + x₁ ⋅x₂ ⋅x₃ - x₁ ⋅x₂⋅x₃  - x₁⋅x₂ ⋅x₃  + x₁⋅x₂ ⋅x\n",
       "\n",
       "                                     ⎛  3   2     3   2     2   3     2   3   \n",
       "                                  f₀⋅⎝x₁ ⋅x₂  - x₁ ⋅x₃  - x₁ ⋅x₂  + x₁ ⋅x₃  + \n",
       "──, a₁: ──────────────────────────────────────────────────────────────────────\n",
       " 3        3   2        3   2        3      2     3      2     3   2        3  \n",
       "₃       x₀ ⋅x₁ ⋅x₂ - x₀ ⋅x₁ ⋅x₃ - x₀ ⋅x₁⋅x₂  + x₀ ⋅x₁⋅x₃  + x₀ ⋅x₂ ⋅x₃ - x₀ ⋅x\n",
       "\n",
       "  3   2     2   3⎞      ⎛  3   2     3   2     2   3     2   3     3   2     2\n",
       "x₂ ⋅x₃  - x₂ ⋅x₃ ⎠ - f₁⋅⎝x₀ ⋅x₂  - x₀ ⋅x₃  - x₀ ⋅x₂  + x₀ ⋅x₃  + x₂ ⋅x₃  - x₂ \n",
       "──────────────────────────────────────────────────────────────────────────────\n",
       "    2     2   3        2   3        2      3     2      3     2   3        2  \n",
       "₂⋅x₃  - x₀ ⋅x₁ ⋅x₂ + x₀ ⋅x₁ ⋅x₃ + x₀ ⋅x₁⋅x₂  - x₀ ⋅x₁⋅x₃  - x₀ ⋅x₂ ⋅x₃ + x₀ ⋅x\n",
       "\n",
       "   3⎞      ⎛  3   2     3   2     2   3     2   3     3   2     2   3⎞      ⎛ \n",
       "⋅x₃ ⎠ + f₂⋅⎝x₀ ⋅x₁  - x₀ ⋅x₃  - x₀ ⋅x₁  + x₀ ⋅x₃  + x₁ ⋅x₃  - x₁ ⋅x₃ ⎠ - f₃⋅⎝x\n",
       "──────────────────────────────────────────────────────────────────────────────\n",
       "    3        3   2        3   2        2   3        2   3        3   2        \n",
       "₂⋅x₃  + x₀⋅x₁ ⋅x₂  - x₀⋅x₁ ⋅x₃  - x₀⋅x₁ ⋅x₂  + x₀⋅x₁ ⋅x₃  + x₀⋅x₂ ⋅x₃  - x₀⋅x₂\n",
       "\n",
       " 3   2     3   2     2   3     2   3     3   2     2   3⎞                     \n",
       "₀ ⋅x₁  - x₀ ⋅x₂  - x₀ ⋅x₁  + x₀ ⋅x₂  + x₁ ⋅x₂  - x₁ ⋅x₂ ⎠                     \n",
       "──────────────────────────────────────────────────────────────────────────────\n",
       "2   3     3   2        3      2     2   3        2      3        3   2        \n",
       " ⋅x₃  - x₁ ⋅x₂ ⋅x₃ + x₁ ⋅x₂⋅x₃  + x₁ ⋅x₂ ⋅x₃ - x₁ ⋅x₂⋅x₃  - x₁⋅x₂ ⋅x₃  + x₁⋅x₂\n",
       "\n",
       "                                                     ⎛  3        3           3\n",
       "                                                - f₀⋅⎝x₁ ⋅x₂ - x₁ ⋅x₃ - x₁⋅x₂ \n",
       "─────, a₂: ───────────────────────────────────────────────────────────────────\n",
       "2   3        3   2        3   2        3      2     3      2     3   2        \n",
       " ⋅x₃       x₀ ⋅x₁ ⋅x₂ - x₀ ⋅x₁ ⋅x₃ - x₀ ⋅x₁⋅x₂  + x₀ ⋅x₁⋅x₃  + x₀ ⋅x₂ ⋅x₃ - x₀\n",
       "\n",
       "        3     3           3⎞      ⎛  3        3           3        3     3    \n",
       " + x₁⋅x₃  + x₂ ⋅x₃ - x₂⋅x₃ ⎠ + f₁⋅⎝x₀ ⋅x₂ - x₀ ⋅x₃ - x₀⋅x₂  + x₀⋅x₃  + x₂ ⋅x₃ \n",
       "──────────────────────────────────────────────────────────────────────────────\n",
       "3      2     2   3        2   3        2      3     2      3     2   3        \n",
       " ⋅x₂⋅x₃  - x₀ ⋅x₁ ⋅x₂ + x₀ ⋅x₁ ⋅x₃ + x₀ ⋅x₁⋅x₂  - x₀ ⋅x₁⋅x₃  - x₀ ⋅x₂ ⋅x₃ + x₀\n",
       "\n",
       "       3⎞      ⎛  3        3           3        3     3           3⎞      ⎛  3\n",
       "- x₂⋅x₃ ⎠ - f₂⋅⎝x₀ ⋅x₁ - x₀ ⋅x₃ - x₀⋅x₁  + x₀⋅x₃  + x₁ ⋅x₃ - x₁⋅x₃ ⎠ + f₃⋅⎝x₀ \n",
       "──────────────────────────────────────────────────────────────────────────────\n",
       "2      3        3   2        3   2        2   3        2   3        3   2     \n",
       " ⋅x₂⋅x₃  + x₀⋅x₁ ⋅x₂  - x₀⋅x₁ ⋅x₃  - x₀⋅x₁ ⋅x₂  + x₀⋅x₁ ⋅x₃  + x₀⋅x₂ ⋅x₃  - x₀\n",
       "\n",
       "        3           3        3     3           3⎞                             \n",
       "⋅x₁ - x₀ ⋅x₂ - x₀⋅x₁  + x₀⋅x₂  + x₁ ⋅x₂ - x₁⋅x₂ ⎠                             \n",
       "──────────────────────────────────────────────────────────────────────────────\n",
       "   2   3     3   2        3      2     2   3        2      3        3   2     \n",
       "⋅x₂ ⋅x₃  - x₁ ⋅x₂ ⋅x₃ + x₁ ⋅x₂⋅x₃  + x₁ ⋅x₂ ⋅x₃ - x₁ ⋅x₂⋅x₃  - x₁⋅x₂ ⋅x₃  + x₁\n",
       "\n",
       "                                                       ⎛  2        2          \n",
       "                                                    f₀⋅⎝x₁ ⋅x₂ - x₁ ⋅x₃ - x₁⋅x\n",
       "────────, a₃: ────────────────────────────────────────────────────────────────\n",
       "   2   3        3   2        3   2        3      2     3      2     3   2     \n",
       "⋅x₂ ⋅x₃       x₀ ⋅x₁ ⋅x₂ - x₀ ⋅x₁ ⋅x₃ - x₀ ⋅x₁⋅x₂  + x₀ ⋅x₁⋅x₃  + x₀ ⋅x₂ ⋅x₃ -\n",
       "\n",
       " 2        2     2           2⎞      ⎛  2        2           2        2     2  \n",
       "₂  + x₁⋅x₃  + x₂ ⋅x₃ - x₂⋅x₃ ⎠ - f₁⋅⎝x₀ ⋅x₂ - x₀ ⋅x₃ - x₀⋅x₂  + x₀⋅x₃  + x₂ ⋅x\n",
       "──────────────────────────────────────────────────────────────────────────────\n",
       "   3      2     2   3        2   3        2      3     2      3     2   3     \n",
       " x₀ ⋅x₂⋅x₃  - x₀ ⋅x₁ ⋅x₂ + x₀ ⋅x₁ ⋅x₃ + x₀ ⋅x₁⋅x₂  - x₀ ⋅x₁⋅x₃  - x₀ ⋅x₂ ⋅x₃ +\n",
       "\n",
       "         2⎞      ⎛  2        2           2        2     2           2⎞      ⎛ \n",
       "₃ - x₂⋅x₃ ⎠ + f₂⋅⎝x₀ ⋅x₁ - x₀ ⋅x₃ - x₀⋅x₁  + x₀⋅x₃  + x₁ ⋅x₃ - x₁⋅x₃ ⎠ - f₃⋅⎝x\n",
       "──────────────────────────────────────────────────────────────────────────────\n",
       "   2      3        3   2        3   2        2   3        2   3        3   2  \n",
       " x₀ ⋅x₂⋅x₃  + x₀⋅x₁ ⋅x₂  - x₀⋅x₁ ⋅x₃  - x₀⋅x₁ ⋅x₂  + x₀⋅x₁ ⋅x₃  + x₀⋅x₂ ⋅x₃  -\n",
       "\n",
       " 2        2           2        2     2           2⎞                           \n",
       "₀ ⋅x₁ - x₀ ⋅x₂ - x₀⋅x₁  + x₀⋅x₂  + x₁ ⋅x₂ - x₁⋅x₂ ⎠                           \n",
       "──────────────────────────────────────────────────────────────────────────────\n",
       "      2   3     3   2        3      2     2   3        2      3        3   2  \n",
       " x₀⋅x₂ ⋅x₃  - x₁ ⋅x₂ ⋅x₃ + x₁ ⋅x₂⋅x₃  + x₁ ⋅x₂ ⋅x₃ - x₁ ⋅x₂⋅x₃  - x₁⋅x₂ ⋅x₃  +\n",
       "\n",
       "           ⎫\n",
       "           ⎪\n",
       "───────────⎬\n",
       "      2   3⎪\n",
       " x₁⋅x₂ ⋅x₃ ⎭"
      ]
     },
     "execution_count": 12,
     "metadata": {},
     "output_type": "execute_result"
    }
   ],
   "source": [
    "# solve the system of equations\n",
    "eqns = [eq0, eq1, eq2, eq3]\n",
    "unknowns = [a0, a1, a2, a3]\n",
    "soln = sym.solve(eqns, unknowns)\n",
    "soln"
   ]
  },
  {
   "cell_type": "code",
   "execution_count": 13,
   "metadata": {},
   "outputs": [
    {
     "data": {
      "image/png": "[encoded data removed]",
      "text/latex": [
       "$$\\left ( \\frac{\\left(x - x_{1}\\right) \\left(x - x_{2}\\right) \\left(x - x_{3}\\right)}{\\left(x_{0} - x_{1}\\right) \\left(x_{0} - x_{2}\\right) \\left(x_{0} - x_{3}\\right)}, \\quad \\frac{\\left(- x + x_{0}\\right) \\left(x - x_{2}\\right) \\left(x - x_{3}\\right)}{\\left(x_{0} - x_{1}\\right) \\left(x_{1} - x_{2}\\right) \\left(x_{1} - x_{3}\\right)}, \\quad - \\frac{\\left(- x + x_{0}\\right) \\left(x - x_{1}\\right) \\left(x - x_{3}\\right)}{\\left(x_{0} - x_{2}\\right) \\left(x_{1} - x_{2}\\right) \\left(x_{2} - x_{3}\\right)}, \\quad \\frac{\\left(- x + x_{0}\\right) \\left(x - x_{1}\\right) \\left(x - x_{2}\\right)}{\\left(x_{0} - x_{3}\\right) \\left(x_{1} - x_{3}\\right) \\left(x_{2} - x_{3}\\right)}\\right )$$"
      ],
      "text/plain": [
       "⎛  (x - x₁)⋅(x - x₂)⋅(x - x₃)    (-x + x₀)⋅(x - x₂)⋅(x - x₃)   -(-x + x₀)⋅(x -\n",
       "⎜─────────────────────────────, ─────────────────────────────, ───────────────\n",
       "⎝(x₀ - x₁)⋅(x₀ - x₂)⋅(x₀ - x₃)  (x₀ - x₁)⋅(x₁ - x₂)⋅(x₁ - x₃)  (x₀ - x₂)⋅(x₁ -\n",
       "\n",
       " x₁)⋅(x - x₃)    (-x + x₀)⋅(x - x₁)⋅(x - x₂) ⎞\n",
       "──────────────, ─────────────────────────────⎟\n",
       " x₂)⋅(x₂ - x₃)  (x₀ - x₃)⋅(x₁ - x₃)⋅(x₂ - x₃)⎠"
      ]
     },
     "execution_count": 13,
     "metadata": {},
     "output_type": "execute_result"
    }
   ],
   "source": [
    "# substitute solution back into interpolating polynomial\n",
    "pp = p.subs(soln)\n",
    "L0 = pp(x).expand().collect(f0).coeff(f0).factor()\n",
    "L1 = pp(x).expand().collect(f1).coeff(f1).factor()\n",
    "L2 = pp(x).expand().collect(f2).coeff(f2).factor()\n",
    "L3 = pp(x).expand().collect(f3).coeff(f3).factor()\n",
    "L0, L1, L2, L3"
   ]
  },
  {
   "cell_type": "code",
   "execution_count": null,
   "metadata": {},
   "outputs": [],
   "source": []
  }
 ],
 "metadata": {
  "kernelspec": {
   "display_name": "Python 3",
   "language": "python",
   "name": "python3"
  },
  "language_info": {
   "codemirror_mode": {
    "name": "ipython",
    "version": 3
   },
   "file_extension": ".py",
   "mimetype": "text/x-python",
   "name": "python",
   "nbconvert_exporter": "python",
   "pygments_lexer": "ipython3",
   "version": "3.6.7"
  }
 },
 "nbformat": 4,
 "nbformat_minor": 2
}
