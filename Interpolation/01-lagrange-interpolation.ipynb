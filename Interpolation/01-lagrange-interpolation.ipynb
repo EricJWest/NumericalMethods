{
 "cells": [
  {
   "cell_type": "markdown",
   "metadata": {},
   "source": [
    "# Lagrange Interpolation\n",
    "---\n",
    "\n",
    "GENERAL PROBLEM: Suppose we are given values of some function $f(x_{0}),\\ldots,f(x_{n})$, at the points $x_{0},\\ldots,x_{n}$. Using these data alone, we want to find a polynomial, $p(x)$, that passes through those points and thereby approximates the function.\n",
    "\n",
    "IDEA: Construct a generic polynomial with undetermined coefficients related to the function and its derivates at the various points (say, using Taylor series expansions about different points). Set up an algebraic system of equations for the undetermined coefficients in terms of the given data. Solve.\n",
    "\n",
    "PRE-REQUISITES:\n",
    "- [None]\n",
    "\n",
    "REFERENCES:\n",
    "- [1] DeVries and Hasbun, *A First Course in Computational Physics, 2nd edition*\n",
    "- [2] Burden and Faires, *Numerical Analysis, 7th edition*\n",
    "- [3] Ralston and Rabinowitz, *A First Course in Numerical Analysis, 2nd edition*\n",
    "- [4] Bulirsch and Stoer, *Introduction to Numerical Analysis, 2nd edition*"
   ]
  },
  {
   "cell_type": "markdown",
   "metadata": {},
   "source": [
    "## Warm-Up: Linear Interpolation\n",
    "\n",
    "Suppose we are given $f(x_{0})$ and $f(x_{1})$ at the points $x_{0}$ and $x_{1}$, respectively. We can easily find the unique line that passes through those points as follows. The slope of the line is\n",
    "\n",
    "\\begin{equation}\n",
    "   \\text{slope} = \\frac{f_{1} - f_{0}}{x_{1} - x_{0}},\n",
    "\\end{equation}\n",
    "\n",
    "where $f_{i}=f(x_{i})$. The equation for the line can therefore be written\n",
    "\n",
    "\\begin{equation}\n",
    "   p(x) = \\frac{(f_{1} - f_{0})}{(x_{1} - x_{0})}x + p(0).\n",
    "\\end{equation}\n",
    "\n",
    "Evaluating this at $x_{0}$ gives\n",
    "\n",
    "\\begin{equation}\n",
    "   p(x_{0}) = f_{0} = \\frac{(f_{1} - f_{0})}{(x_{1} - x_{0})}x_{0} + p(0).\n",
    "\\end{equation}\n",
    "\n",
    "We now elimate $p(0)$ in terms of the given data. Solving for $p(0)$ gives\n",
    "\n",
    "\\begin{equation}\n",
    "   p(0) = \\frac{(x_{1} f_{0} - f_{1} x_{0})}{(x_{1} - x_{0})}.\n",
    "\\end{equation}\n",
    "\n",
    "Plugging this back into the expression for $p(x)$ above gives\n",
    "\n",
    "\\begin{equation}\n",
    "   p(x) = \\frac{(x - x_{1})}{(x_{0} - x_{1})}f(x_{0}) \n",
    "   + \\frac{(x - x_{0})}{(x_{1} - x_{0})}f(x_{1}).\n",
    "\\end{equation}\n",
    "\n",
    "By inspection we see that $p(x_{0})=f(x_{0})$ and $p(x_{1})=f(x_{1})$, as required. The function $p(x)$ is therefore the unique line that passes through $f(x_{0})$ and $f(x_{1})$. This solution is the (first or n=1) Lagrange interpolating polynomial. In this case, the polynomial is just a line. We will generalize this procedure to higher-order polynomials below."
   ]
  },
  {
   "cell_type": "markdown",
   "metadata": {},
   "source": [
    "### Interpolating Function via Taylor Series\n",
    "\n",
    "As an alternative to the above derivation, we may derive the same result from Taylor series considerations. The Taylor series expansions of $f(x)$ in the neighborhoods of $x_{0}$ and $x_{1}$ yields\n",
    "\n",
    "\\begin{align*}\n",
    "   f(x_{0}) &= f(x) + (x_{0} - x)f'(x) + \\cdots \\\\\n",
    "   f(x_{1}) &= f(x) + (x_{1} - x)f'(x) + \\cdots.\n",
    "\\end{align*}\n",
    "\n",
    "Next, approximate $f(x)$ by the truncated polynomial $p(x)$, leading to\n",
    "\n",
    "\\begin{align*}\n",
    "   f(x_{0}) &= f_{0} = p(x) + (x_{0} - x)p'(x)\\\\\n",
    "   f(x_{1}) &= f_{1} = p(x) + (x_{1} - x)p'(x).\n",
    "\\end{align*}\n",
    "\n",
    "This gives two equations in the two unknowns, $p(x)$ and $p'(x)$. Solving for $p'(x)$ gives\n",
    "\n",
    "\\begin{equation}\n",
    "   p'(x) = \\frac{(f_{1} - f_{0})}{(x_{1} - x_{0})},\n",
    "\\end{equation}\n",
    "\n",
    "and then plugging back in to get $p(x)$ gives\n",
    "\n",
    "\\begin{equation}\n",
    "   p(x) = \\frac{(x - x_{1})}{(x_{0} - x_{1})}f(x_{0}) + \\frac{(x - x_{0})}{(x_{1} - x_{0})}f(x_{1}).\n",
    "\\end{equation}\n",
    "\n",
    "This gives the same interpolating function as above."
   ]
  },
  {
   "cell_type": "markdown",
   "metadata": {},
   "source": [
    "### Basis Polynomials\n",
    "\n",
    "We can write the interpolating polynomial in terms of basis polynomials as follows\n",
    "\n",
    "\\begin{equation}\n",
    "   p(x) = L_{0}(x)f(x_{0}) + L_{1}(x)f(x_{1}),\n",
    "\\end{equation}\n",
    "\n",
    "where\n",
    "\n",
    "\\begin{equation}\n",
    "   L_{0}(x) = \\frac{(x - x_{1})}{(x_{0} - x_{1})} \n",
    "   \\quad\\text{and}\\quad \n",
    "   L_{1}(x) = \\frac{(x - x_{0})}{(x_{1} - x_{0})}.\n",
    "\\end{equation}\n",
    "\n",
    "Note that $L_{0}(x)$ and $L_{1}(x)$ act as weight functions. To see this, consider their asyptotic behavior.\n",
    "\n",
    "\\begin{align*}\n",
    "   &\\text{as } x\\rightarrow x_{0}: \\quad L_{0}\\rightarrow 1 \\quad\\text{and}\\quad L_{1}\\rightarrow 0 \\\\\n",
    "   &\\text{as } x\\rightarrow x_{1}: \\quad L_{0}\\rightarrow 0 \\quad\\text{and}\\quad L_{1}\\rightarrow 1 \\\\\n",
    "\\end{align*}\n",
    "\n",
    "As a result, $p(x_{0})\\rightarrow f_{0}$ and $p(x_{1})\\rightarrow f_{1}$."
   ]
  },
  {
   "cell_type": "markdown",
   "metadata": {},
   "source": [
    "### Linear Interpolation Code\n",
    "Below is a program that implements the linear interpolation scheme above, given two data points."
   ]
  },
  {
   "cell_type": "code",
   "execution_count": 1,
   "metadata": {},
   "outputs": [],
   "source": [
    "# set graphics backend\n",
    "%matplotlib inline"
   ]
  },
  {
   "cell_type": "code",
   "execution_count": 2,
   "metadata": {},
   "outputs": [],
   "source": [
    "# iport libraries\n",
    "import numpy as np\n",
    "import matplotlib.pyplot as plt"
   ]
  },
  {
   "cell_type": "code",
   "execution_count": 7,
   "metadata": {},
   "outputs": [],
   "source": [
    "def interpLinear(x, xdata, fdata) :\n",
    "    \"\"\" \n",
    "    Function that finds the unique straight line through two points\n",
    "    \n",
    "    INPUT\n",
    "    x     : grid point where function value is wanted\n",
    "    xdata : [x0,x1], 1D array of grid points where function values are given\n",
    "    fdata : [f0,f1], 1D array of function values at given grid points\n",
    "\n",
    "    OUTPUT\n",
    "    p     : value of interpolating function at grid point\n",
    "    \n",
    "    \"\"\"\n",
    "\n",
    "    x0 = xdata[0]\n",
    "    x1 = xdata[1]\n",
    "    f0 = fdata[0]\n",
    "    f1 = fdata[1]\n",
    "    L0 = (x - x1)/(x0 - x1)\n",
    "    L1 = (x - x0)/(x1 - x0)\n",
    "    p = L0*f0 + L1*f1\n",
    "    return p"
   ]
  },
  {
   "cell_type": "code",
   "execution_count": 8,
   "metadata": {},
   "outputs": [
    {
     "data": {
      "image/png": "[encoded data removed]",
      "text/plain": [
       "<Figure size 432x288 with 1 Axes>"
      ]
     },
     "metadata": {
      "needs_background": "light"
     },
     "output_type": "display_data"
    }
   ],
   "source": [
    "# input data\n",
    "data = np.array([[0,-1],[3,7]])\n",
    "xdata = data[:,0]\n",
    "ydata = data[:,1]\n",
    "\n",
    "# setup x grid\n",
    "xmin = np.amin(xdata)\n",
    "xmax = np.amax(xdata)\n",
    "x = np.linspace(xmin-1,xmax+1,100)\n",
    "\n",
    "# call interpolation routine\n",
    "y = interpLinear(x, xdata, ydata)\n",
    "\n",
    "# plot\n",
    "fig, ax = plt.subplots()\n",
    "ax.plot(x, y, color=\"blue\", label=\"interpolation\")\n",
    "ax.plot(xdata, ydata, 'rs', markersize=5, label=\"data\")\n",
    "ax.legend(bbox_to_anchor=(1.02,1),loc=2)\n",
    "plt.show()"
   ]
  },
  {
   "cell_type": "markdown",
   "metadata": {},
   "source": [
    "## Quadratic Interpolation\n",
    "\n",
    "Next suppose we are given $f(x_{0})$, $f(x_{1})$, and $f(x_{2})$ at the points $x_{0}$, $x_{1}$, and $x_{2}$, respectively. The quadratic equation that passes through these three points can be parameterized as\n",
    "\n",
    "\\begin{equation}\n",
    "   p(x) = a_{0} + a_{1} x + a_{2} x^2,\n",
    "\\end{equation}\n",
    "\n",
    "where $a_{0}$, $a_{1}$, and $a_{2}$ are undetermined coefficients. Evaluating $p(x)$ at $x_{0}$, $x_{1}$, and $x_{2}$ yields three equations in these undetermined coeffients\n",
    "\n",
    "\\begin{align*}\n",
    "   p(x_{0}) &= a_{0} + a_{1} x_{0} + a_{2} x_{0}^2 \\\\\n",
    "   p(x_{1}) &= a_{0} + a_{1} x_{1} + a_{2} x_{1}^2 \\\\\n",
    "   p(x_{2}) &= a_{0} + a_{1} x_{2} + a_{2} x_{2}^2.\n",
    "\\end{align*}\n",
    "\n",
    "Solving this system of equations and plugging the results back into the expression for $p(x)$ above gives\n",
    "\n",
    "\\begin{equation}\n",
    "   p(x) = \\frac{(x - x_{1})(x - x_{2})}{(x_{0} - x_{1})(x_{0} - x_{2})}f(x_{0}) \n",
    "   + \\frac{(x - x_{0})(x - x_{2})}{(x_{1} - x_{0})(x_{1} - x_{2})}f(x_{1})\n",
    "   + \\frac{(x - x_{0})(x - x_{1})}{(x_{2} - x_{0})(x_{2} - x_{1})}f(x_{2}).\n",
    "\\end{equation}\n",
    "\n",
    "By inspection we see that $p(x_{0})=f(x_{0})$, $p(x_{1})=f(x_{1})$, and $p(x_{2})=f(x_{2})$, as required. "
   ]
  },
  {
   "cell_type": "markdown",
   "metadata": {},
   "source": [
    "### Basis Polynomials\n",
    "As before, $p(x)$ can be expressed in terms of basis polynomials as\n",
    "\n",
    "\\begin{equation}\n",
    "   p(x) = L_{0}(x) f(x_{0}) + L_{1}(x) f(x_{1}) + L_{2}(x) f(x_{2}),\n",
    "\\end{equation}\n",
    "\n",
    "where \n",
    "\n",
    "\\begin{equation}\n",
    "   L_{0}(x) = \\frac{(x - x_{1})(x - x_{2})}{(x_{0} - x_{1})(x_{0} - x_{2})}\n",
    "   \\quad,\\quad\n",
    "   L_{1}(x) = \\frac{(x - x_{0})(x - x_{2})}{(x_{1} - x_{0})(x_{1} - x_{2})}\n",
    "   \\quad,\\quad\n",
    "   L_{2}(x) = \\frac{(x - x_{0})(x - x_{1})}{(x_{2} - x_{0})(x_{2} - x_{1})}.\n",
    "\\end{equation}\n",
    "\n",
    "These basis polynomials have the asymptotic properties\n",
    "\n",
    "\\begin{align*}\n",
    "   &\\text{as } x\\rightarrow x_{0}: \n",
    "      \\quad L_{0}\\rightarrow 1 \\quad,\n",
    "      \\quad L_{1}\\rightarrow 0 \\quad,\n",
    "      \\quad L_{2}\\rightarrow 0 \\\\\n",
    "   &\\text{as } x\\rightarrow x_{1}: \n",
    "      \\quad L_{0}\\rightarrow 0 \\quad,\n",
    "      \\quad L_{1}\\rightarrow 1 \\quad,\n",
    "      \\quad L_{2}\\rightarrow 0 \\\\\n",
    "   &\\text{as } x\\rightarrow x_{2}: \n",
    "      \\quad L_{0}\\rightarrow 0 \\quad,\n",
    "      \\quad L_{1}\\rightarrow 0 \\quad,\n",
    "      \\quad L_{2}\\rightarrow 1 \n",
    "\\end{align*}\n",
    "\n",
    "As a result, $p(x_{0})\\rightarrow f_{0}$, $p(x_{1})\\rightarrow f_{1}$, and $p(x_{2})\\rightarrow f_{2}$."
   ]
  },
  {
   "cell_type": "markdown",
   "metadata": {},
   "source": [
    "### Quadratic Interpolation Code\n",
    "Below is an extension of the above code to the case of quadratic interpolation, given three data points. "
   ]
  },
  {
   "cell_type": "code",
   "execution_count": 9,
   "metadata": {},
   "outputs": [],
   "source": [
    "def interpQuad(x, xdata, fdata) :\n",
    "    \"\"\" \n",
    "    Function that finds the unique quadratic that passes through three points.\n",
    "    \n",
    "    INPUT\n",
    "    x     : grid point where function value is wanted\n",
    "    xdata : [x0,x1,x2], 1D array of grid points where function values are given\n",
    "    fdata : [f0,f1,f2], 1D array of function values at given grid points\n",
    "\n",
    "    OUTPUT\n",
    "    p     : value of interpolating function at grid point\n",
    "    \n",
    "    \"\"\"\n",
    "\n",
    "    x0 = xdata[0]\n",
    "    x1 = xdata[1]\n",
    "    x2 = xdata[2]\n",
    "    f0 = fdata[0]\n",
    "    f1 = fdata[1]\n",
    "    f2 = fdata[2]\n",
    "    L0 = (x - x1)*(x - x2)/((x0 - x1)*(x0 - x2))\n",
    "    L1 = (x - x2)*(x - x0)/((x1 - x2)*(x1 - x0))\n",
    "    L2 = (x - x0)*(x - x1)/((x2 - x0)*(x2 - x1))\n",
    "    p = L0*f0 + L1*f1 + L2*f2\n",
    "    return p"
   ]
  },
  {
   "cell_type": "code",
   "execution_count": 10,
   "metadata": {},
   "outputs": [
    {
     "data": {
      "image/png": "[encoded data removed]",
      "text/plain": [
       "<Figure size 432x288 with 1 Axes>"
      ]
     },
     "metadata": {
      "needs_background": "light"
     },
     "output_type": "display_data"
    }
   ],
   "source": [
    "# input data\n",
    "data = np.array([[0,0],[3,7],[-2,16]])\n",
    "xdata = data[:,0]\n",
    "ydata = data[:,1]\n",
    "\n",
    "# setup x grid\n",
    "xmin = np.amin(xdata)\n",
    "xmax = np.amax(xdata)\n",
    "x = np.linspace(xmin-1,xmax+1,100)\n",
    "\n",
    "# call interpolation routine\n",
    "y = interpQuad(x, xdata, ydata)\n",
    "\n",
    "# plot\n",
    "fig, ax = plt.subplots()\n",
    "ax.plot(x, y, color=\"blue\", label=\"interpolation\")\n",
    "ax.plot(xdata, ydata, 'rs', markersize=5, label=\"data\")\n",
    "ax.legend(bbox_to_anchor=(1.02,1),loc=2)\n",
    "plt.show()"
   ]
  },
  {
   "cell_type": "markdown",
   "metadata": {},
   "source": [
    "## Interpolating Polynomial of Degree n\n",
    "\n",
    "If $n+1$ data are given ($f(x_{0}),\\ldots,f(x_{n})$) then the interpolating polynomial of degree $n$ is given by\n",
    "\n",
    "\\begin{equation}\n",
    "   p_{n}(x) = L_{n,0}(x)f(x_{0}) + \\cdots + L_{n,n}(x)f(x_{n})\n",
    "   = \\sum_{i=0}^{n} L_{n,i}(x) f(x_{i}),\n",
    "\\end{equation}\n",
    "\n",
    "where \n",
    "\n",
    "\\begin{equation}\n",
    "   L_{n,i}(x) = \\prod_{j=0, j\\neq i}^{n}\\frac{(x - x_{j})}{(x_{i} - x_{j})}.\n",
    "\\end{equation}\n",
    "\n",
    "For example, for $n=3$ (cubic interpolation) and $i=2$:\n",
    "\n",
    "\\begin{equation}\n",
    "   L_{3,2}(x) = \\prod_{j=0, j\\neq 2}^{3}\\frac{(x - x_{j})}{(x_{2} - x_{j})}\n",
    "   = \\frac{(x - x_{0})(x - x_{1})(x - x_{3})}{(x_{2} - x_{0})(x_{2} - x_{1})(x_{2} - x_{3})}.\n",
    "\\end{equation}\n",
    "\n",
    "When there is no chance of confusion, the Lagrange basis polynomials of degree $n$ are often denoted simply as $L_{i}(x)$ instead of $L_{n,i}(x)$, and the Lagrange interpolating polynomial is denoted simply as $p(x)$ instead of $p_{n}(x)$.\n",
    "\n",
    "Note that this representation of a function is *exact* if the function is a polynomial of degree $n$ *or less*. In general, if $p_{n}(x)$ is the interpolating polynomial of degree $n$ above, then a function $f(x)$ can be represented as\n",
    "\n",
    "\\begin{equation}\n",
    "   f(x) = p_{n}(x) + \\mathcal{O}\\left(f^{(n+1)}(x)\\right).\n",
    "\\end{equation}\n",
    "\n",
    "In other words, the error in the approximation goes as the $(n+1)$-th derivative of $f(x)$. If $f(x)$ is a polynomial of degree $\\leq n$, then this derivative (and all higher-order derivatives) vanish identically. And so in that case $f(x) = p_{n}(x)$, exactly."
   ]
  },
  {
   "cell_type": "markdown",
   "metadata": {},
   "source": [
    "### General Polynomial Interpolation Code\n",
    "Below is an extension of the interpolation program above to the general case."
   ]
  },
  {
   "cell_type": "code",
   "execution_count": 11,
   "metadata": {},
   "outputs": [
    {
     "name": "stdout",
     "output_type": "stream",
     "text": [
      "Overwriting intrpf.py\n"
     ]
    }
   ],
   "source": [
    "%%writefile intrpf.py\n",
    "def intrpf(x, xdata, fdata) :\n",
    "    \"\"\" \n",
    "    Function that interpolates the unique n-degree polynomial that passes \n",
    "    through n+1 data points.\n",
    "    \n",
    "    INPUT\n",
    "    x     : grid point where function value is wanted\n",
    "    xdata : [x0,...,xN], 1D array of grid points where function is known\n",
    "    fdata : [f0,...,fN], 1D array of function values at given grid points\n",
    "\n",
    "    OUTPUT\n",
    "    p     : value of interpolating function at grid point\n",
    "    \n",
    "    \"\"\"\n",
    "    \n",
    "    # initialize interpolating function\n",
    "    p = 0\n",
    "        \n",
    "    # loop to calculate basis functions\n",
    "    for i in range(len(xdata)):\n",
    "        numerator = 1   # initialize numerator\n",
    "        denominator = 1 # initialize denominator\n",
    "        for j in range(len(xdata)):\n",
    "            if j!=i:\n",
    "                numerator = numerator*(x - xdata[j])\n",
    "                denominator = denominator*(xdata[i] - xdata[j])\n",
    "\n",
    "        Li = numerator/denominator\n",
    "        p = p + Li*fdata[i]\n",
    "            \n",
    "    return p"
   ]
  },
  {
   "cell_type": "code",
   "execution_count": 15,
   "metadata": {},
   "outputs": [],
   "source": [
    "%run intrpf.py"
   ]
  },
  {
   "cell_type": "code",
   "execution_count": 16,
   "metadata": {},
   "outputs": [
    {
     "data": {
      "image/png": "[encoded data removed]",
      "text/plain": [
       "<Figure size 432x288 with 1 Axes>"
      ]
     },
     "metadata": {
      "needs_background": "light"
     },
     "output_type": "display_data"
    }
   ],
   "source": [
    "# input data \n",
    "data = np.array([[-1,14],[0,5],[1,-7],[2,-12],[5,6]]) # <-- ENTER DATA HERE\n",
    "xdata = data[:,0]\n",
    "ydata = data[:,1]\n",
    "\n",
    "# setup x grid\n",
    "xmin = np.amin(xdata)\n",
    "xmax = np.amax(xdata)\n",
    "x = np.linspace(xmin-1, xmax+1, 100)\n",
    "\n",
    "# call interpolating routine\n",
    "y = intrpf(x, xdata, ydata)\n",
    "\n",
    "# plot\n",
    "fig, ax = plt.subplots()\n",
    "ax.plot(x, y, color=\"blue\", label=\"interpolation\")\n",
    "ax.plot(xdata, ydata, 'rs', markersize=5, label=\"data\")\n",
    "ax.legend(bbox_to_anchor=(1.02,1), loc=2)\n",
    "plt.show()"
   ]
  },
  {
   "cell_type": "markdown",
   "metadata": {},
   "source": [
    "### Example: Bessel function\n",
    "To see this in action, let's apply it to Bessel functions, whose values are well-tabulated. Below is a table for the Bessel functions $J_{1}(x)$ from $x=0$ to $x=10.0$. \n",
    "\n",
    "\\begin{align*}\n",
    "   J_1(0.0) &= 0.00000\\,00000 \\\\\n",
    "   J_1(1.0) &= 0.44005\\,05857 \\\\\n",
    "   J_1(2.0) &= 0.57672\\,48078 \\\\\n",
    "   J_1(3.0) &= 0.33905\\,89585 \\\\\n",
    "   J_1(4.0) &= -0.06604\\,33280 \\\\\n",
    "   J_1(5.0) &= -0.32757\\,91376 \\\\\n",
    "   J_1(6.0) &= -0.27668\\,38581 \\\\\n",
    "   J_1(7.0) &= -0.00468\\,28235 \\\\\n",
    "   J_1(8.0) &= 0.23463\\,63469 \\\\\n",
    "   J_1(9.0) &= 0.24531\\,17866 \\\\\n",
    "   J_1(10.0) &= 0.04347\\,27462\n",
    "\\end{align*}\n",
    "\n",
    "Let's use these tabulated data to obtain an approximate value for $J_1(5.5)$. "
   ]
  },
  {
   "cell_type": "code",
   "execution_count": 19,
   "metadata": {},
   "outputs": [
    {
     "name": "stdout",
     "output_type": "stream",
     "text": [
      "linear interpolation                      =   -0.4583470424\n",
      "quadratic interpolation (left-weighted)   =   -0.40450961356250004\n",
      "quadratic interpolation (right-weighted)  =   -0.34118538398750003\n",
      "cubic interpolation                       =   -0.35173942225000004\n",
      "quintic interpolation                     =   -0.3429591701832031\n",
      "heptic interpolation                      =   -0.34144965943322453\n",
      "ninth-order interpolation                 =   -0.3414408427282559\n",
      "exact                                     =   -0.34143821542904335\n"
     ]
    }
   ],
   "source": [
    "# point we wish to approximate J_1(x)\n",
    "x = 5.5\n",
    "\n",
    "# tabluated values for J_1(x)\n",
    "J1 = np.zeros((11,2))\n",
    "J1[0,:] = [0.0, 0.0000000000]\n",
    "J1[1,:] = [1.0, 0.4400505857]\n",
    "J1[2,:] = [2.0, 0.5767248078]\n",
    "J1[3,:] = [3.0, 0.3390589585]\n",
    "J1[4,:] = [4.0, -0.0660433280]\n",
    "J1[5,:] = [5.0, -0.3275791376]\n",
    "J1[6,:] = [6.0, -0.2766838581]\n",
    "J1[7,:] = [7.0, -0.0046828235]\n",
    "J1[8,:] = [8.0, 0.2346363469]\n",
    "J1[9,:] = [9.0, 0.2453117866]\n",
    "J1[10,:] = [10.0, 0.0434727462]\n",
    "\n",
    "# linear interpolation\n",
    "data_lin = np.array(J1[4:6,:])\n",
    "xdata = data_lin[:,0]\n",
    "ydata = data_lin[:,1]\n",
    "lin = intrpf(x, xdata, ydata)\n",
    "\n",
    "# quadratic interpolation (left-weighted)\n",
    "data_quadL = np.array(J1[3:6,:])\n",
    "xdata = data_quadL[:,0]\n",
    "ydata = data_quadL[:,1]\n",
    "quadL = intrpf(x, xdata, ydata)\n",
    "\n",
    "# quadratic interpolation (right-weighted)\n",
    "data_quadR = np.array(J1[4:7,:])\n",
    "xdata = data_quadR[:,0]\n",
    "ydata = data_quadR[:,1]\n",
    "quadR = intrpf(x, xdata, ydata)\n",
    "\n",
    "# cubic interpolation\n",
    "data_cubic = np.array(J1[3:7,:])\n",
    "xdata = data_cubic[:,0]\n",
    "ydata = data_cubic[:,1]\n",
    "cubic = intrpf(x, xdata, ydata)\n",
    "\n",
    "# quintic interpolation\n",
    "data_quint = np.array(J1[2:8,:])\n",
    "xdata = data_quint[:,0]\n",
    "ydata = data_quint[:,1]\n",
    "quint = intrpf(x, xdata, ydata)\n",
    "\n",
    "# heptic interpolation\n",
    "data_hept = np.array(J1[1:10,:])\n",
    "xdata = data_hept[:,0]\n",
    "ydata = data_hept[:,1]\n",
    "hept = intrpf(x, xdata, ydata)\n",
    "\n",
    "# ninth-order interpolation\n",
    "data_ninth = np.array(J1[:,:])\n",
    "xdata = data_ninth[:,0]\n",
    "ydata = data_ninth[:,1]\n",
    "ninth = intrpf(x, xdata, ydata)\n",
    "\n",
    "# actual value\n",
    "import scipy.special as sp\n",
    "exact = sp.j1(x)\n",
    "\n",
    "# print results\n",
    "print (\"linear interpolation                      =  \", lin)\n",
    "print (\"quadratic interpolation (left-weighted)   =  \", quadL)\n",
    "print (\"quadratic interpolation (right-weighted)  =  \", quadR)\n",
    "print (\"cubic interpolation                       =  \", cubic)\n",
    "print (\"quintic interpolation                     =  \", quint)\n",
    "print (\"heptic interpolation                      =  \", hept)\n",
    "print (\"ninth-order interpolation                 =  \", ninth) \n",
    "print (\"exact                                     =  \", exact)"
   ]
  },
  {
   "cell_type": "markdown",
   "metadata": {},
   "source": [
    "### Exact / Tabulated Values of Some Bessel Functions"
   ]
  },
  {
   "cell_type": "code",
   "execution_count": 20,
   "metadata": {},
   "outputs": [],
   "source": [
    "# zeroth-order Bessel function from Abramowitz and Stegun (Table 9.1, p.390)\n",
    "abram_j0 = np.zeros((11, 2))\n",
    "abram_j0[0]  = [0.0, 1.000000000000000]\n",
    "abram_j0[1]  = [0.1, 0.997501562066040]\n",
    "abram_j0[2]  = [0.2, 0.990024972239576]\n",
    "abram_j0[3]  = [0.3, 0.977626246538296]\n",
    "abram_j0[4]  = [0.4, 0.960398226659563]\n",
    "abram_j0[5]  = [0.5, 0.938469807240813]\n",
    "abram_j0[6]  = [0.6, 0.912004863497211]\n",
    "abram_j0[7]  = [0.7, 0.881200888607405]\n",
    "abram_j0[8]  = [0.8, 0.846287352750480]\n",
    "abram_j0[9]  = [0.9, 0.807523798122545]\n",
    "abram_j0[10] = [1.0, 0.765197686557967]"
   ]
  },
  {
   "cell_type": "code",
   "execution_count": 21,
   "metadata": {},
   "outputs": [
    {
     "name": "stdout",
     "output_type": "stream",
     "text": [
      "zeroth-order Bessel function of the first kind, J_0(x):\n",
      "scipy \t\t\t Abramowitz \t\t diff\n",
      "1.0000000000000000 \t 1.000000000000000 \t 0.0000000000000000\n",
      "0.9975015620660400 \t 0.997501562066040 \t 0.0000000000000000\n",
      "0.9900249722395763 \t 0.990024972239576 \t 0.0000000000000003\n",
      "0.9776262465382961 \t 0.977626246538296 \t 0.0000000000000001\n",
      "0.9603982266595634 \t 0.960398226659563 \t 0.0000000000000004\n",
      "0.9384698072408130 \t 0.938469807240813 \t 0.0000000000000000\n",
      "0.9120048634972107 \t 0.912004863497211 \t 0.0000000000000003\n",
      "0.8812008886074052 \t 0.881200888607405 \t 0.0000000000000002\n",
      "0.8462873527504801 \t 0.846287352750480 \t 0.0000000000000001\n",
      "0.8075237981225448 \t 0.807523798122545 \t 0.0000000000000002\n",
      "0.7651976865579665 \t 0.765197686557967 \t 0.0000000000000006\n"
     ]
    }
   ],
   "source": [
    "# zeroth-order Bessel function\n",
    "# comparison of scipy.special.j0 with Abramowitz and Stegun\n",
    "print('zeroth-order Bessel function of the first kind, J_0(x):')\n",
    "print('scipy \\t\\t\\t Abramowitz \\t\\t diff')\n",
    "print('%.16f \\t %.15f \\t %.16f' % (sp.j0(0.0), abram_j0[0,1],  abs(sp.j0(0.0) - abram_j0[0,1])))\n",
    "print('%.16f \\t %.15f \\t %.16f' % (sp.j0(0.1), abram_j0[1,1],  abs(sp.j0(0.1) - abram_j0[1,1])))\n",
    "print('%.16f \\t %.15f \\t %.16f' % (sp.j0(0.2), abram_j0[2,1],  abs(sp.j0(0.2) - abram_j0[2,1])))\n",
    "print('%.16f \\t %.15f \\t %.16f' % (sp.j0(0.3), abram_j0[3,1],  abs(sp.j0(0.3) - abram_j0[3,1])))\n",
    "print('%.16f \\t %.15f \\t %.16f' % (sp.j0(0.4), abram_j0[4,1],  abs(sp.j0(0.4) - abram_j0[4,1])))\n",
    "print('%.16f \\t %.15f \\t %.16f' % (sp.j0(0.5), abram_j0[5,1],  abs(sp.j0(0.5) - abram_j0[5,1])))\n",
    "print('%.16f \\t %.15f \\t %.16f' % (sp.j0(0.6), abram_j0[6,1],  abs(sp.j0(0.6) - abram_j0[6,1])))\n",
    "print('%.16f \\t %.15f \\t %.16f' % (sp.j0(0.7), abram_j0[7,1],  abs(sp.j0(0.7) - abram_j0[7,1])))\n",
    "print('%.16f \\t %.15f \\t %.16f' % (sp.j0(0.8), abram_j0[8,1],  abs(sp.j0(0.8) - abram_j0[8,1])))\n",
    "print('%.16f \\t %.15f \\t %.16f' % (sp.j0(0.9), abram_j0[9,1],  abs(sp.j0(0.9) - abram_j0[9,1])))\n",
    "print('%.16f \\t %.15f \\t %.16f' % (sp.j0(1.0), abram_j0[10,1], abs(sp.j0(1.0) - abram_j0[10,1])))"
   ]
  },
  {
   "cell_type": "code",
   "execution_count": 22,
   "metadata": {},
   "outputs": [],
   "source": [
    "# first-order Bessel function from Abramowitz and Stegun (Table 9.1, p.390)\n",
    "abram_j1 = np.zeros((11, 2))\n",
    "abram_j1[0]  = [0.0, 0.0]\n",
    "abram_j1[1]  = [0.1, 0.0499375260]\n",
    "abram_j1[2]  = [0.2, 0.0995008326]\n",
    "abram_j1[3]  = [0.3, 0.1483188163]\n",
    "abram_j1[4]  = [0.4, 0.1960265780]\n",
    "abram_j1[5]  = [0.5, 0.2422684577]\n",
    "abram_j1[6]  = [0.6, 0.2867009881]\n",
    "abram_j1[7]  = [0.7, 0.3289957415]\n",
    "abram_j1[8]  = [0.8, 0.3688420461]\n",
    "abram_j1[9]  = [0.9, 0.4059495461]\n",
    "abram_j1[10] = [1.0, 0.4400505857]"
   ]
  },
  {
   "cell_type": "code",
   "execution_count": 23,
   "metadata": {},
   "outputs": [
    {
     "name": "stdout",
     "output_type": "stream",
     "text": [
      "first-order Bessel function of the first kind, J_1(x):\n",
      "scipy \t\t\t Abramowitz \t\t diff\n",
      "0.0000000000000000 \t 0.0000000000 \t 0.0000000000000000\n",
      "0.0499375260362420 \t 0.0499375260 \t 0.0000000000362420\n",
      "0.0995008326392360 \t 0.0995008326 \t 0.0000000000392360\n",
      "0.1483188162731040 \t 0.1483188163 \t 0.0000000000268960\n",
      "0.1960265779553188 \t 0.1960265780 \t 0.0000000000446812\n",
      "0.2422684576748739 \t 0.2422684577 \t 0.0000000000251261\n",
      "0.2867009880639157 \t 0.2867009881 \t 0.0000000000360843\n",
      "0.3289957415400589 \t 0.3289957415 \t 0.0000000000400589\n",
      "0.3688420460941700 \t 0.3688420461 \t 0.0000000000058300\n",
      "0.4059495460788056 \t 0.4059495461 \t 0.0000000000211944\n",
      "0.4400505857449336 \t 0.4400505857 \t 0.0000000000449336\n"
     ]
    }
   ],
   "source": [
    "# first-order Bessel function\n",
    "# comparison of scipy.special.j0 with Abramowitz and Stegun\n",
    "print('first-order Bessel function of the first kind, J_1(x):')\n",
    "print('scipy \\t\\t\\t Abramowitz \\t\\t diff')\n",
    "print('%.16f \\t %.10f \\t %.16f' % (sp.j1(0.0), abram_j1[0,1],  abs(sp.j1(0.0) - abram_j1[0,1])))\n",
    "print('%.16f \\t %.10f \\t %.16f' % (sp.j1(0.1), abram_j1[1,1],  abs(sp.j1(0.1) - abram_j1[1,1])))\n",
    "print('%.16f \\t %.10f \\t %.16f' % (sp.j1(0.2), abram_j1[2,1],  abs(sp.j1(0.2) - abram_j1[2,1])))\n",
    "print('%.16f \\t %.10f \\t %.16f' % (sp.j1(0.3), abram_j1[3,1],  abs(sp.j1(0.3) - abram_j1[3,1])))\n",
    "print('%.16f \\t %.10f \\t %.16f' % (sp.j1(0.4), abram_j1[4,1],  abs(sp.j1(0.4) - abram_j1[4,1])))\n",
    "print('%.16f \\t %.10f \\t %.16f' % (sp.j1(0.5), abram_j1[5,1],  abs(sp.j1(0.5) - abram_j1[5,1])))\n",
    "print('%.16f \\t %.10f \\t %.16f' % (sp.j1(0.6), abram_j1[6,1],  abs(sp.j1(0.6) - abram_j1[6,1])))\n",
    "print('%.16f \\t %.10f \\t %.16f' % (sp.j1(0.7), abram_j1[7,1],  abs(sp.j1(0.7) - abram_j1[7,1])))\n",
    "print('%.16f \\t %.10f \\t %.16f' % (sp.j1(0.8), abram_j1[8,1],  abs(sp.j1(0.8) - abram_j1[8,1])))\n",
    "print('%.16f \\t %.10f \\t %.16f' % (sp.j1(0.9), abram_j1[9,1],  abs(sp.j1(0.9) - abram_j1[9,1])))\n",
    "print('%.16f \\t %.10f \\t %.16f' % (sp.j1(1.0), abram_j1[10,1], abs(sp.j1(1.0) - abram_j1[10,1])))"
   ]
  },
  {
   "cell_type": "code",
   "execution_count": null,
   "metadata": {},
   "outputs": [],
   "source": []
  },
  {
   "cell_type": "code",
   "execution_count": null,
   "metadata": {},
   "outputs": [],
   "source": []
  }
 ],
 "metadata": {
  "kernelspec": {
   "display_name": "Python 3",
   "language": "python",
   "name": "python3"
  },
  "language_info": {
   "codemirror_mode": {
    "name": "ipython",
    "version": 3
   },
   "file_extension": ".py",
   "mimetype": "text/x-python",
   "name": "python",
   "nbconvert_exporter": "python",
   "pygments_lexer": "ipython3",
   "version": "3.6.7"
  }
 },
 "nbformat": 4,
 "nbformat_minor": 2
}
