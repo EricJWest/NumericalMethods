{
 "cells": [
  {
   "cell_type": "markdown",
   "metadata": {},
   "source": [
    "# Runge-Kutta Methods (Theory)\n",
    "---\n",
    "\n",
    "GENERAL PROBLEM: solve the system of first-order ordinary differential equations of the form\n",
    "\n",
    "\\begin{equation}\n",
    "  \\mathbf{y}'(x) \\equiv \\frac{d}{dx}\\mathbf{y}(x) = \\mathbf{f}(\\mathbf{y}(x),x)\n",
    "  \\quad\\text{with}\\quad\n",
    "  \\mathbf{y}(x_{0}) = \\mathbf{y}_{0}.\n",
    "\\end{equation}\n",
    "\n",
    "IDEA: discretize variables by letting $x\\rightarrow x_{i}$ and $\\mathbf{y}(x_{i})\\rightarrow \\mathbf{y}_{i}$, for $i=0,\\ldots,N$. Then use knowledge about $\\mathbf{y}_{i}$'s (and possibly derivatives of $\\mathbf{y}$) at \"earlier\" points to approximate (guess) their values at \"later\" points. An approximate solution is found in this way by \"marching\" along the independent variable, starting with the given initial values $\\mathbf{y}_{0}$ at $x_{0}$.\n",
    "\n",
    "PRE-REQUISITES:\n",
    "- [ode-solve-euler.ipynb](https://github.com/ejwest2/NumericalMethods/blob/master/ODESolve/ode-solve-euler.ipynb) (introduction to numerical methods for ODE's, Euler method, error analysis, convergence tests)\n",
    "\n",
    "REFERENCES:\n",
    "- [1] DeVries and Hasbun, *A First Course in Computational Physics, 2nd edition*.\n",
    "- [2] Garcia, *Numerical Methods for Physicists, 2nd edition*.\n",
    "- [3] Burden and Faires, *Numerical Analysis, 7th edition*.\n",
    "- [4] LeVeque, *Finite Difference Methods for Ordinary and Partial Differential Equations*.\n"
   ]
  },
  {
   "cell_type": "code",
   "execution_count": null,
   "metadata": {},
   "outputs": [],
   "source": []
  }
 ],
 "metadata": {
  "kernelspec": {
   "display_name": "Python 3",
   "language": "python",
   "name": "python3"
  },
  "language_info": {
   "codemirror_mode": {
    "name": "ipython",
    "version": 3
   },
   "file_extension": ".py",
   "mimetype": "text/x-python",
   "name": "python",
   "nbconvert_exporter": "python",
   "pygments_lexer": "ipython3",
   "version": "3.5.2"
  }
 },
 "nbformat": 4,
 "nbformat_minor": 2
}
