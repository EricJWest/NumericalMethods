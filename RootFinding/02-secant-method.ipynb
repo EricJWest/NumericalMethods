{
 "cells": [
  {
   "cell_type": "markdown",
   "metadata": {},
   "source": [
    "# Root Finding: Secant Method\n",
    "---\n",
    "\n",
    "GENERAL PROBLEM: find the real roots of a given function $f(x)$ in the case when closed-form solutions are not available. That is, find the values of $x$ that satisfy the equation\n",
    "\n",
    "\\begin{align}\n",
    "  f(x) = 0\n",
    "\\end{align}\n",
    "\n",
    "where $x$ is a real variable, and $f(x)$ is some non-linear function.\n",
    "\n",
    "IDEA: use the roots of secant lines to construct successive approximations to the actual root of the function. \n",
    "\n",
    "PRE-REQUISITES:\n",
    "- Bisection method\n",
    "\n",
    "REFERENCES:\n",
    "- [1] DeVries and Hasbun, *A First Course in Computational Physics, 2nd edition*.\n",
    "- [2] Burden and Faires, *Numerical Analysis, 7th edition*.\n",
    "- [3] Ralston and Rabinowitz, *A First Course in Numerical Analysis, 2nd edition*.\n",
    "- [4] Press et al, *Numerical Recipes: the Art of Scientific Computing, 3rd edition*."
   ]
  },
  {
   "cell_type": "markdown",
   "metadata": {},
   "source": [
    "## 1. Summary of the method\n",
    "\n",
    "As with the bisection method, we assume that we have identified an interval $[a,b]$ that brackets a root of $f(x)$.\n",
    "\n",
    "The idea behind the secant method is to connect the points $(a,f(a))$ and $(b,f(b))$ by a line, then use the root of that line as an improved approximation of the root of $f(x)$, and repeat. At each iteration, the previous two estimates are used to construct the next secant line. The process is continued until the root is located to within some given tolerance, or some maximum allowed number of iterations is reached.\n",
    " \n",
    "The equation for the line that passes through points $(x_{n-2}, f(x_{n-2}))$ and $(x_{n-1}, f(x_{n-1}))$ is\n",
    "\n",
    "\\begin{align}\n",
    "  y(x) = \\frac{(f(x_{n-1}) - f(x_{n-2}))}{(x_{n-1} - x_{n-2})}(x - x_{n-1}) + f(x_{n-1})\n",
    "\\end{align}\n",
    "\n",
    "The root of this equation is taken as the next approximation to the root of $f(x)$. This yields the iteration equation \n",
    "\n",
    "\\begin{align}\n",
    "  x_{n} = x_{n-1} - f(x_{n-1})\\frac{x_{n-1} - x_{n-2}}{f(x_{n-1}) - f(x_{n-2})}\n",
    "\\end{align}\n",
    "\n",
    "The relative uncertainty in the location of the root at the end of an iteration is taken to be\n",
    "\n",
    "\\begin{align}\n",
    "  \\mathsf{REL}\n",
    "  = \\left|\\frac{\\text{(current estimate)} - \\text{(previous estimate)}}{\\text{(current estmate)}}\\right|\n",
    "  = \\left|\\frac{x_{n} - x_{n-1}}{x_{n}}\\right|\n",
    "\\end{align}\n",
    "\n",
    "We should also calculate the error of any proposed root candidate  \n",
    "\n",
    "\\begin{align}\n",
    "  \\mathsf{ABS} = \\left|f(x_{n})\\right|\n",
    "\\end{align}\n",
    "\n",
    "The process of searching for a root should continue until both of these errors are less than some specified tolerance (or the maximum allowed number of iterations is reached).\n",
    "\n",
    "(PROGRAMMER'S NOTE: when starting from values close to actual root, the secant method often converges faster than the bisection method. However, one drawback is that the secant method does not always keep the root bracketed, and so unlike the bisection method, convergence is not assured. It is therefore advisable to issue a warning any time an iteration occurs when the root is no longer bracketed.)"
   ]
  },
  {
   "cell_type": "markdown",
   "metadata": {},
   "source": [
    "## 2. Algorithm\n",
    "\n",
    "**INPUT**\n",
    "- an interval $[a,b]$ where a root of the function in question is known to exist.\n",
    "- TOL, the relative error tolerance that the answer is required to have.\n",
    "- $i_\\mathrm{max}$, maximum number of iterations allowed.\n",
    "\n",
    "**Initialize loop**\n",
    "- set $x_{-1}=a$ and $x_{0}=b$\n",
    "- set $i = 1$\n",
    "\n",
    "**Loop** while $i \\leq i_\\mathrm{max}$\n",
    "\n",
    "- calculate root of secant line\n",
    "  - $x_{i} = x_{i-1} - f(x_{i-1})(x_{i-1} - x_{i-2})/(f(x_{i-1}) - f(x_{i-2}))$\n",
    "\n",
    "\n",
    "- calculate the relative uncertainty using:  REL $= \\left|(x_{i} - x_{i-1})/x_{i}\\right|$\n",
    "\n",
    "\n",
    "- calculate ABS $= |f(x_{i})|$\n",
    "\n",
    "\n",
    "- if (REL $\\leq$ TOL) and (ABS $\\leq$ TOL), stop. Otherwise, continue.\n",
    "\n",
    "\n",
    "- if $i > i_\\mathrm{max}$, stop. Otherwise, go back to the top of the loop.\n",
    "\n",
    "\n",
    "- i = i + 1"
   ]
  },
  {
   "cell_type": "markdown",
   "metadata": {},
   "source": [
    "## 3. CODE"
   ]
  },
  {
   "cell_type": "code",
   "execution_count": 18,
   "metadata": {},
   "outputs": [
    {
     "name": "stdout",
     "output_type": "stream",
     "text": [
      "Overwriting secant.py\n"
     ]
    }
   ],
   "source": [
    "%%writefile secant.py\n",
    "\n",
    "import numpy as np\n",
    "import sys\n",
    "\n",
    "# secant method\n",
    "def secant(f, x0, x1, TOL, imax):\n",
    "    \"\"\"\n",
    "    searches for roots of f(x) using the secant method\n",
    "    \n",
    "    INPUT:\n",
    "    f = function whose roots are being sought \n",
    "    x0 = initial guess 1\n",
    "    x1 = initial guess 2\n",
    "    TOL = allowed tolerance\n",
    "    imax = maximum number of iterations\n",
    "    \n",
    "    OUTPUT:\n",
    "    location of the root to within the allowed tolerance, or failure message\n",
    "    \"\"\"\n",
    "    \n",
    "    # test initial bracket \n",
    "    if np.sign(f(x0))*np.sign(f(x1)) > 0:\n",
    "        # if sgn > 0, problem may not be well-defined\n",
    "        print('WARNING: function has the same sign at both ends of the interval.')\n",
    "        print('This may lead to convergence problems. Proceed with caution!')\n",
    "\n",
    "    # initialize iteration\n",
    "    xOld = x0\n",
    "    xNew = x1\n",
    "    \n",
    "    # iterate search using bisection method\n",
    "    i = 1  # reset iteration number\n",
    "    while i <= imax:\n",
    "            \n",
    "        # rotate previous approximate locations of root\n",
    "        xOldOld = xOld # xOld --> xOldOld\n",
    "        xOld = xNew    # xNew --> xOld\n",
    "        \n",
    "        # update approximate location of root\n",
    "        fOld = f(xOld)\n",
    "        xNew = xOld - fOld*(xOld - xOldOld)/(f(xOld) - f(xOldOld))\n",
    "        print('iteration',i,': approximate location of root at',xNew)\n",
    "    \n",
    "        # calculate errors\n",
    "        xErr = np.abs((xNew - xOld)/xNew)\n",
    "        fErr = f(xNew)\n",
    "\n",
    "        # check if errors are within the allowed tolerance\n",
    "        if (xErr <= TOL and fErr <= TOL):\n",
    "            best = xNew #best estimate\n",
    "            delta = np.abs(xNew-xOld) #uncertainty\n",
    "            print('SUCCESS! Root has been located to within the specified tolerance after',i,'iterations.')\n",
    "            print('Root is located at',best,'+/-',delta)\n",
    "            return\n",
    "\n",
    "        # print message if max iteration has been reached\n",
    "        if i == imax:\n",
    "            print('FAIL! Max number of iterations has been reached. Stopping.')\n",
    "            return\n",
    "        \n",
    "        # increment iteration number\n",
    "        i = i + 1"
   ]
  },
  {
   "cell_type": "code",
   "execution_count": 19,
   "metadata": {},
   "outputs": [],
   "source": [
    "%run secant.py"
   ]
  },
  {
   "cell_type": "markdown",
   "metadata": {},
   "source": [
    "## 4. Example"
   ]
  },
  {
   "cell_type": "code",
   "execution_count": 20,
   "metadata": {},
   "outputs": [],
   "source": [
    "# define function whose roots we are searching for\n",
    "def myfunc(x):\n",
    "    return np.cos(x) - x"
   ]
  },
  {
   "cell_type": "code",
   "execution_count": 21,
   "metadata": {},
   "outputs": [
    {
     "name": "stdout",
     "output_type": "stream",
     "text": [
      "iteration 1 : approximate location of root at 0.6850733573260451\n",
      "iteration 2 : approximate location of root at 0.736298997613654\n",
      "iteration 3 : approximate location of root at 0.7391193619116293\n",
      "iteration 4 : approximate location of root at 0.7390851121274639\n",
      "iteration 5 : approximate location of root at 0.7390851332150012\n",
      "iteration 6 : approximate location of root at 0.7390851332151607\n",
      "SUCCESS! Root has been located to within the specified tolerance after 6 iterations.\n",
      "Root is located at 0.7390851332151607 +/- 1.5942802633617248e-13\n"
     ]
    }
   ],
   "source": [
    "secant(myfunc, 0., 1., 1e-9, 100)"
   ]
  },
  {
   "cell_type": "markdown",
   "metadata": {},
   "source": [
    "## 5. Another example"
   ]
  },
  {
   "cell_type": "code",
   "execution_count": 22,
   "metadata": {},
   "outputs": [],
   "source": [
    "# define function whose roots we are searching for\n",
    "def myfunc2(x):\n",
    "    return np.cos(x) - x*np.sin(x)"
   ]
  },
  {
   "cell_type": "code",
   "execution_count": 23,
   "metadata": {},
   "outputs": [
    {
     "name": "stdout",
     "output_type": "stream",
     "text": [
      "iteration 1 : approximate location of root at 0.6182873909407172\n",
      "iteration 2 : approximate location of root at 0.8526543004751521\n",
      "iteration 3 : approximate location of root at 0.8611192293078886\n",
      "iteration 4 : approximate location of root at 0.8603316786475832\n",
      "iteration 5 : approximate location of root at 0.8603335885486075\n",
      "iteration 6 : approximate location of root at 0.8603335890193801\n",
      "SUCCESS! Root has been located to within the specified tolerance after 6 iterations.\n",
      "Root is located at 0.8603335890193801 +/- 4.707725320685086e-10\n"
     ]
    }
   ],
   "source": [
    "secant(myfunc2, 0., 2., 1e-9, 100)"
   ]
  },
  {
   "cell_type": "markdown",
   "metadata": {},
   "source": [
    "## 6. Bracket hunting add-on\n",
    "(see notebook on Bisection method.)"
   ]
  },
  {
   "cell_type": "code",
   "execution_count": 24,
   "metadata": {},
   "outputs": [],
   "source": [
    "%run getbrackets.py"
   ]
  },
  {
   "cell_type": "code",
   "execution_count": 25,
   "metadata": {},
   "outputs": [
    {
     "name": "stdout",
     "output_type": "stream",
     "text": [
      "sign change detected between 0.8508508508508509 and 0.8608608608608609\n",
      "sign change detected between 3.4234234234234235 and 3.4334334334334335\n",
      "sign change detected between 6.436436436436437 and 6.446446446446447\n",
      "sign change detected between 9.51951951951952 and 9.52952952952953\n"
     ]
    }
   ],
   "source": [
    "brackets = get_brackets(myfunc2, 0, 10, 1000)"
   ]
  },
  {
   "cell_type": "code",
   "execution_count": 26,
   "metadata": {},
   "outputs": [
    {
     "name": "stdout",
     "output_type": "stream",
     "text": [
      "iteration 1 : approximate location of root at 3.4256142054221073\n",
      "iteration 2 : approximate location of root at 3.425618451255579\n",
      "iteration 3 : approximate location of root at 3.4256184594817367\n",
      "iteration 4 : approximate location of root at 3.4256184594817283\n",
      "SUCCESS! Root has been located to within the specified tolerance after 4 iterations.\n",
      "Root is located at 3.4256184594817283 +/- 8.43769498715119e-15\n"
     ]
    }
   ],
   "source": [
    "nr = 1\n",
    "secant(myfunc2, brackets[nr][0], brackets[nr][1], 1e-9, 100)"
   ]
  },
  {
   "cell_type": "code",
   "execution_count": null,
   "metadata": {},
   "outputs": [],
   "source": []
  }
 ],
 "metadata": {
  "kernelspec": {
   "display_name": "Python 3",
   "language": "python",
   "name": "python3"
  },
  "language_info": {
   "codemirror_mode": {
    "name": "ipython",
    "version": 3
   },
   "file_extension": ".py",
   "mimetype": "text/x-python",
   "name": "python",
   "nbconvert_exporter": "python",
   "pygments_lexer": "ipython3",
   "version": "3.5.2"
  }
 },
 "nbformat": 4,
 "nbformat_minor": 2
}
