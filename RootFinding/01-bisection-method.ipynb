{
 "cells": [
  {
   "cell_type": "markdown",
   "metadata": {},
   "source": [
    "# Root Finding: Bisection Method\n",
    "---\n",
    "\n",
    "GENERAL PROBLEM: find the real roots of a given function $f(x)$ in the case when closed-form solutions are not available. That is, find the values of $x$ that satisfy the equation\n",
    "\n",
    "\\begin{align}\n",
    "  f(x) = 0\n",
    "\\end{align}\n",
    "\n",
    "where $x$ is a real variable, and $f(x)$ is some non-linear function.\n",
    "\n",
    "IDEA: start with an interval where the root is known to exist, divide (bisect) the interval into two subintervals, performing a simple test to determine which subinterval the root is in, and repeat until the desired precision is obtained. \n",
    "\n",
    "PRE-REQUISITES:\n",
    "- [None]\n",
    "\n",
    "REFERENCES:\n",
    "- [1] DeVries and Hasbun, *A First Course in Computational Physics, 2nd edition*.\n",
    "- [2] Burden and Faires, *Numerical Analysis, 7th edition*.\n",
    "- [3] Ralston and Rabinowitz, *A First Course in Numerical Analysis, 2nd edition*."
   ]
  },
  {
   "cell_type": "markdown",
   "metadata": {},
   "source": [
    "## 1. Algorithm\n",
    "\n",
    "**Step 0.** Identify an interval $[a,b]$ where the root in question is known to exist (and no other roots exist!). Set $a_{0}=a$ and $b_{0}=b$. Also, choose the desired relative error as the tolerance that the answer is required to have. \n",
    "\n",
    "**Step 1.** Divide the interval in half. Call this midpoint $c_{0}$.\n",
    "\n",
    "**Step 2.** Test the sign of the product $\\phi = \\mathrm{sgn}(f(a_{0}))\\mathrm{sgn}(f(c_{0}))$. \n",
    "\n",
    "*case i.* $\\phi < 0$. This means that $f(a_{0})$ and $f(c_{0})$ have opposite signs, which implies that the root lies in the *left* subinterval $[a_{0},c_{0}]$. Bracket the root by taking $c_{0}$ to be the new *right* boundary, i.e., set $a_{1}=a_{0}$ and $b_{1}=c_{0}$.\n",
    "\n",
    "*case ii.* $\\phi > 0$. This means that $f(a_{0})$ and $f(c_{0})$ have the same sign, which implies that the root lies in the *right* subinterval $[c_{0},b_{0}]$. Bracket the root by taking $c_{0}$ to be the new *left* boundary, i.e., set $a_{1}=c_{0}$ and $b_{1}=b_{0}$.\n",
    "\n",
    "*case iii.* $\\phi = 0$. This means that the root happens to be located at $c_{0}$, to within machine precision. STOP!\n",
    "\n",
    "**Step 3.** Repeat steps 1 and 2 for the new interval $[a_{i},b_{i}]$, where $i$ is the iteration number, incremented by one at the end of each iteration.\n",
    "\n",
    "Schematically, the process unfolds as follows\n",
    "\n",
    "\\begin{align}\n",
    "  [a_{0},b_{0}] \\rightarrow c_{0} \n",
    "  \\rightarrow [a_{1},b_{1}] \\rightarrow c_{1}\n",
    "  \\rightarrow [a_{2},b_{2}] \\rightarrow c_{2}\n",
    "  \\rightarrow \\cdots \\rightarrow c_{n-1}\n",
    "  \\rightarrow [a_{n},b_{n}] \\rightarrow \\text{STOP}\n",
    "\\end{align}\n",
    "\n",
    "where the root has been obtained at the $n$th iteration (or the maximum number of iterations has been reached)."
   ]
  },
  {
   "cell_type": "markdown",
   "metadata": {},
   "source": [
    "## 2. CODE"
   ]
  },
  {
   "cell_type": "code",
   "execution_count": 19,
   "metadata": {},
   "outputs": [],
   "source": [
    "import numpy as np\n",
    "import sys\n",
    "\n",
    "# bisect method\n",
    "def bisect(f, a, b, TOL, imax):\n",
    "    \"\"\"\n",
    "    searches for roots of f(x) using the bisection method\n",
    "    \n",
    "    INPUT:\n",
    "    f = function whose roots are being sought \n",
    "    a = initial left bracket\n",
    "    b = initial right bracket\n",
    "    TOL = allowed tolerance\n",
    "    imax = maximum number of iterations\n",
    "    \n",
    "    OUTPUT:\n",
    "    \n",
    "    \"\"\"\n",
    "    \n",
    "    # test initial bracket \n",
    "    if np.sign(f(a))*np.sign(f(b)) > 0:\n",
    "        # if sgn > 0, problem may not be well-defined\n",
    "        print('ERROR: same initial sign of f(x) at the interval boundaries.')\n",
    "        print('Are you sure that your initial interval brackets one and only one root?')\n",
    "        print('Choose a different interval, or use a different root-finding method.')\n",
    "        sys.exit()\n",
    "\n",
    "    # initialize iteration\n",
    "    xLeft = a   # set left bound\n",
    "    xRight = b  # set right bound\n",
    "    xMid = xLeft + (xRight - xLeft)/2. #calculate midpoint\n",
    "    i = 0  # reset iteration number\n",
    "    \n",
    "    # iterate search using bisection method\n",
    "    while i <= imax:\n",
    "    \n",
    "        # increment iteration number\n",
    "        i = i + 1\n",
    "        \n",
    "        # perform sign test\n",
    "        sgn = np.sign(f(xLeft))*np.sign(f(xMid))\n",
    "        if sgn <= 0:\n",
    "            # if sgn < 0, root is in left subinterval,\n",
    "            # make midpt the new right bound\n",
    "            print('iteration',i,': root is located in left subinterval, between',xLeft,'and',xMid)\n",
    "            xRight = xMid\n",
    "        elif sgn > 0:\n",
    "            # if sgn > 0, root is in right subinterval,\n",
    "            # make midpt the new left bound\n",
    "            print('iteration',i,': root is located in right subinterval, between',xMid,'and',xRight)\n",
    "            xLeft = xMid\n",
    "\n",
    "        # calculate new midpoint\n",
    "        xMid = xLeft + (xRight - xLeft)/2.\n",
    "    \n",
    "        # check if error is within the allowed tolerance\n",
    "        delta = xRight - xLeft # current uncertainty is width of interval\n",
    "        best = xMid            # current best estimate is middle of interval\n",
    "        err = np.abs(delta/best)       # calculate relative error\n",
    "        if (err <= TOL):\n",
    "            print('DONE! root has been located to within the specified tolerance root after',i,'iterations.')\n",
    "            print('Root is located at',xMid,'+/-',err*best)\n",
    "            break\n",
    "            \n",
    "        # print message if max iteration has been reached\n",
    "        if i == imax:\n",
    "            print('STOP! max number of iterations has been reached')"
   ]
  },
  {
   "cell_type": "markdown",
   "metadata": {},
   "source": [
    "## 3. A nice example"
   ]
  },
  {
   "cell_type": "code",
   "execution_count": 20,
   "metadata": {},
   "outputs": [],
   "source": [
    "# define function whose roots we are searching for\n",
    "def myfunc(x):\n",
    "    return np.cos(x) - x"
   ]
  },
  {
   "cell_type": "code",
   "execution_count": 21,
   "metadata": {},
   "outputs": [
    {
     "name": "stdout",
     "output_type": "stream",
     "text": [
      "iteration 1 : root is located in left subinterval, between 0.0 and 1.0\n",
      "iteration 2 : root is located in right subinterval, between 0.5 and 1.0\n",
      "iteration 3 : root is located in left subinterval, between 0.5 and 0.75\n",
      "iteration 4 : root is located in right subinterval, between 0.625 and 0.75\n",
      "iteration 5 : root is located in right subinterval, between 0.6875 and 0.75\n",
      "iteration 6 : root is located in right subinterval, between 0.71875 and 0.75\n",
      "iteration 7 : root is located in right subinterval, between 0.734375 and 0.75\n",
      "iteration 8 : root is located in left subinterval, between 0.734375 and 0.7421875\n",
      "iteration 9 : root is located in right subinterval, between 0.73828125 and 0.7421875\n",
      "iteration 10 : root is located in left subinterval, between 0.73828125 and 0.740234375\n",
      "iteration 11 : root is located in left subinterval, between 0.73828125 and 0.7392578125\n",
      "iteration 12 : root is located in right subinterval, between 0.73876953125 and 0.7392578125\n",
      "iteration 13 : root is located in right subinterval, between 0.739013671875 and 0.7392578125\n",
      "iteration 14 : root is located in left subinterval, between 0.739013671875 and 0.7391357421875\n",
      "iteration 15 : root is located in right subinterval, between 0.73907470703125 and 0.7391357421875\n",
      "iteration 16 : root is located in left subinterval, between 0.73907470703125 and 0.739105224609375\n",
      "iteration 17 : root is located in left subinterval, between 0.73907470703125 and 0.7390899658203125\n",
      "iteration 18 : root is located in right subinterval, between 0.7390823364257812 and 0.7390899658203125\n",
      "iteration 19 : root is located in left subinterval, between 0.7390823364257812 and 0.7390861511230469\n",
      "iteration 20 : root is located in right subinterval, between 0.7390842437744141 and 0.7390861511230469\n",
      "iteration 21 : root is located in left subinterval, between 0.7390842437744141 and 0.7390851974487305\n",
      "iteration 22 : root is located in right subinterval, between 0.7390847206115723 and 0.7390851974487305\n",
      "iteration 23 : root is located in right subinterval, between 0.7390849590301514 and 0.7390851974487305\n",
      "iteration 24 : root is located in right subinterval, between 0.7390850782394409 and 0.7390851974487305\n",
      "iteration 25 : root is located in left subinterval, between 0.7390850782394409 and 0.7390851378440857\n",
      "iteration 26 : root is located in right subinterval, between 0.7390851080417633 and 0.7390851378440857\n",
      "iteration 27 : root is located in right subinterval, between 0.7390851229429245 and 0.7390851378440857\n",
      "iteration 28 : root is located in right subinterval, between 0.7390851303935051 and 0.7390851378440857\n",
      "iteration 29 : root is located in left subinterval, between 0.7390851303935051 and 0.7390851341187954\n",
      "DONE! root has been located to within the specified tolerance root after 29 iterations.\n",
      "Root is located at 0.7390851322561502 +/- 3.725290298461914e-09\n"
     ]
    }
   ],
   "source": [
    "bisect(myfunc, 0., 2., 1e-8, 100)"
   ]
  },
  {
   "cell_type": "markdown",
   "metadata": {},
   "source": [
    "## 4. A not-so-nice example"
   ]
  },
  {
   "cell_type": "code",
   "execution_count": 22,
   "metadata": {},
   "outputs": [],
   "source": [
    "# define function whose roots we are searching for\n",
    "def myfunc2(x):\n",
    "    return np.cos(x)**2 + x"
   ]
  },
  {
   "cell_type": "code",
   "execution_count": 23,
   "metadata": {},
   "outputs": [
    {
     "name": "stdout",
     "output_type": "stream",
     "text": [
      "ERROR: same initial sign of f(x) at the interval boundaries.\n",
      "Are you sure that your initial interval brackets one and only one root?\n",
      "Choose a different interval, or use a different root-finding method.\n"
     ]
    },
    {
     "ename": "SystemExit",
     "evalue": "",
     "output_type": "error",
     "traceback": [
      "An exception has occurred, use %tb to see the full traceback.\n",
      "\u001b[0;31mSystemExit\u001b[0m\n"
     ]
    },
    {
     "name": "stderr",
     "output_type": "stream",
     "text": [
      "/usr/local/lib/python3.5/dist-packages/IPython/core/interactiveshell.py:2918: UserWarning: To exit: use 'exit', 'quit', or Ctrl-D.\n",
      "  warn(\"To exit: use 'exit', 'quit', or Ctrl-D.\", stacklevel=1)\n"
     ]
    }
   ],
   "source": [
    "bisect(myfunc2, 0., 6.37, 1e-9, 100)"
   ]
  },
  {
   "cell_type": "markdown",
   "metadata": {},
   "source": [
    "## 5. Convergence"
   ]
  },
  {
   "cell_type": "code",
   "execution_count": null,
   "metadata": {},
   "outputs": [],
   "source": []
  }
 ],
 "metadata": {
  "kernelspec": {
   "display_name": "Python 3",
   "language": "python",
   "name": "python3"
  },
  "language_info": {
   "codemirror_mode": {
    "name": "ipython",
    "version": 3
   },
   "file_extension": ".py",
   "mimetype": "text/x-python",
   "name": "python",
   "nbconvert_exporter": "python",
   "pygments_lexer": "ipython3",
   "version": "3.5.2"
  }
 },
 "nbformat": 4,
 "nbformat_minor": 2
}
