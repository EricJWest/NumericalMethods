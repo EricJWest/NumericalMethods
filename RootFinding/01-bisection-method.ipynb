{
 "cells": [
  {
   "cell_type": "markdown",
   "metadata": {},
   "source": [
    "# Root Finding: Bisection Method\n",
    "---\n",
    "\n",
    "GENERAL PROBLEM: find the real roots of a given function $f(x)$ in the case when closed-form solutions are not available. That is, find the values of $x$ that satisfy the equation\n",
    "\n",
    "\\begin{align}\n",
    "  f(x) = 0\n",
    "\\end{align}\n",
    "\n",
    "where $x$ is a real variable, and $f(x)$ is some non-linear function.\n",
    "\n",
    "IDEA: start with an interval that is known to bracket a root, divide the interval into two subintervals, performing a simple test to determine which subinterval the root is in, and repeat until the desired precision is obtained.\n",
    "\n",
    "PRE-REQUISITES:\n",
    "- [None]\n",
    "\n",
    "REFERENCES:\n",
    "- [1] DeVries and Hasbun, *A First Course in Computational Physics, 2nd edition*.\n",
    "- [2] Burden and Faires, *Numerical Analysis, 7th edition*.\n",
    "- [3] Ralston and Rabinowitz, *A First Course in Numerical Analysis, 2nd edition*.\n",
    "- [4] Press et al, *Numerical Recipes: the Art of Scientific Computing, 3rd edition*."
   ]
  },
  {
   "cell_type": "markdown",
   "metadata": {},
   "source": [
    "## 1. Summary of the method\n",
    "\n",
    "Consider a function $f(x)$ with one and only one root \"bracketed\" in the interval $[a,b]$. Here bracketed specifically means that the function has opposite signs at the end points of the interval. In other words, $f(a)$ and $f(b)$ have opposite signs. \n",
    "\n",
    "The idea behind the bisection method is to divide the bracketing interval in half, determine which subinterval still brackets the root, and repeat. The process is continued until the root is located to within some given tolerance, or some maximum allowed number of iterations is reached.\n",
    "\n",
    "The midpoint of the $i$th iteration is found using \n",
    "\n",
    "\\begin{align}\n",
    "  p_{i} = \\frac{a_{i} + b_{i}}{2} \n",
    "  = a_{i} + \\frac{b_{i} - a_{i}}{2}\n",
    "\\end{align}\n",
    "\n",
    "(PROGRAMMER'S NOTE: the second form is prefered, since it is less susceptible to roundoff error. When $b_{i}-a_{i}$ becomes close to machine precision, $(a_{i}+b_{i})/2$ may return a value outside of the interval $[a_{i},b_{i}]$. The second expression for the midpoint does not have this defect.) \n",
    "\n",
    "To determine which half interval the root falls in, define the function\n",
    "\n",
    "\\begin{align}\n",
    "  \\phi(x_{1},x_{2}) \\equiv \\mathrm{sgn}(f(x_{1}))\\mathrm{sgn}(f(x_{2}))\n",
    "\\end{align}\n",
    "\n",
    "At each iteration, apply this to the left subinterval $\\phi(a_{i-1},p_{i-1})=\\mathrm{sgn}(f(a_{i-1}))\\mathrm{sgn}(f(p_{i-1}))$. There are three cases to consider:\n",
    "\n",
    "- *case i.* $\\phi(a_{i-1},p_{i-1}) < 0$. This means that $f(a_{i-1})$ and $f(p_{i-1})$ have opposite signs, which implies that the root lies in the *left* subinterval $[a_{i-1},p_{i-1}]$. Therefore we choose our new interval to be the left subinterval, setting $[a_{i},b_{i}]=[a_{i-1},p_{i-1}]$.\n",
    "\n",
    "\n",
    "- *case ii.* $\\phi(a_{i-1},p_{i-1}) > 0$. This means that $f(a_{i-1})$ and $f(p_{i-1})$ have the same sign, which implies that the root is not in the left subinterval, and therefore must lie in the *right* subinterval $[p_{i-1},b_{i-1}]$. Therefore we choose our new interval to be the right subinterval, setting $[a_{i},b_{i}]=[p_{i-1},b_{i-1}]$.\n",
    "\n",
    "\n",
    "- *case iii.* $\\phi(a_{i-1},p_{i-1}) = 0$. This means that the midpoint coincides with the location of the root to within machine precision, and so we're done.\n",
    "\n",
    "(PROGRAMMER'S NOTE: the product $f(a_{i-1})f(p_{i-1})$ could also be used as a test, but it is more more susceptible to overflow/underflow if $f(x)$ becomes too large at either end of the interval.)\n",
    "\n",
    "To calculate the relative uncertainty in the location of the root at the end of an iteration, take the best estimate of the root, $\\bar{x}$, to be the latest midpoint, and take the absolute uncertainty, $\\delta{x}$, to be the width of the latest interval. The relative error is then calculated as\n",
    "\n",
    "\\begin{align}\n",
    "  \\mathsf{REL} = \\left|\\frac{\\delta{x}}{\\bar{x}}\\right| \n",
    "  = \\left|\\frac{\\text{(width of current interval)}}{\\text{(midpoint of current interval)}}\\right|\n",
    "  = \\left|\\frac{b_{i} - a_{i}}{p_{i}}\\right|\n",
    "\\end{align}\n",
    "\n",
    "We should also calculate the error of any proposed root candidate  \n",
    "\n",
    "\\begin{align}\n",
    "  \\mathsf{ABS} = \\left|f(p_{i})\\right|\n",
    "\\end{align}\n",
    "\n",
    "The process of searching for a root should continue until both of these errors are less than some specified tolerance (or the maximum allowed number of iterations is reached).\n",
    "\n",
    "We have assumed that one and only one root is bracketed by the initial interval. Under that condition, the root is always bracketed between two end points, and the interval is ever shrinking. So given enough iterations, the method is guaranteed to converge. The root will eventually be located. Of course, if more than one root lies within the initial interval, the method will find one of them, but there is no guarantee which one.\n",
    "\n",
    "(PROGRAMMER'S NOTE: the assumption that a root is bracketed by the initial interval is crucial. If there is a root in the interval, but it is not bracketed (say if the root is also a minimum or maximum of the function), our sign test will in general fail. Our test assumes that when the sign of the function at two points is the same, there is no root lying between them. A root that is also a minimum or maximum presents a counter-example to this logic. Therefore the bisection method is not equipped to handle this case. As a result, our algorithm should check whether a root is bracketed by the initial interval before applying the method.)"
   ]
  },
  {
   "cell_type": "markdown",
   "metadata": {},
   "source": [
    "## 2. Algorithm\n",
    "\n",
    "**INPUT**\n",
    "- an interval $[a,b]$ where a root of the function in question is known to exist.\n",
    "- TOL, the relative error tolerance that the answer is required to have.\n",
    "- $i_\\mathrm{max}$, maximum number of iterations allowed.\n",
    "\n",
    "**Validate initial interval**\n",
    "- if $\\phi(a,b) \\geq 0$, complain and quit. Otherwise continue.\n",
    "\n",
    "**Initialize loop**\n",
    "- set $i = 0$\n",
    "- set $a_{0}=a$ and $b_{0}=b$\n",
    "- set $p_{0} = a_{0} + (b_{0}-a_{0})/2$\n",
    "\n",
    "**Loop** while $i \\leq i_\\mathrm{max}$\n",
    "\n",
    "- i = i + 1\n",
    "\n",
    "\n",
    "- determine which subinterval the root lies in, and update end points\n",
    "  - calculate $\\phi(a_{i-1},p_{i-1}) = \\mathrm{sgn}(f(a_{i-1}))\\mathrm{sgn}(f(p_{i-1}))$.\n",
    "  - if $\\phi(a_{i-1},p_{i-1}) < 0$, set $a_{i}=a_{i-1}$ and $b_{i}=p_{i-1}$\n",
    "  - if $\\phi(a_{i-1},p_{i-1}) > 0$, set $a_{i}=p_{i-1}$ and $b_{i}=b_{i-1}$\n",
    "  - if $\\phi(a_{i-1},p_{i-1}) = 0$, stop\n",
    "\n",
    "\n",
    "- calculate the new midpoint using:  $p_{i} = a_{i} + (b_{i} - a_{i})/2$\n",
    "\n",
    "\n",
    "- calculate the relative uncertainty using:  REL $= \\left|(b_{i} - a_{i})/p_{i}\\right|$\n",
    "\n",
    "\n",
    "- calculate ABS $= |f(p_{i})|$\n",
    "\n",
    "\n",
    "- if (REL $\\leq$ TOL) and (ABS $\\leq$ TOL), stop. Otherwise, continue.\n",
    "\n",
    "\n",
    "- if $i > i_\\mathrm{max}$, stop. Otherwise, go back to the top of the loop."
   ]
  },
  {
   "cell_type": "markdown",
   "metadata": {},
   "source": [
    "## 3. CODE"
   ]
  },
  {
   "cell_type": "code",
   "execution_count": 182,
   "metadata": {},
   "outputs": [
    {
     "name": "stdout",
     "output_type": "stream",
     "text": [
      "Writing bisection.py\n"
     ]
    }
   ],
   "source": [
    "%%writefile bisection.py\n",
    "\n",
    "import numpy as np\n",
    "import sys\n",
    "\n",
    "# bisection method\n",
    "def bisect(f, a, b, TOL, imax):\n",
    "    \"\"\"\n",
    "    searches for roots of f(x) using the bisection method\n",
    "    \n",
    "    INPUT:\n",
    "    f = function whose roots are being sought \n",
    "    a = initial left bracket\n",
    "    b = initial right bracket\n",
    "    TOL = allowed tolerance\n",
    "    imax = maximum number of iterations\n",
    "    \n",
    "    OUTPUT:\n",
    "    location of the root to within the allowed tolerance, or failure message\n",
    "    \"\"\"\n",
    "    \n",
    "    # test initial bracket \n",
    "    if np.sign(f(a))*np.sign(f(b)) > 0:\n",
    "        # if sgn > 0, problem may not be well-defined\n",
    "        print('ERROR: function has the same sign at both ends of the interval.')\n",
    "        print('Bisection method is not well-suited to this problem, with the given input.')\n",
    "        print('Try a different initial interval, or choose a different method. Stopping.')\n",
    "        return\n",
    "\n",
    "    # initialize iteration\n",
    "    xLeft = a   # set left bound\n",
    "    xRight = b  # set right bound\n",
    "    xMid = xLeft + (xRight - xLeft)/2. # calculate midpoint\n",
    "    \n",
    "    # iterate search using bisection method\n",
    "    i = 0  # reset iteration number\n",
    "    while i <= imax:\n",
    "    \n",
    "        # increment iteration number\n",
    "        i = i + 1\n",
    "\n",
    "        # determine which subinterval the root lies in, and update end points      \n",
    "        sgn = np.sign(f(xLeft))*np.sign(f(xMid))\n",
    "        if sgn <= 0:\n",
    "            # if sgn < 0, root is in left subinterval,\n",
    "            # make midpt the new right end point\n",
    "            print('iteration',i,': root is located in left subinterval, between',xLeft,'and',xMid)\n",
    "            xRight = xMid\n",
    "        elif sgn > 0:\n",
    "            # if sgn > 0, root is in right subinterval,\n",
    "            # make midpt the new left end point\n",
    "            print('iteration',i,': root is located in right subinterval, between',xMid,'and',xRight)\n",
    "            xLeft = xMid \n",
    "        elif sgn == 0:\n",
    "            # if sgn = 0, root is located at the midpoint\n",
    "            print('SUCCESS! Root has been located to within machine precision after',i,'iterations.')\n",
    "            print('Root is located at',xMid)\n",
    "            return\n",
    "\n",
    "        # calculate new midpoint\n",
    "        xMid = xLeft + (xRight - xLeft)/2.\n",
    "    \n",
    "        # calculate errors\n",
    "        xErr = np.abs((xRight - xLeft)/xMid)\n",
    "        fErr = f(xMid)\n",
    "\n",
    "        # check if errors are within the allowed tolerance\n",
    "        if (xErr <= TOL and fErr <= TOL):\n",
    "            best = xMid #best estimate\n",
    "            delta = xRight-xLeft #uncertainty\n",
    "            print('SUCCESS! Root has been located to within the specified tolerance after',i,'iterations.')\n",
    "            print('Root is located at',best,'+/-',delta)\n",
    "            return\n",
    "\n",
    "        # print message if max iteration has been reached\n",
    "        if i == imax:\n",
    "            print('FAIL! Max number of iterations has been reached. Stopping.')\n",
    "            return"
   ]
  },
  {
   "cell_type": "code",
   "execution_count": 183,
   "metadata": {},
   "outputs": [],
   "source": [
    "%run bisection.py"
   ]
  },
  {
   "cell_type": "markdown",
   "metadata": {},
   "source": [
    "## 4. Example"
   ]
  },
  {
   "cell_type": "code",
   "execution_count": 8,
   "metadata": {},
   "outputs": [],
   "source": [
    "# define function whose roots we are searching for\n",
    "def myfunc(x):\n",
    "    return np.cos(x) - x"
   ]
  },
  {
   "cell_type": "code",
   "execution_count": 9,
   "metadata": {},
   "outputs": [
    {
     "name": "stdout",
     "output_type": "stream",
     "text": [
      "iteration 1 : root is located in right subinterval, between 0.5 and 1.0\n",
      "iteration 2 : root is located in left subinterval, between 0.5 and 0.75\n",
      "iteration 3 : root is located in right subinterval, between 0.625 and 0.75\n",
      "iteration 4 : root is located in right subinterval, between 0.6875 and 0.75\n",
      "iteration 5 : root is located in right subinterval, between 0.71875 and 0.75\n",
      "iteration 6 : root is located in right subinterval, between 0.734375 and 0.75\n",
      "iteration 7 : root is located in left subinterval, between 0.734375 and 0.7421875\n",
      "iteration 8 : root is located in right subinterval, between 0.73828125 and 0.7421875\n",
      "iteration 9 : root is located in left subinterval, between 0.73828125 and 0.740234375\n",
      "iteration 10 : root is located in left subinterval, between 0.73828125 and 0.7392578125\n",
      "iteration 11 : root is located in right subinterval, between 0.73876953125 and 0.7392578125\n",
      "iteration 12 : root is located in right subinterval, between 0.739013671875 and 0.7392578125\n",
      "iteration 13 : root is located in left subinterval, between 0.739013671875 and 0.7391357421875\n",
      "iteration 14 : root is located in right subinterval, between 0.73907470703125 and 0.7391357421875\n",
      "iteration 15 : root is located in left subinterval, between 0.73907470703125 and 0.739105224609375\n",
      "iteration 16 : root is located in left subinterval, between 0.73907470703125 and 0.7390899658203125\n",
      "iteration 17 : root is located in right subinterval, between 0.7390823364257812 and 0.7390899658203125\n",
      "iteration 18 : root is located in left subinterval, between 0.7390823364257812 and 0.7390861511230469\n",
      "iteration 19 : root is located in right subinterval, between 0.7390842437744141 and 0.7390861511230469\n",
      "iteration 20 : root is located in left subinterval, between 0.7390842437744141 and 0.7390851974487305\n",
      "iteration 21 : root is located in right subinterval, between 0.7390847206115723 and 0.7390851974487305\n",
      "iteration 22 : root is located in right subinterval, between 0.7390849590301514 and 0.7390851974487305\n",
      "iteration 23 : root is located in right subinterval, between 0.7390850782394409 and 0.7390851974487305\n",
      "iteration 24 : root is located in left subinterval, between 0.7390850782394409 and 0.7390851378440857\n",
      "iteration 25 : root is located in right subinterval, between 0.7390851080417633 and 0.7390851378440857\n",
      "iteration 26 : root is located in right subinterval, between 0.7390851229429245 and 0.7390851378440857\n",
      "iteration 27 : root is located in right subinterval, between 0.7390851303935051 and 0.7390851378440857\n",
      "iteration 28 : root is located in left subinterval, between 0.7390851303935051 and 0.7390851341187954\n",
      "iteration 29 : root is located in right subinterval, between 0.7390851322561502 and 0.7390851341187954\n",
      "iteration 30 : root is located in right subinterval, between 0.7390851331874728 and 0.7390851341187954\n",
      "iteration 31 : root is located in left subinterval, between 0.7390851331874728 and 0.7390851336531341\n",
      "SUCCESS! Root has been located to within the specified tolerance after 31 iterations.\n",
      "Root is located at 0.7390851334203035 +/- 4.656612873077393e-10\n"
     ]
    }
   ],
   "source": [
    "bisect(myfunc, 0., 1., 1e-9, 100)"
   ]
  },
  {
   "cell_type": "markdown",
   "metadata": {},
   "source": [
    "## 5. Another example"
   ]
  },
  {
   "cell_type": "code",
   "execution_count": 10,
   "metadata": {},
   "outputs": [],
   "source": [
    "# define function whose roots we are searching for\n",
    "def myfunc2(x):\n",
    "    #return (x-2)**2\n",
    "    return np.cos(x) - x*np.sin(x)"
   ]
  },
  {
   "cell_type": "code",
   "execution_count": 11,
   "metadata": {},
   "outputs": [
    {
     "name": "stdout",
     "output_type": "stream",
     "text": [
      "iteration 1 : root is located in left subinterval, between 0 and 1.5\n",
      "iteration 2 : root is located in right subinterval, between 0.75 and 1.5\n",
      "iteration 3 : root is located in left subinterval, between 0.75 and 1.125\n",
      "iteration 4 : root is located in left subinterval, between 0.75 and 0.9375\n",
      "iteration 5 : root is located in right subinterval, between 0.84375 and 0.9375\n",
      "iteration 6 : root is located in left subinterval, between 0.84375 and 0.890625\n",
      "iteration 7 : root is located in left subinterval, between 0.84375 and 0.8671875\n",
      "iteration 8 : root is located in right subinterval, between 0.85546875 and 0.8671875\n",
      "iteration 9 : root is located in left subinterval, between 0.85546875 and 0.861328125\n",
      "iteration 10 : root is located in right subinterval, between 0.8583984375 and 0.861328125\n",
      "iteration 11 : root is located in right subinterval, between 0.85986328125 and 0.861328125\n",
      "iteration 12 : root is located in left subinterval, between 0.85986328125 and 0.860595703125\n",
      "iteration 13 : root is located in right subinterval, between 0.8602294921875 and 0.860595703125\n",
      "iteration 14 : root is located in left subinterval, between 0.8602294921875 and 0.86041259765625\n",
      "iteration 15 : root is located in right subinterval, between 0.860321044921875 and 0.86041259765625\n",
      "iteration 16 : root is located in left subinterval, between 0.860321044921875 and 0.8603668212890625\n",
      "iteration 17 : root is located in left subinterval, between 0.860321044921875 and 0.8603439331054688\n",
      "iteration 18 : root is located in right subinterval, between 0.8603324890136719 and 0.8603439331054688\n",
      "iteration 19 : root is located in left subinterval, between 0.8603324890136719 and 0.8603382110595703\n",
      "iteration 20 : root is located in left subinterval, between 0.8603324890136719 and 0.8603353500366211\n",
      "iteration 21 : root is located in left subinterval, between 0.8603324890136719 and 0.8603339195251465\n",
      "iteration 22 : root is located in right subinterval, between 0.8603332042694092 and 0.8603339195251465\n",
      "iteration 23 : root is located in right subinterval, between 0.8603335618972778 and 0.8603339195251465\n",
      "iteration 24 : root is located in left subinterval, between 0.8603335618972778 and 0.8603337407112122\n",
      "iteration 25 : root is located in left subinterval, between 0.8603335618972778 and 0.860333651304245\n",
      "iteration 26 : root is located in left subinterval, between 0.8603335618972778 and 0.8603336066007614\n",
      "SUCCESS! Root has been located to within the specified tolerance after 26 iterations.\n",
      "Root is located at 0.8603335842490196 +/- 4.470348358154297e-08\n"
     ]
    }
   ],
   "source": [
    "bisect(myfunc2, 0, 3, 1e-7, 100)"
   ]
  },
  {
   "cell_type": "markdown",
   "metadata": {},
   "source": [
    "## 6. Bracket hunting add-on\n",
    "\n",
    "In the spirit of defensive programming, we might employ a slightly more sophisticated check on whether a root of a function is bracketed by the initial interval. We might be blindly handed a function that has more than one root in the initial interval. Or more likely, we might mistakenly choose an initial interval that is either too big (so that it includes multiple roots) or too small (so that it contains no roots). Our algorithm above checks whether the initial interval brackets a root, but it gives no insight in the case of a failure.\n",
    "\n",
    "A simple way to extend our code is to perform an initial search over the given interval for sign changes, which would suggest the presence of bracketed roots. We can make this probe as fancy as we like. Here we just take a brute force approach: divide the interval into $N$ evenly spaced subintervals, and then test each subinterval for a sign change. The routine returns a list of potential bracketed roots. "
   ]
  },
  {
   "cell_type": "code",
   "execution_count": 184,
   "metadata": {},
   "outputs": [
    {
     "name": "stdout",
     "output_type": "stream",
     "text": [
      "Writing getbrackets.py\n"
     ]
    }
   ],
   "source": [
    "%%writefile getbrackets.py\n",
    "\n",
    "import numpy as np\n",
    "\n",
    "def get_brackets(f, a, b, n):\n",
    "    \"\"\"\n",
    "    scans an interval for bracketed roots by performing a simple divide and conquer strategy\n",
    "    \n",
    "    INPUT:\n",
    "    f = function to scan for bracketed roots\n",
    "    a = left end point of search interval\n",
    "    b = right end point of search interval\n",
    "    n = number of subdivisions to consider\n",
    "    \n",
    "    OUTPUT:\n",
    "    list of potential bracketed roots\n",
    "    \"\"\"\n",
    "    \n",
    "    # create grid\n",
    "    x = np.linspace(a,b,n)\n",
    "    \n",
    "    # initialize output grid, adding dummy row (to be removed later)\n",
    "    keep = np.array([[a,b]]) \n",
    "    \n",
    "    # test for bracketed roots (sign changes)\n",
    "    for i in range(0,n-1):\n",
    "        phi = np.sign(f(x[i]))*np.sign(f(x[i+1]))\n",
    "        if phi < 0:\n",
    "            print('sign change detected between',x[i],'and',x[i+1])\n",
    "            keep = np.concatenate((keep, [[x[i],x[i+1]]]))\n",
    "    \n",
    "    # remove first row (dummy row)\n",
    "    keep = np.delete(keep, 0, axis=0)\n",
    "\n",
    "    # check whether bracketed roots have been detected\n",
    "    if keep.size == 0:\n",
    "        print('WARNING: no sign changes have been detected between',a,'and',b)\n",
    "    \n",
    "    return keep"
   ]
  },
  {
   "cell_type": "code",
   "execution_count": 185,
   "metadata": {},
   "outputs": [],
   "source": [
    "%run getbrackets.py"
   ]
  },
  {
   "cell_type": "code",
   "execution_count": 186,
   "metadata": {},
   "outputs": [
    {
     "name": "stdout",
     "output_type": "stream",
     "text": [
      "sign change detected between -3.46464646465 and -3.38383838384\n",
      "sign change detected between -0.878787878788 and -0.79797979798\n",
      "sign change detected between 0.818181818182 and 0.89898989899\n"
     ]
    }
   ],
   "source": [
    "roots = get_brackets(myfunc2, -5, 3, 100)"
   ]
  },
  {
   "cell_type": "code",
   "execution_count": 180,
   "metadata": {},
   "outputs": [
    {
     "name": "stdout",
     "output_type": "stream",
     "text": [
      "iteration 1 : root is located in left subinterval, between -0.878787878788 and -0.838383838384\n",
      "iteration 2 : root is located in left subinterval, between -0.878787878788 and -0.858585858586\n",
      "iteration 3 : root is located in right subinterval, between -0.868686868687 and -0.858585858586\n",
      "iteration 4 : root is located in right subinterval, between -0.863636363636 and -0.858585858586\n",
      "iteration 5 : root is located in right subinterval, between -0.861111111111 and -0.858585858586\n",
      "iteration 6 : root is located in left subinterval, between -0.861111111111 and -0.859848484848\n",
      "iteration 7 : root is located in right subinterval, between -0.86047979798 and -0.859848484848\n",
      "iteration 8 : root is located in left subinterval, between -0.86047979798 and -0.860164141414\n",
      "iteration 9 : root is located in left subinterval, between -0.86047979798 and -0.860321969697\n",
      "iteration 10 : root is located in right subinterval, between -0.860400883838 and -0.860321969697\n",
      "iteration 11 : root is located in right subinterval, between -0.860361426768 and -0.860321969697\n",
      "iteration 12 : root is located in right subinterval, between -0.860341698232 and -0.860321969697\n",
      "iteration 13 : root is located in left subinterval, between -0.860341698232 and -0.860331833965\n",
      "iteration 14 : root is located in right subinterval, between -0.860336766098 and -0.860331833965\n",
      "iteration 15 : root is located in right subinterval, between -0.860334300032 and -0.860331833965\n",
      "iteration 16 : root is located in left subinterval, between -0.860334300032 and -0.860333066998\n",
      "iteration 17 : root is located in right subinterval, between -0.860333683515 and -0.860333066998\n",
      "iteration 18 : root is located in left subinterval, between -0.860333683515 and -0.860333375256\n",
      "iteration 19 : root is located in left subinterval, between -0.860333683515 and -0.860333529386\n",
      "iteration 20 : root is located in right subinterval, between -0.86033360645 and -0.860333529386\n",
      "iteration 21 : root is located in left subinterval, between -0.86033360645 and -0.860333567918\n",
      "iteration 22 : root is located in left subinterval, between -0.86033360645 and -0.860333587184\n",
      "iteration 23 : root is located in right subinterval, between -0.860333596817 and -0.860333587184\n",
      "iteration 24 : root is located in right subinterval, between -0.860333592001 and -0.860333587184\n",
      "iteration 25 : root is located in right subinterval, between -0.860333589592 and -0.860333587184\n",
      "iteration 26 : root is located in left subinterval, between -0.860333589592 and -0.860333588388\n",
      "iteration 27 : root is located in left subinterval, between -0.860333589592 and -0.86033358899\n",
      "SUCCESS! Root has been located to within the specified tolerance after 27 iterations.\n",
      "Root is located at -0.860333589291 +/- 6.02067062871e-10\n"
     ]
    }
   ],
   "source": [
    "nr = 1\n",
    "bisect(myfunc2, roots[nr][0], roots[nr][1], 1e-9, 100)"
   ]
  },
  {
   "cell_type": "code",
   "execution_count": 181,
   "metadata": {},
   "outputs": [
    {
     "name": "stdout",
     "output_type": "stream",
     "text": [
      "iteration 1 : root is located in right subinterval, between 0.5 and 1\n",
      "iteration 2 : root is located in right subinterval, between 0.75 and 1\n",
      "iteration 3 : root is located in left subinterval, between 0.75 and 0.875\n",
      "iteration 4 : root is located in right subinterval, between 0.8125 and 0.875\n",
      "iteration 5 : root is located in right subinterval, between 0.84375 and 0.875\n",
      "iteration 6 : root is located in right subinterval, between 0.859375 and 0.875\n",
      "iteration 7 : root is located in left subinterval, between 0.859375 and 0.8671875\n",
      "iteration 8 : root is located in left subinterval, between 0.859375 and 0.86328125\n",
      "iteration 9 : root is located in left subinterval, between 0.859375 and 0.861328125\n",
      "iteration 10 : root is located in left subinterval, between 0.859375 and 0.8603515625\n",
      "iteration 11 : root is located in right subinterval, between 0.85986328125 and 0.8603515625\n",
      "iteration 12 : root is located in right subinterval, between 0.860107421875 and 0.8603515625\n",
      "iteration 13 : root is located in right subinterval, between 0.8602294921875 and 0.8603515625\n",
      "iteration 14 : root is located in right subinterval, between 0.86029052734375 and 0.8603515625\n",
      "iteration 15 : root is located in right subinterval, between 0.860321044921875 and 0.8603515625\n",
      "iteration 16 : root is located in left subinterval, between 0.860321044921875 and 0.8603363037109375\n",
      "iteration 17 : root is located in right subinterval, between 0.8603286743164062 and 0.8603363037109375\n",
      "iteration 18 : root is located in right subinterval, between 0.8603324890136719 and 0.8603363037109375\n",
      "iteration 19 : root is located in left subinterval, between 0.8603324890136719 and 0.8603343963623047\n",
      "iteration 20 : root is located in right subinterval, between 0.8603334426879883 and 0.8603343963623047\n",
      "iteration 21 : root is located in left subinterval, between 0.8603334426879883 and 0.8603339195251465\n",
      "iteration 22 : root is located in left subinterval, between 0.8603334426879883 and 0.8603336811065674\n",
      "iteration 23 : root is located in right subinterval, between 0.8603335618972778 and 0.8603336811065674\n",
      "iteration 24 : root is located in left subinterval, between 0.8603335618972778 and 0.8603336215019226\n",
      "iteration 25 : root is located in left subinterval, between 0.8603335618972778 and 0.8603335916996002\n",
      "iteration 26 : root is located in right subinterval, between 0.860333576798439 and 0.8603335916996002\n",
      "iteration 27 : root is located in right subinterval, between 0.8603335842490196 and 0.8603335916996002\n",
      "iteration 28 : root is located in right subinterval, between 0.8603335879743099 and 0.8603335916996002\n",
      "iteration 29 : root is located in left subinterval, between 0.8603335879743099 and 0.8603335898369551\n",
      "iteration 30 : root is located in right subinterval, between 0.8603335889056325 and 0.8603335898369551\n",
      "iteration 31 : root is located in left subinterval, between 0.8603335889056325 and 0.8603335893712938\n",
      "SUCCESS! Root has been located to within the specified tolerance after 31 iterations.\n",
      "Root is located at 0.8603335891384631 +/- 4.656612873077393e-10\n"
     ]
    }
   ],
   "source": [
    "bisect(myfunc2, 0, 1, 1e-9, 100)"
   ]
  },
  {
   "cell_type": "code",
   "execution_count": null,
   "metadata": {},
   "outputs": [],
   "source": []
  },
  {
   "cell_type": "code",
   "execution_count": null,
   "metadata": {},
   "outputs": [],
   "source": []
  }
 ],
 "metadata": {
  "kernelspec": {
   "display_name": "Python 3",
   "language": "python",
   "name": "python3"
  },
  "language_info": {
   "codemirror_mode": {
    "name": "ipython",
    "version": 3
   },
   "file_extension": ".py",
   "mimetype": "text/x-python",
   "name": "python",
   "nbconvert_exporter": "python",
   "pygments_lexer": "ipython3",
   "version": "3.5.2"
  }
 },
 "nbformat": 4,
 "nbformat_minor": 2
}
