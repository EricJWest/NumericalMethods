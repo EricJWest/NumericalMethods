{
 "cells": [
  {
   "cell_type": "markdown",
   "metadata": {},
   "source": [
    "# Numerical Integration\n",
    "---\n",
    "GENERAL PROBLEM: numerically evaluate a definite integral.\n",
    "\n",
    "IDEA: approximate the integral by a discrete sum\n",
    "\n",
    "$$I \\equiv \\int_{a}^{b} f(x)\\,dx \\approx \\sum_{i=0}^{n} w_{i}\\,f(x_{i})$$\n",
    "\n",
    "This method of approximating an integral by a sum is often called **numerical quadrature** (\"quadrature\" being an archaic way of saying \"box counting\")."
   ]
  },
  {
   "cell_type": "markdown",
   "metadata": {},
   "source": [
    "## Newton-Cotes Formulae\n",
    "\n",
    "We start by approximating the function $f(x)$ by a single $n$th-degree interpolating polynomial $p(x)$ over the interval $[a,b]$, and then integrating that polynomial over the interval. Furthermore, we take the interpolating points to be evenly spaced. There is a choice to be made whether to place interpolating points at the boundaries of the interval, or not. If the boundary points $x=a$ and $x=b$ coincide with interpolating points (nodes), we obtain the **closed** Newton-Cotes formulae. If the boundary points do not correspond to nodes, we obtain the **open** Newton-Cotes formulae.\n",
    "\n",
    "### Closed Newton-Cotes formulae\n",
    "\n",
    "**Trapezoid rule (n=1):** The simplest case to consider is to approximate the function by a straight line between the end points $f(a)$ and $f(b)$. The integral is then the area of the resulting trapezoid\n",
    "\n",
    "$$\n",
    "   I \\equiv \\int_{a}^{b} f(x)\\,dx \\approx \\frac{h}{2}(f(a) + f(b)),\n",
    "$$\n",
    "\n",
    "where $h = b - a$ is the base of the trapezoid. This can also be obtained from Lagrange's 1st-order (linear) interpolating polynomial\n",
    "\n",
    "$$ \n",
    "   p(x) = \\frac{(x - x_{1})}{(x_{0} - x_{1})}f(x_{0})\n",
    "   + \\frac{(x - x_{0})}{(x_{1} - x_{0})}f(x_{1}) \n",
    "$$\n",
    "\n",
    "where $x_{0}=a$ and $x_{1}=b=a+h$. Integrating this fuction over $[a,b]$ yields the result above.\n",
    "\n",
    "**Simpson's rule (n=2):** Next consider approximating the function by a 2nd-order (quadratic) polynomial. Divide the interval $[a,b]$ into two equal subintervals of width $h=(b-a)/2$. Let $x_{0}=a$, $x_{1}=a+h$, and $x_{2}=a+2h=b$. Approximate $f(x)$ by the 2nd-order polynomial\n",
    "\n",
    "$$\n",
    "   p(x) = \\frac{(x - x_{1})(x - x_{2})}{(x_{0} - x_{1})(x_{0} - x_{2})}f(x_{0})\n",
    "   + \\frac{(x - x_{0})(x - x_{2})}{(x_{1} - x_{0})(x_{1} - x_{2})}f(x_{1}) \n",
    "   + \\frac{(x - x_{0})(x - x_{1})}{(x_{2} - x_{0})(x_{2} - x_{1})}f(x_{2}).\n",
    "$$\n",
    "\n",
    "Then integrate\n",
    "\n",
    "$$\n",
    "   I \\equiv \\int_{a}^{b} f(x)\\,dx \n",
    "   \\approx \\int_{a}^{b} p(x)\\,dx\n",
    "   = \\frac{h}{3}(f(x_{0}) + 4f(x_{1}) + f(x_{2})),\n",
    "$$\n",
    "\n",
    "Similar considerations yield rules for higher-degree interpolating polynomials by dividing the interval $[a,b]$ into equally spaced subintervals. Notice that the cases considered above assume that the first and last nodes coincide with the boundary of the interval $[a,b]$. The first six closed Newton-Cotes formulae are listed here:\n",
    "\n",
    "**n=1:** $\\quad\\quad I \\approx \\frac{h}{2}\\left(f(x_{0}) + f(x_{1})\\right) \\quad\\quad$ (trapezoid rule)\n",
    "\n",
    "**n=2:** $\\quad\\quad I \\approx \\frac{h}{3}(f(x_{0}) + 4\\,f(x_{1}) + f(x_{2}))\\quad\\quad$ (Simpson's rule)\n",
    "\n",
    "**n=3:** $\\quad\\quad I \\approx \\frac{3h}{8}(f(x_{0}) + 3\\,f(x_{1}) + 3\\,f(x_{2}) + f(x_{3}))$\n",
    "\n",
    "**n=4:** $\\quad\\quad I \\approx \\frac{2h}{45}(7\\,f(x_{0}) + 32\\,f(x_{1}) + 12\\,f(x_{2}) + 32\\,f(x_{3}) + 7\\,f(x_{4}))$\n",
    "\n",
    "**n=5:** $\\quad\\quad I \\approx \\frac{5h}{288}(19\\,f(x_{0}) + 75\\,f(x_{1}) + 50\\,f(x_{2}) + 50\\,f(x_{3}) + 75\\,f(x_{4}) + 19\\,f(x_{5}))$\n",
    "\n",
    "**n=6:** $\\quad\\quad I \\approx \\frac{h}{140}(41\\,f(x_{0}) + 216\\,f(x_{1}) + 27\\,f(x_{2}) + 272\\,f(x_{3}) + 27\\,f(x_{4}) + 216\\,f(x_{5}) + 41\\,f(x_{6}))$\n",
    "\n",
    "(See [newton-cotes_formulae_closed.ipynb](https://github.com/ejwest2/math/blob/master/NumericalMethods/NumIntegrate/newton-cotes_formulae_closed.ipynb).) \n",
    "\n",
    "### Open Newton-Cotes formulae\n",
    "\n",
    "**Midpoint rule (n=0):** Divide the interval $[a,b]$ into two equally spaced subintervals of width $h=(b-a)/2$. Let $x_{0}=a+h=b-h$. Approximate the function $f(x)$ by the constant $f(x_{0})$. Then\n",
    "\n",
    "$$\n",
    "   I  \\approx \\int_{a}^{b}f(x_{0})\\,dx\n",
    "   = 2\\,h\\,f(x_{0}).\n",
    "$$\n",
    "\n",
    "**Rule for n=1:** Divide the interval $[a,b]$ into three equally spaced subintervals of width $h=(b-a)/3$. Let $x_{0}=a+h$ and $x_{1}=a+2h=b-h$. Approximate the function $f(x)$ by the linear interpolating polynomial, and then integrate.\n",
    "\n",
    "This procedure can then be generalized to higher-degree. The first six open Newton-Cotes formulae are listed here:\n",
    "\n",
    "**n=0:** $\\quad\\quad I \\approx 2\\,h\\,f(x_{0}) \\quad\\quad$ (midpoint rule)\n",
    "\n",
    "**n=1:** $\\quad\\quad I \\approx \\frac{3h}{2}(f(x_{0}) + f(x_{1}))$\n",
    "\n",
    "**n=2:** $\\quad\\quad I \\approx \\frac{4h}{3}(2\\,f(x_{0}) - f(x_{1}) + 2\\,f(x_{2}))$\n",
    "\n",
    "**n=3:** $\\quad\\quad I \\approx \\frac{5h}{24}(11\\,f(x_{0}) + f(x_{1}) + f(x_{2}) + 11\\,f(x_{3}))$\n",
    "\n",
    "**n=4:** $\\quad\\quad I \\approx \\frac{3h}{10}(11\\,f(x_{0}) - 14\\,f(x_{1}) + 26\\,f(x_{2}) - 14\\,f(x_{3}) + 11\\,f(x_{4}))$\n",
    "\n",
    "**n=5:** $\\quad\\quad I \\approx \\frac{7h}{1440}(611\\,f(x_{0}) - 453\\,f(x_{1}) + 562\\,f(x_{2}) + 562\\,f(x_{3}) - 453\\,f(x_{4}) + 611\\,f(x_{5}))$\n",
    "\n",
    "(See [newton-cotes_formulae_open.ipynb](https://github.com/ejwest2/math/blob/master/NumericalMethods/NumIntegrate/newton-cotes_formulae_open.ipynb).)"
   ]
  },
  {
   "cell_type": "markdown",
   "metadata": {},
   "source": [
    "### Code for Newton-Cotes Integration"
   ]
  },
  {
   "cell_type": "code",
   "execution_count": 93,
   "metadata": {},
   "outputs": [],
   "source": [
    "# closed Newton-Cotes formulae\n",
    "\n",
    "def ncClosed1 (f, a, b):\n",
    "    h = (b - a)\n",
    "    return (h/2)*(f(a) + f(b))\n",
    "\n",
    "def ncClosed2 (f, a, b):\n",
    "    h = (b - a)/2\n",
    "    return (h/3)*(f(a) + 4*f(a+h) + f(b))\n",
    "\n",
    "def ncClosed3 (f, a, b):\n",
    "    h = (b - a)/3\n",
    "    return (3*h/8)*(f(a) + 3*f(a+h) + 3*f(a+2*h) + f(b))\n",
    "\n",
    "def ncClosed4 (f, a, b):\n",
    "    h = (b - a)/4\n",
    "    return (2*h/45)*(7*f(a) + 32*f(a+h) + 12*f(a+2*h) + 32*f(a+3*h) + 7*f(b))\n",
    "\n",
    "def ncClosed5 (f, a, b):\n",
    "    h = (b - a)/5\n",
    "    return (5*h/288)*(19*f(a) + 75*f(a+h) + 50*f(a+2*h) + 50*f(a+3*h) \\\n",
    "                      + 75*f(a+4*h) + 19*f(b))\n",
    "\n",
    "def ncClosed6 (f, a, b):\n",
    "    h = (b - a)/6\n",
    "    return (h/140)*(41*f(a) + 216*f(a+h) + 27*f(a+2*h) + 272*f(a+3*h) \\\n",
    "                    + 27*f(a+4*h) + 216*f(a+5*h) + 41*f(b))\n",
    "\n",
    "# open Newton-Cotes formulae\n",
    "\n",
    "def ncOpen0 (f, a, b):\n",
    "    h = (b - a)/2\n",
    "    return 2*h*f(a+h)\n",
    "\n",
    "def ncOpen1 (f, a, b):\n",
    "    h = (b - a)/3\n",
    "    return (3*h/2)*(f(a+h) + f(a+2*h))\n",
    "\n",
    "def ncOpen2 (f, a, b):\n",
    "    h = (b - a)/4\n",
    "    return (4*h/3)*(2*f(a+h) - f(a+2*h) + 2*f(a+3*h))\n",
    "\n",
    "def ncOpen3 (f, a, b):\n",
    "    h = (b - a)/5\n",
    "    return (5*h/24)*(11*f(a+h) + f(a+2*h) + f(a+3*h) + 11*f(a+4*h))\n",
    "\n",
    "def ncOpen4 (f, a, b):\n",
    "    h = (b - a)/6\n",
    "    return (3*h/10)*(11*f(a+h) - 14*f(a+2*h) + 26*f(a+3*h) \\\n",
    "                     - 14*f(a+4*h) + 11*f(a+5*h))\n",
    "\n",
    "def ncOpen5 (f, a, b):\n",
    "    h = (b - a)/7\n",
    "    return (7*h/1440)*(611*f(a+h) - 453*f(a+2*h) + 562*f(a+3*h) \\\n",
    "                       + 562*f(a+4*h) - 453*f(a+5*h) + 611*f(a+6*h))"
   ]
  },
  {
   "cell_type": "markdown",
   "metadata": {},
   "source": [
    "### Example: Integrate $e^x$\n",
    "Let's see how well these work for the integral\n",
    "\n",
    "\\begin{equation}\n",
    "   I = \\int_{0}^{1} e^{x}\\,dx = e - 1\n",
    "\\end{equation}"
   ]
  },
  {
   "cell_type": "code",
   "execution_count": 94,
   "metadata": {},
   "outputs": [
    {
     "data": {
      "text/plain": [
       "1.718281828459045"
      ]
     },
     "execution_count": 94,
     "metadata": {},
     "output_type": "execute_result"
    }
   ],
   "source": [
    "# exact answer\n",
    "import numpy as np\n",
    "from decimal import getcontext \n",
    "getcontext().prec = 16\n",
    "iex = np.e - 1\n",
    "iex"
   ]
  },
  {
   "cell_type": "code",
   "execution_count": 103,
   "metadata": {},
   "outputs": [
    {
     "name": "stdout",
     "output_type": "stream",
     "text": [
      "Integrals using Newton-Cotes formulae of degree n:\n",
      "\n",
      "\t\tClosed: \t\tOpen:\n",
      "n=0:  \t\t--- \t\t\t1.648721270700\n",
      "n=1:  \t\t1.859140914230 \t\t1.671673233070\n",
      "n=2:  \t\t1.718861151877 \t\t1.717776531967\n",
      "n=3:  \t\t1.718540153360 \t\t1.717930168800\n",
      "n=4:  \t\t1.718282687925 \t\t1.718280092679\n",
      "n=5:  \t\t1.718282312990 \t\t1.718280601648\n",
      "n=6:  \t\t1.718281829518 \t\t---\n",
      "\n",
      "exact:  \t1.718281828459 \t\t1.718281828459\n"
     ]
    }
   ],
   "source": [
    "# numerical integrals\n",
    "f, a, b = np.exp, 0, 1\n",
    "\n",
    "ic1 = ncClosed1(f, a, b)\n",
    "ic2 = ncClosed2(f, a, b)\n",
    "ic3 = ncClosed3(f, a, b)\n",
    "ic4 = ncClosed4(f, a, b)\n",
    "ic5 = ncClosed5(f, a, b)\n",
    "ic6 = ncClosed6(f, a, b)\n",
    "\n",
    "io0 = ncOpen0(f, a, b)\n",
    "io1 = ncOpen1(f, a, b)\n",
    "io2 = ncOpen2(f, a, b)\n",
    "io3 = ncOpen3(f, a, b)\n",
    "io4 = ncOpen4(f, a, b)\n",
    "io5 = ncOpen5(f, a, b)\n",
    "\n",
    "# print the results\n",
    "print(\"Integrals using Newton-Cotes formulae of degree n:\\n\")\n",
    "print(\"\\t\\t%s \\t\\t%s\" % ('Closed:', 'Open:'))\n",
    "print(\"%s \\t\\t%s \\t\\t\\t%.12f\" % ('n=0: ', '---', io0))\n",
    "print(\"%s \\t\\t%.12f \\t\\t%.12f\" % ('n=1: ', ic1, io1))\n",
    "print(\"%s \\t\\t%.12f \\t\\t%.12f\" % ('n=2: ', ic2, io2))\n",
    "print(\"%s \\t\\t%.12f \\t\\t%.12f\" % ('n=3: ', ic3, io3))\n",
    "print(\"%s \\t\\t%.12f \\t\\t%.12f\" % ('n=4: ', ic4, io4))\n",
    "print(\"%s \\t\\t%.12f \\t\\t%.12f\" % ('n=5: ', ic5, io5))\n",
    "print(\"%s \\t\\t%.12f \\t\\t%s\" % ('n=6: ', ic6, '---'))\n",
    "print(\"\")\n",
    "print(\"%s \\t%.12f \\t\\t%.12f\" % ('exact: ', iex, iex))"
   ]
  },
  {
   "cell_type": "code",
   "execution_count": 101,
   "metadata": {},
   "outputs": [
    {
     "name": "stdout",
     "output_type": "stream",
     "text": [
      "Relative error for Newton-Cotes formulae of degree n:\n",
      "\n",
      "\t\tClosed: \t\tOpen:\n",
      "n=0:  \t\t--- \t\t\t0.040482624333\n",
      "n=1:  \t\t0.081976706869 \t\t0.027125116856\n",
      "n=2:  \t\t0.000337152735 \t\t0.000294070788\n",
      "n=3:  \t\t0.000150339075 \t\t0.000204657730\n",
      "n=4:  \t\t0.000000500189 \t\t0.000001010184\n",
      "n=5:  \t\t0.000000281986 \t\t0.000000713975\n",
      "n=6:  \t\t0.000000000616 \t\t---\n"
     ]
    }
   ],
   "source": [
    "# relative error\n",
    "rc1 = abs((ic1 - iex)/iex)\n",
    "rc2 = abs((ic2 - iex)/iex)\n",
    "rc3 = abs((ic3 - iex)/iex)\n",
    "rc4 = abs((ic4 - iex)/iex)\n",
    "rc5 = abs((ic5 - iex)/iex)\n",
    "rc6 = abs((ic6 - iex)/iex)\n",
    "\n",
    "ro0 = abs((io0 - iex)/iex)\n",
    "ro1 = abs((io1 - iex)/iex)\n",
    "ro2 = abs((io2 - iex)/iex)\n",
    "ro3 = abs((io3 - iex)/iex)\n",
    "ro4 = abs((io4 - iex)/iex)\n",
    "ro5 = abs((io5 - iex)/iex)\n",
    "\n",
    "# print the results\n",
    "print(\"Relative error for Newton-Cotes formulae of degree n:\\n\")\n",
    "print(\"\\t\\t%s \\t\\t%s\" % ('Closed:', 'Open:'))\n",
    "print(\"%s \\t\\t%s \\t\\t\\t%.12f\" % ('n=0: ', '---', ro0))\n",
    "print(\"%s \\t\\t%.12f \\t\\t%.12f\" % ('n=1: ', rc1, ro1))\n",
    "print(\"%s \\t\\t%.12f \\t\\t%.12f\" % ('n=2: ', rc2, ro2))\n",
    "print(\"%s \\t\\t%.12f \\t\\t%.12f\" % ('n=3: ', rc3, ro3))\n",
    "print(\"%s \\t\\t%.12f \\t\\t%.12f\" % ('n=4: ', rc4, ro4))\n",
    "print(\"%s \\t\\t%.12f \\t\\t%.12f\" % ('n=5: ', rc5, ro5))\n",
    "print(\"%s \\t\\t%.12f \\t\\t%s\" % ('n=6: ', rc6, '---'))\n"
   ]
  },
  {
   "cell_type": "markdown",
   "metadata": {},
   "source": [
    "## Composite Integration\n",
    "\n",
    "The Newton-Cotes results above form the building blocks of numerical integration. But as is, they are not enough. They fall short for two reasons. First, very high-degree interpolating polynomials may be needed to approximate a function over the interval $[a,b]$, but high-degree rules contain more functions calls, and therefore produce large amounts of roundoff error. Second, the above methods use evenly spaced subintervals, which for many functions will lead to wasted effort in some regions in order to achieve the desired precision in other regions.\n",
    "\n",
    "To circumvent the need for high-degree interpolation, we divide the full interval into subintervals and perform piecewise lower-degree interpolation over each subinterval. "
   ]
  },
  {
   "cell_type": "markdown",
   "metadata": {},
   "source": [
    "## Romberg Integration"
   ]
  },
  {
   "cell_type": "markdown",
   "metadata": {},
   "source": [
    "## Adaptive Quadrature"
   ]
  },
  {
   "cell_type": "markdown",
   "metadata": {},
   "source": [
    "## Gaussian Quadrature"
   ]
  }
 ],
 "metadata": {
  "kernelspec": {
   "display_name": "Python 2",
   "language": "python",
   "name": "python2"
  },
  "language_info": {
   "codemirror_mode": {
    "name": "ipython",
    "version": 3
   },
   "file_extension": ".py",
   "mimetype": "text/x-python",
   "name": "python",
   "nbconvert_exporter": "python",
   "pygments_lexer": "ipython3",
   "version": "3.5.2"
  }
 },
 "nbformat": 4,
 "nbformat_minor": 2
}
