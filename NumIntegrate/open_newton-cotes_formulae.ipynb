{
 "cells": [
  {
   "cell_type": "markdown",
   "metadata": {},
   "source": [
    "# Open Newton-Cotes formulae"
   ]
  },
  {
   "cell_type": "code",
   "execution_count": 36,
   "metadata": {
    "collapsed": true
   },
   "outputs": [],
   "source": [
    "%display latex"
   ]
  },
  {
   "cell_type": "markdown",
   "metadata": {},
   "source": [
    "## Case for n=0 (midpoint rule):"
   ]
  },
  {
   "cell_type": "code",
   "execution_count": 37,
   "metadata": {
    "collapsed": true
   },
   "outputs": [],
   "source": [
    "# define grid points\n",
    "var('a, b, h, x_0')\n",
    "gridkey0 = [x_0 == a + h, \n",
    "            b == a + 2*h]"
   ]
  },
  {
   "cell_type": "code",
   "execution_count": 38,
   "metadata": {
    "collapsed": false
   },
   "outputs": [
    {
     "data": {
      "text/html": [
       "<html><script type=\"math/tex; mode=display\">\\newcommand{\\Bold}[1]{\\mathbf{#1}}f_{0}</script></html>"
      ],
      "text/plain": [
       "f_0"
      ]
     },
     "execution_count": 38,
     "metadata": {},
     "output_type": "execute_result"
    }
   ],
   "source": [
    "# define the interpolating polynomial on [a,b]\n",
    "var('x, f_0')\n",
    "L0_0(x) = 1\n",
    "p0(x) = L0_0(x)*f_0\n",
    "p0(x)"
   ]
  },
  {
   "cell_type": "code",
   "execution_count": 39,
   "metadata": {
    "collapsed": false
   },
   "outputs": [
    {
     "data": {
      "text/html": [
       "<html><script type=\"math/tex; mode=display\">\\newcommand{\\Bold}[1]{\\mathbf{#1}}2 \\, f_{0} h</script></html>"
      ],
      "text/plain": [
       "2*f_0*h"
      ]
     },
     "execution_count": 39,
     "metadata": {},
     "output_type": "execute_result"
    }
   ],
   "source": [
    "# integrate the interpolating polynomial over [a,b]\n",
    "int0 = integrate(p0(x), x, a, b)\n",
    "int0.subs(gridkey0).simplify_full()"
   ]
  },
  {
   "cell_type": "markdown",
   "metadata": {},
   "source": [
    "## Case for n=1:"
   ]
  },
  {
   "cell_type": "code",
   "execution_count": 40,
   "metadata": {
    "collapsed": true
   },
   "outputs": [],
   "source": [
    "# define grid points\n",
    "var('a, b, h, x_0, x_1')\n",
    "gridkey1 = [x_0 == a + h, \n",
    "            x_1 == a + 2*h, \n",
    "            b == a + 3*h]"
   ]
  },
  {
   "cell_type": "code",
   "execution_count": 41,
   "metadata": {
    "collapsed": false
   },
   "outputs": [
    {
     "data": {
      "text/html": [
       "<html><script type=\"math/tex; mode=display\">\\newcommand{\\Bold}[1]{\\mathbf{#1}}-\\frac{f_{1} {\\left(x - x_{0}\\right)}}{x_{0} - x_{1}} + \\frac{f_{0} {\\left(x - x_{1}\\right)}}{x_{0} - x_{1}}</script></html>"
      ],
      "text/plain": [
       "-f_1*(x - x_0)/(x_0 - x_1) + f_0*(x - x_1)/(x_0 - x_1)"
      ]
     },
     "execution_count": 41,
     "metadata": {},
     "output_type": "execute_result"
    }
   ],
   "source": [
    "# define the interpolating polynomial on [a,b]\n",
    "var('x, f_0, f_1')\n",
    "L1_0(x) = (x - x_1)/(x_0 - x_1)\n",
    "L1_1(x) = (x - x_0)/(x_1 - x_0)\n",
    "p1(x) = L1_0(x)*f_0 + L1_1(x)*f_1\n",
    "p1(x)"
   ]
  },
  {
   "cell_type": "code",
   "execution_count": 42,
   "metadata": {
    "collapsed": false
   },
   "outputs": [
    {
     "data": {
      "text/html": [
       "<html><script type=\"math/tex; mode=display\">\\newcommand{\\Bold}[1]{\\mathbf{#1}}\\frac{3}{2} \\, {\\left(f_{0} + f_{1}\\right)} h</script></html>"
      ],
      "text/plain": [
       "3/2*(f_0 + f_1)*h"
      ]
     },
     "execution_count": 42,
     "metadata": {},
     "output_type": "execute_result"
    }
   ],
   "source": [
    "# integrate the interpolating polynomial over [a,b]\n",
    "int1 = integrate(p1(x), x, a, b)\n",
    "int1.subs(gridkey1).simplify_full()"
   ]
  },
  {
   "cell_type": "markdown",
   "metadata": {},
   "source": [
    "## Case for n=2:"
   ]
  },
  {
   "cell_type": "code",
   "execution_count": 43,
   "metadata": {
    "collapsed": true
   },
   "outputs": [],
   "source": [
    "# define grid points\n",
    "var('a, b, h, x_0, x_1, x_2') \n",
    "gridkey2 = [x_0 == a + h, \n",
    "            x_1 == a + 2*h, \n",
    "            x_2 == a + 3*h, \n",
    "            b == a + 4*h]"
   ]
  },
  {
   "cell_type": "code",
   "execution_count": 44,
   "metadata": {
    "collapsed": false
   },
   "outputs": [
    {
     "data": {
      "text/html": [
       "<html><script type=\"math/tex; mode=display\">\\newcommand{\\Bold}[1]{\\mathbf{#1}}\\frac{f_{0} {\\left(x - x_{1}\\right)} {\\left(x - x_{2}\\right)}}{{\\left(x_{0} - x_{1}\\right)} {\\left(x_{0} - x_{2}\\right)}} - \\frac{f_{1} {\\left(x - x_{0}\\right)} {\\left(x - x_{2}\\right)}}{{\\left(x_{0} - x_{1}\\right)} {\\left(x_{1} - x_{2}\\right)}} + \\frac{f_{2} {\\left(x - x_{0}\\right)} {\\left(x - x_{1}\\right)}}{{\\left(x_{0} - x_{2}\\right)} {\\left(x_{1} - x_{2}\\right)}}</script></html>"
      ],
      "text/plain": [
       "f_0*(x - x_1)*(x - x_2)/((x_0 - x_1)*(x_0 - x_2)) - f_1*(x - x_0)*(x - x_2)/((x_0 - x_1)*(x_1 - x_2)) + f_2*(x - x_0)*(x - x_1)/((x_0 - x_2)*(x_1 - x_2))"
      ]
     },
     "execution_count": 44,
     "metadata": {},
     "output_type": "execute_result"
    }
   ],
   "source": [
    "# define the interpolating polynomial on [a,b]\n",
    "var('x, f_0, f_1, f_2')\n",
    "L2_0(x) = (x - x_1)*(x - x_2)/((x_0 - x_1)*(x_0 - x_2))\n",
    "L2_1(x) = (x - x_0)*(x - x_2)/((x_1 - x_0)*(x_1 - x_2))\n",
    "L2_2(x) = (x - x_0)*(x - x_1)/((x_2 - x_0)*(x_2 - x_1))\n",
    "p2(x) = L2_0(x)*f_0 + L2_1(x)*f_1 + L2_2(x)*f_2\n",
    "p2(x)"
   ]
  },
  {
   "cell_type": "code",
   "execution_count": 45,
   "metadata": {
    "collapsed": false
   },
   "outputs": [
    {
     "data": {
      "text/html": [
       "<html><script type=\"math/tex; mode=display\">\\newcommand{\\Bold}[1]{\\mathbf{#1}}\\frac{4}{3} \\, {\\left(2 \\, f_{0} - f_{1} + 2 \\, f_{2}\\right)} h</script></html>"
      ],
      "text/plain": [
       "4/3*(2*f_0 - f_1 + 2*f_2)*h"
      ]
     },
     "execution_count": 45,
     "metadata": {},
     "output_type": "execute_result"
    }
   ],
   "source": [
    "# integrate the interpolating polynomial over [a,b]\n",
    "int2 = integrate(p2(x), x, a, b)\n",
    "int2.subs(gridkey2).simplify_full()"
   ]
  },
  {
   "cell_type": "markdown",
   "metadata": {},
   "source": [
    "## Case for n=3:"
   ]
  },
  {
   "cell_type": "code",
   "execution_count": 46,
   "metadata": {
    "collapsed": true
   },
   "outputs": [],
   "source": [
    "# define grid points\n",
    "var('a, b, h, x_0, x_1, x_2, x_3') \n",
    "gridkey3 = [x_0 == a + h, \n",
    "            x_1 == a + 2*h, \n",
    "            x_2 == a + 3*h, \n",
    "            x_3 == a + 4*h, \n",
    "            b == a + 5*h]"
   ]
  },
  {
   "cell_type": "code",
   "execution_count": 47,
   "metadata": {
    "collapsed": false
   },
   "outputs": [
    {
     "data": {
      "text/html": [
       "<html><script type=\"math/tex; mode=display\">\\newcommand{\\Bold}[1]{\\mathbf{#1}}\\frac{f_{0} {\\left(x - x_{1}\\right)} {\\left(x - x_{2}\\right)} {\\left(x - x_{3}\\right)}}{{\\left(x_{0} - x_{1}\\right)} {\\left(x_{0} - x_{2}\\right)} {\\left(x_{0} - x_{3}\\right)}} - \\frac{f_{1} {\\left(x - x_{0}\\right)} {\\left(x - x_{2}\\right)} {\\left(x - x_{3}\\right)}}{{\\left(x_{0} - x_{1}\\right)} {\\left(x_{1} - x_{2}\\right)} {\\left(x_{1} - x_{3}\\right)}} + \\frac{f_{2} {\\left(x - x_{0}\\right)} {\\left(x - x_{1}\\right)} {\\left(x - x_{3}\\right)}}{{\\left(x_{0} - x_{2}\\right)} {\\left(x_{1} - x_{2}\\right)} {\\left(x_{2} - x_{3}\\right)}} - \\frac{f_{3} {\\left(x - x_{0}\\right)} {\\left(x - x_{1}\\right)} {\\left(x - x_{2}\\right)}}{{\\left(x_{0} - x_{3}\\right)} {\\left(x_{1} - x_{3}\\right)} {\\left(x_{2} - x_{3}\\right)}}</script></html>"
      ],
      "text/plain": [
       "f_0*(x - x_1)*(x - x_2)*(x - x_3)/((x_0 - x_1)*(x_0 - x_2)*(x_0 - x_3)) - f_1*(x - x_0)*(x - x_2)*(x - x_3)/((x_0 - x_1)*(x_1 - x_2)*(x_1 - x_3)) + f_2*(x - x_0)*(x - x_1)*(x - x_3)/((x_0 - x_2)*(x_1 - x_2)*(x_2 - x_3)) - f_3*(x - x_0)*(x - x_1)*(x - x_2)/((x_0 - x_3)*(x_1 - x_3)*(x_2 - x_3))"
      ]
     },
     "execution_count": 47,
     "metadata": {},
     "output_type": "execute_result"
    }
   ],
   "source": [
    "# define the interpolating polynomial on [a,b]\n",
    "var('x, f_0, f_1, f_2, f_3')\n",
    "L3_0(x) = (x - x_1)*(x - x_2)*(x - x_3)/((x_0 - x_1)*(x_0 - x_2)*(x_0 - x_3))\n",
    "L3_1(x) = (x - x_0)*(x - x_2)*(x - x_3)/((x_1 - x_0)*(x_1 - x_2)*(x_1 - x_3))\n",
    "L3_2(x) = (x - x_0)*(x - x_1)*(x - x_3)/((x_2 - x_0)*(x_2 - x_1)*(x_2 - x_3))\n",
    "L3_3(x) = (x - x_0)*(x - x_1)*(x - x_2)/((x_3 - x_0)*(x_3 - x_1)*(x_3 - x_2))\n",
    "p3(x) = L3_0(x)*f_0 + L3_1(x)*f_1 + L3_2(x)*f_2 + L3_3(x)*f_3\n",
    "p3(x)"
   ]
  },
  {
   "cell_type": "code",
   "execution_count": 48,
   "metadata": {
    "collapsed": false
   },
   "outputs": [
    {
     "data": {
      "text/html": [
       "<html><script type=\"math/tex; mode=display\">\\newcommand{\\Bold}[1]{\\mathbf{#1}}\\frac{5}{24} \\, {\\left(11 \\, f_{0} + f_{1} + f_{2} + 11 \\, f_{3}\\right)} h</script></html>"
      ],
      "text/plain": [
       "5/24*(11*f_0 + f_1 + f_2 + 11*f_3)*h"
      ]
     },
     "execution_count": 48,
     "metadata": {},
     "output_type": "execute_result"
    }
   ],
   "source": [
    "# integrate the interpolating polynomial over [a,b]\n",
    "int3 = integrate(p3(x), x, a, b)\n",
    "int3.subs(gridkey3).simplify_full()"
   ]
  },
  {
   "cell_type": "code",
   "execution_count": null,
   "metadata": {
    "collapsed": true
   },
   "outputs": [],
   "source": []
  }
 ],
 "metadata": {
  "kernelspec": {
   "display_name": "SageMath 8.1",
   "language": "",
   "name": "sagemath"
  },
  "language_info": {
   "codemirror_mode": {
    "name": "ipython",
    "version": 2
   },
   "file_extension": ".py",
   "mimetype": "text/x-python",
   "name": "python",
   "nbconvert_exporter": "python",
   "pygments_lexer": "ipython2",
   "version": "2.7.14"
  }
 },
 "nbformat": 4,
 "nbformat_minor": 2
}
