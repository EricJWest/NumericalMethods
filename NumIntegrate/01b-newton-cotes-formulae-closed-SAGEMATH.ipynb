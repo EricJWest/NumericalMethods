{
 "cells": [
  {
   "cell_type": "markdown",
   "metadata": {
    "deletable": true,
    "editable": true
   },
   "source": [
    "# Closed Newton-Cotes formulae"
   ]
  },
  {
   "cell_type": "code",
   "execution_count": 43,
   "metadata": {
    "collapsed": true,
    "deletable": true,
    "editable": true
   },
   "outputs": [],
   "source": [
    "%display latex"
   ]
  },
  {
   "cell_type": "markdown",
   "metadata": {
    "deletable": true,
    "editable": true
   },
   "source": [
    "## Case for n=1 (trapezoid rule):"
   ]
  },
  {
   "cell_type": "code",
   "execution_count": 44,
   "metadata": {
    "collapsed": false,
    "deletable": true,
    "editable": true
   },
   "outputs": [],
   "source": [
    "# define grid points\n",
    "var('a, b, h, x_0, x_1')\n",
    "gridkey1 = \\\n",
    "[\n",
    "    x_0 == a,\n",
    "    x_1 == a + h, \n",
    "    b == a + h\n",
    "]"
   ]
  },
  {
   "cell_type": "code",
   "execution_count": 45,
   "metadata": {
    "collapsed": false,
    "deletable": true,
    "editable": true
   },
   "outputs": [
    {
     "data": {
      "text/html": [
       "<html><script type=\"math/tex; mode=display\">\\newcommand{\\Bold}[1]{\\mathbf{#1}}-\\frac{f_{1} {\\left(x - x_{0}\\right)}}{x_{0} - x_{1}} + \\frac{f_{0} {\\left(x - x_{1}\\right)}}{x_{0} - x_{1}}</script></html>"
      ],
      "text/plain": [
       "-f_1*(x - x_0)/(x_0 - x_1) + f_0*(x - x_1)/(x_0 - x_1)"
      ]
     },
     "execution_count": 45,
     "metadata": {},
     "output_type": "execute_result"
    }
   ],
   "source": [
    "# define the interpolating polynomial on [a,b]\n",
    "var('x, f_0, f_1')\n",
    "L1_0(x) = (x - x_1)/(x_0 - x_1)\n",
    "L1_1(x) = (x - x_0)/(x_1 - x_0)\n",
    "p1(x) = L1_0(x)*f_0 + L1_1(x)*f_1\n",
    "p1(x)"
   ]
  },
  {
   "cell_type": "code",
   "execution_count": 46,
   "metadata": {
    "collapsed": false,
    "deletable": true,
    "editable": true
   },
   "outputs": [
    {
     "data": {
      "text/html": [
       "<html><script type=\"math/tex; mode=display\">\\newcommand{\\Bold}[1]{\\mathbf{#1}}\\frac{1}{2} \\, {\\left(f_{0} + f_{1}\\right)} h</script></html>"
      ],
      "text/plain": [
       "1/2*(f_0 + f_1)*h"
      ]
     },
     "execution_count": 46,
     "metadata": {},
     "output_type": "execute_result"
    }
   ],
   "source": [
    "# integrate the interpolating polynomial over [a,b]\n",
    "int1 = integrate(p1(x), x, a, b)\n",
    "int1.subs(gridkey1).simplify_full()"
   ]
  },
  {
   "cell_type": "markdown",
   "metadata": {
    "deletable": true,
    "editable": true
   },
   "source": [
    "## Case for n=2 (Simpson's rule):"
   ]
  },
  {
   "cell_type": "code",
   "execution_count": 47,
   "metadata": {
    "collapsed": true,
    "deletable": true,
    "editable": true
   },
   "outputs": [],
   "source": [
    "# define grid points\n",
    "var('a, b, h, x_0, x_1, x_2') \n",
    "gridkey2 = \\\n",
    "[\n",
    "    x_0 == a, \n",
    "    x_1 == a + h, \n",
    "    x_2 == a + 2*h, \n",
    "    b == a + 2*h\n",
    "]"
   ]
  },
  {
   "cell_type": "code",
   "execution_count": 48,
   "metadata": {
    "collapsed": false,
    "deletable": true,
    "editable": true
   },
   "outputs": [
    {
     "data": {
      "text/html": [
       "<html><script type=\"math/tex; mode=display\">\\newcommand{\\Bold}[1]{\\mathbf{#1}}\\frac{f_{0} {\\left(x - x_{1}\\right)} {\\left(x - x_{2}\\right)}}{{\\left(x_{0} - x_{1}\\right)} {\\left(x_{0} - x_{2}\\right)}} - \\frac{f_{1} {\\left(x - x_{0}\\right)} {\\left(x - x_{2}\\right)}}{{\\left(x_{0} - x_{1}\\right)} {\\left(x_{1} - x_{2}\\right)}} + \\frac{f_{2} {\\left(x - x_{0}\\right)} {\\left(x - x_{1}\\right)}}{{\\left(x_{0} - x_{2}\\right)} {\\left(x_{1} - x_{2}\\right)}}</script></html>"
      ],
      "text/plain": [
       "f_0*(x - x_1)*(x - x_2)/((x_0 - x_1)*(x_0 - x_2)) - f_1*(x - x_0)*(x - x_2)/((x_0 - x_1)*(x_1 - x_2)) + f_2*(x - x_0)*(x - x_1)/((x_0 - x_2)*(x_1 - x_2))"
      ]
     },
     "execution_count": 48,
     "metadata": {},
     "output_type": "execute_result"
    }
   ],
   "source": [
    "# define the interpolating polynomial on [a,b]\n",
    "var('x, f_0, f_1, f_2')\n",
    "L2_0(x) = (x - x_1)*(x - x_2)/((x_0 - x_1)*(x_0 - x_2))\n",
    "L2_1(x) = (x - x_0)*(x - x_2)/((x_1 - x_0)*(x_1 - x_2))\n",
    "L2_2(x) = (x - x_0)*(x - x_1)/((x_2 - x_0)*(x_2 - x_1))\n",
    "p2(x) = L2_0(x)*f_0 + L2_1(x)*f_1 + L2_2(x)*f_2\n",
    "p2(x)"
   ]
  },
  {
   "cell_type": "code",
   "execution_count": 49,
   "metadata": {
    "collapsed": false,
    "deletable": true,
    "editable": true
   },
   "outputs": [
    {
     "data": {
      "text/html": [
       "<html><script type=\"math/tex; mode=display\">\\newcommand{\\Bold}[1]{\\mathbf{#1}}\\frac{1}{3} \\, {\\left(f_{0} + 4 \\, f_{1} + f_{2}\\right)} h</script></html>"
      ],
      "text/plain": [
       "1/3*(f_0 + 4*f_1 + f_2)*h"
      ]
     },
     "execution_count": 49,
     "metadata": {},
     "output_type": "execute_result"
    }
   ],
   "source": [
    "# integrate the interpolating polynomial over [a,b]\n",
    "int2 = integrate(p2(x), x, a, b)\n",
    "int2.subs(gridkey2).simplify_full()"
   ]
  },
  {
   "cell_type": "markdown",
   "metadata": {
    "deletable": true,
    "editable": true
   },
   "source": [
    "## Case for n=3:"
   ]
  },
  {
   "cell_type": "code",
   "execution_count": 50,
   "metadata": {
    "collapsed": true,
    "deletable": true,
    "editable": true
   },
   "outputs": [],
   "source": [
    "# define grid points\n",
    "var('a, b, h, x_0, x_1, x_2, x_3') \n",
    "gridkey3 = \\\n",
    "[\n",
    "    x_0 == a, \n",
    "    x_1 == a + h, \n",
    "    x_2 == a + 2*h, \n",
    "    x_3 == a + 3*h, \n",
    "    b == a + 3*h\n",
    "]"
   ]
  },
  {
   "cell_type": "code",
   "execution_count": 51,
   "metadata": {
    "collapsed": false,
    "deletable": true,
    "editable": true
   },
   "outputs": [
    {
     "data": {
      "text/html": [
       "<html><script type=\"math/tex; mode=display\">\\newcommand{\\Bold}[1]{\\mathbf{#1}}\\frac{f_{0} {\\left(x - x_{1}\\right)} {\\left(x - x_{2}\\right)} {\\left(x - x_{3}\\right)}}{{\\left(x_{0} - x_{1}\\right)} {\\left(x_{0} - x_{2}\\right)} {\\left(x_{0} - x_{3}\\right)}} - \\frac{f_{1} {\\left(x - x_{0}\\right)} {\\left(x - x_{2}\\right)} {\\left(x - x_{3}\\right)}}{{\\left(x_{0} - x_{1}\\right)} {\\left(x_{1} - x_{2}\\right)} {\\left(x_{1} - x_{3}\\right)}} + \\frac{f_{2} {\\left(x - x_{0}\\right)} {\\left(x - x_{1}\\right)} {\\left(x - x_{3}\\right)}}{{\\left(x_{0} - x_{2}\\right)} {\\left(x_{1} - x_{2}\\right)} {\\left(x_{2} - x_{3}\\right)}} - \\frac{f_{3} {\\left(x - x_{0}\\right)} {\\left(x - x_{1}\\right)} {\\left(x - x_{2}\\right)}}{{\\left(x_{0} - x_{3}\\right)} {\\left(x_{1} - x_{3}\\right)} {\\left(x_{2} - x_{3}\\right)}}</script></html>"
      ],
      "text/plain": [
       "f_0*(x - x_1)*(x - x_2)*(x - x_3)/((x_0 - x_1)*(x_0 - x_2)*(x_0 - x_3)) - f_1*(x - x_0)*(x - x_2)*(x - x_3)/((x_0 - x_1)*(x_1 - x_2)*(x_1 - x_3)) + f_2*(x - x_0)*(x - x_1)*(x - x_3)/((x_0 - x_2)*(x_1 - x_2)*(x_2 - x_3)) - f_3*(x - x_0)*(x - x_1)*(x - x_2)/((x_0 - x_3)*(x_1 - x_3)*(x_2 - x_3))"
      ]
     },
     "execution_count": 51,
     "metadata": {},
     "output_type": "execute_result"
    }
   ],
   "source": [
    "# define the interpolating polynomial on [a,b]\n",
    "var('x, f_0, f_1, f_2, f_3')\n",
    "L3_0(x) = (x - x_1)*(x - x_2)*(x - x_3)/((x_0 - x_1)*(x_0 - x_2)*(x_0 - x_3))\n",
    "L3_1(x) = (x - x_0)*(x - x_2)*(x - x_3)/((x_1 - x_0)*(x_1 - x_2)*(x_1 - x_3))\n",
    "L3_2(x) = (x - x_0)*(x - x_1)*(x - x_3)/((x_2 - x_0)*(x_2 - x_1)*(x_2 - x_3))\n",
    "L3_3(x) = (x - x_0)*(x - x_1)*(x - x_2)/((x_3 - x_0)*(x_3 - x_1)*(x_3 - x_2))\n",
    "p3(x) = L3_0(x)*f_0 + L3_1(x)*f_1 + L3_2(x)*f_2 + L3_3(x)*f_3\n",
    "p3(x)"
   ]
  },
  {
   "cell_type": "code",
   "execution_count": 52,
   "metadata": {
    "collapsed": false,
    "deletable": true,
    "editable": true
   },
   "outputs": [
    {
     "data": {
      "text/html": [
       "<html><script type=\"math/tex; mode=display\">\\newcommand{\\Bold}[1]{\\mathbf{#1}}\\frac{3}{8} \\, {\\left(f_{0} + 3 \\, f_{1} + 3 \\, f_{2} + f_{3}\\right)} h</script></html>"
      ],
      "text/plain": [
       "3/8*(f_0 + 3*f_1 + 3*f_2 + f_3)*h"
      ]
     },
     "execution_count": 52,
     "metadata": {},
     "output_type": "execute_result"
    }
   ],
   "source": [
    "# integrate the interpolating polynomial over [a,b]\n",
    "int3 = integrate(p3(x), x, a, b)\n",
    "int3.subs(gridkey3).simplify_full()"
   ]
  },
  {
   "cell_type": "markdown",
   "metadata": {
    "collapsed": true,
    "deletable": true,
    "editable": true
   },
   "source": [
    "## Case for n=4:"
   ]
  },
  {
   "cell_type": "code",
   "execution_count": 53,
   "metadata": {
    "collapsed": true,
    "deletable": true,
    "editable": true
   },
   "outputs": [],
   "source": [
    "# define grid points\n",
    "var('a, b, h, x_0, x_1, x_2, x_3, x_4') \n",
    "gridkey4 = \\\n",
    "[\n",
    "    x_0 == a,\n",
    "    x_1 == a + h,\n",
    "    x_2 == a + 2*h,\n",
    "    x_3 == a + 3*h,\n",
    "    x_4 == a + 4*h,\n",
    "    b == a + 4*h\n",
    "]"
   ]
  },
  {
   "cell_type": "code",
   "execution_count": 54,
   "metadata": {
    "collapsed": false,
    "deletable": true,
    "editable": true
   },
   "outputs": [
    {
     "data": {
      "text/html": [
       "<html><script type=\"math/tex; mode=display\">\\newcommand{\\Bold}[1]{\\mathbf{#1}}\\frac{f_{0} {\\left(x - x_{1}\\right)} {\\left(x - x_{2}\\right)} {\\left(x - x_{3}\\right)} {\\left(x - x_{4}\\right)}}{{\\left(x_{0} - x_{1}\\right)} {\\left(x_{0} - x_{2}\\right)} {\\left(x_{0} - x_{3}\\right)} {\\left(x_{0} - x_{4}\\right)}} - \\frac{f_{1} {\\left(x - x_{0}\\right)} {\\left(x - x_{2}\\right)} {\\left(x - x_{3}\\right)} {\\left(x - x_{4}\\right)}}{{\\left(x_{0} - x_{1}\\right)} {\\left(x_{1} - x_{2}\\right)} {\\left(x_{1} - x_{3}\\right)} {\\left(x_{1} - x_{4}\\right)}} + \\frac{f_{2} {\\left(x - x_{0}\\right)} {\\left(x - x_{1}\\right)} {\\left(x - x_{3}\\right)} {\\left(x - x_{4}\\right)}}{{\\left(x_{0} - x_{2}\\right)} {\\left(x_{1} - x_{2}\\right)} {\\left(x_{2} - x_{3}\\right)} {\\left(x_{2} - x_{4}\\right)}} - \\frac{f_{3} {\\left(x - x_{0}\\right)} {\\left(x - x_{1}\\right)} {\\left(x - x_{2}\\right)} {\\left(x - x_{4}\\right)}}{{\\left(x_{0} - x_{3}\\right)} {\\left(x_{1} - x_{3}\\right)} {\\left(x_{2} - x_{3}\\right)} {\\left(x_{3} - x_{4}\\right)}} + \\frac{f_{4} {\\left(x - x_{0}\\right)} {\\left(x - x_{1}\\right)} {\\left(x - x_{2}\\right)} {\\left(x - x_{3}\\right)}}{{\\left(x_{0} - x_{4}\\right)} {\\left(x_{1} - x_{4}\\right)} {\\left(x_{2} - x_{4}\\right)} {\\left(x_{3} - x_{4}\\right)}}</script></html>"
      ],
      "text/plain": [
       "f_0*(x - x_1)*(x - x_2)*(x - x_3)*(x - x_4)/((x_0 - x_1)*(x_0 - x_2)*(x_0 - x_3)*(x_0 - x_4)) - f_1*(x - x_0)*(x - x_2)*(x - x_3)*(x - x_4)/((x_0 - x_1)*(x_1 - x_2)*(x_1 - x_3)*(x_1 - x_4)) + f_2*(x - x_0)*(x - x_1)*(x - x_3)*(x - x_4)/((x_0 - x_2)*(x_1 - x_2)*(x_2 - x_3)*(x_2 - x_4)) - f_3*(x - x_0)*(x - x_1)*(x - x_2)*(x - x_4)/((x_0 - x_3)*(x_1 - x_3)*(x_2 - x_3)*(x_3 - x_4)) + f_4*(x - x_0)*(x - x_1)*(x - x_2)*(x - x_3)/((x_0 - x_4)*(x_1 - x_4)*(x_2 - x_4)*(x_3 - x_4))"
      ]
     },
     "execution_count": 54,
     "metadata": {},
     "output_type": "execute_result"
    }
   ],
   "source": [
    "# define the interpolating polynomial on [a,b]\n",
    "var('x, f_0, f_1, f_2, f_3, f_4')\n",
    "\n",
    "L4_0(x) = (x - x_1)*(x - x_2)*(x - x_3)*(x - x_4)\\\n",
    "          /((x_0 - x_1)*(x_0 - x_2)*(x_0 - x_3)*(x_0 - x_4))\n",
    "\n",
    "L4_1(x) = (x - x_0)*(x - x_2)*(x - x_3)*(x - x_4)\\\n",
    "          /((x_1 - x_0)*(x_1 - x_2)*(x_1 - x_3)*(x_1 - x_4))\n",
    "\n",
    "L4_2(x) = (x - x_0)*(x - x_1)*(x - x_3)*(x - x_4)\\\n",
    "          /((x_2 - x_0)*(x_2 - x_1)*(x_2 - x_3)*(x_2 - x_4))\n",
    "\n",
    "L4_3(x) = (x - x_0)*(x - x_1)*(x - x_2)*(x - x_4)\\\n",
    "          /((x_3 - x_0)*(x_3 - x_1)*(x_3 - x_2)*(x_3 - x_4))\n",
    "\n",
    "L4_4(x) = (x - x_0)*(x - x_1)*(x - x_2)*(x - x_3)\\\n",
    "          /((x_4 - x_0)*(x_4 - x_1)*(x_4 - x_2)*(x_4 - x_3))\n",
    "\n",
    "p4(x) = L4_0(x)*f_0 \\\n",
    "      + L4_1(x)*f_1 \\\n",
    "      + L4_2(x)*f_2 \\\n",
    "      + L4_3(x)*f_3 \\\n",
    "      + L4_4(x)*f_4\n",
    "\n",
    "p4(x)"
   ]
  },
  {
   "cell_type": "code",
   "execution_count": 55,
   "metadata": {
    "collapsed": false,
    "deletable": true,
    "editable": true
   },
   "outputs": [
    {
     "data": {
      "text/html": [
       "<html><script type=\"math/tex; mode=display\">\\newcommand{\\Bold}[1]{\\mathbf{#1}}\\frac{2}{45} \\, {\\left(7 \\, f_{0} + 32 \\, f_{1} + 12 \\, f_{2} + 32 \\, f_{3} + 7 \\, f_{4}\\right)} h</script></html>"
      ],
      "text/plain": [
       "2/45*(7*f_0 + 32*f_1 + 12*f_2 + 32*f_3 + 7*f_4)*h"
      ]
     },
     "execution_count": 55,
     "metadata": {},
     "output_type": "execute_result"
    }
   ],
   "source": [
    "# integrate the interpolating polynomial over [a,b]\n",
    "int4_0 = integrate(L4_0(x), x, a, b).subs(gridkey4).simplify_full()\n",
    "int4_1 = integrate(L4_1(x), x, a, b).subs(gridkey4).simplify_full()\n",
    "int4_2 = integrate(L4_2(x), x, a, b).subs(gridkey4).simplify_full()\n",
    "int4_3 = integrate(L4_3(x), x, a, b).subs(gridkey4).simplify_full()\n",
    "int4_4 = integrate(L4_4(x), x, a, b).subs(gridkey4).simplify_full()\n",
    "int4 = int4_0*f_0 \\\n",
    "     + int4_1*f_1 \\\n",
    "     + int4_2*f_2 \\\n",
    "     + int4_3*f_3 \\\n",
    "     + int4_4*f_4\n",
    "int4.factor()"
   ]
  },
  {
   "cell_type": "markdown",
   "metadata": {
    "collapsed": true,
    "deletable": true,
    "editable": true
   },
   "source": [
    "## Case for n=5:"
   ]
  },
  {
   "cell_type": "code",
   "execution_count": 56,
   "metadata": {
    "collapsed": false,
    "deletable": true,
    "editable": true
   },
   "outputs": [],
   "source": [
    "# define grid points\n",
    "var('a, b, h, x_0, x_1, x_2, x_3, x_4, x_5') \n",
    "gridkey5 = \\\n",
    "[\n",
    "    x_0 == a,\n",
    "    x_1 == a + h,\n",
    "    x_2 == a + 2*h,\n",
    "    x_3 == a + 3*h,\n",
    "    x_4 == a + 4*h,\n",
    "    x_5 == a + 5*h,\n",
    "    b == a + 5*h\n",
    "]"
   ]
  },
  {
   "cell_type": "code",
   "execution_count": 57,
   "metadata": {
    "collapsed": false,
    "deletable": true,
    "editable": true
   },
   "outputs": [
    {
     "data": {
      "text/html": [
       "<html><script type=\"math/tex; mode=display\">\\newcommand{\\Bold}[1]{\\mathbf{#1}}\\frac{f_{0} {\\left(x - x_{1}\\right)} {\\left(x - x_{2}\\right)} {\\left(x - x_{3}\\right)} {\\left(x - x_{4}\\right)} {\\left(x - x_{5}\\right)}}{{\\left(x_{0} - x_{1}\\right)} {\\left(x_{0} - x_{2}\\right)} {\\left(x_{0} - x_{3}\\right)} {\\left(x_{0} - x_{4}\\right)} {\\left(x_{0} - x_{5}\\right)}} - \\frac{f_{1} {\\left(x - x_{0}\\right)} {\\left(x - x_{2}\\right)} {\\left(x - x_{3}\\right)} {\\left(x - x_{4}\\right)} {\\left(x - x_{5}\\right)}}{{\\left(x_{0} - x_{1}\\right)} {\\left(x_{1} - x_{2}\\right)} {\\left(x_{1} - x_{3}\\right)} {\\left(x_{1} - x_{4}\\right)} {\\left(x_{1} - x_{5}\\right)}} + \\frac{f_{2} {\\left(x - x_{0}\\right)} {\\left(x - x_{1}\\right)} {\\left(x - x_{3}\\right)} {\\left(x - x_{4}\\right)} {\\left(x - x_{5}\\right)}}{{\\left(x_{0} - x_{2}\\right)} {\\left(x_{1} - x_{2}\\right)} {\\left(x_{2} - x_{3}\\right)} {\\left(x_{2} - x_{4}\\right)} {\\left(x_{2} - x_{5}\\right)}} - \\frac{f_{3} {\\left(x - x_{0}\\right)} {\\left(x - x_{1}\\right)} {\\left(x - x_{2}\\right)} {\\left(x - x_{4}\\right)} {\\left(x - x_{5}\\right)}}{{\\left(x_{0} - x_{3}\\right)} {\\left(x_{1} - x_{3}\\right)} {\\left(x_{2} - x_{3}\\right)} {\\left(x_{3} - x_{4}\\right)} {\\left(x_{3} - x_{5}\\right)}} + \\frac{f_{4} {\\left(x - x_{0}\\right)} {\\left(x - x_{1}\\right)} {\\left(x - x_{2}\\right)} {\\left(x - x_{3}\\right)} {\\left(x - x_{5}\\right)}}{{\\left(x_{0} - x_{4}\\right)} {\\left(x_{1} - x_{4}\\right)} {\\left(x_{2} - x_{4}\\right)} {\\left(x_{3} - x_{4}\\right)} {\\left(x_{4} - x_{5}\\right)}} - \\frac{f_{5} {\\left(x - x_{0}\\right)} {\\left(x - x_{1}\\right)} {\\left(x - x_{2}\\right)} {\\left(x - x_{3}\\right)} {\\left(x - x_{4}\\right)}}{{\\left(x_{0} - x_{5}\\right)} {\\left(x_{1} - x_{5}\\right)} {\\left(x_{2} - x_{5}\\right)} {\\left(x_{3} - x_{5}\\right)} {\\left(x_{4} - x_{5}\\right)}}</script></html>"
      ],
      "text/plain": [
       "f_0*(x - x_1)*(x - x_2)*(x - x_3)*(x - x_4)*(x - x_5)/((x_0 - x_1)*(x_0 - x_2)*(x_0 - x_3)*(x_0 - x_4)*(x_0 - x_5)) - f_1*(x - x_0)*(x - x_2)*(x - x_3)*(x - x_4)*(x - x_5)/((x_0 - x_1)*(x_1 - x_2)*(x_1 - x_3)*(x_1 - x_4)*(x_1 - x_5)) + f_2*(x - x_0)*(x - x_1)*(x - x_3)*(x - x_4)*(x - x_5)/((x_0 - x_2)*(x_1 - x_2)*(x_2 - x_3)*(x_2 - x_4)*(x_2 - x_5)) - f_3*(x - x_0)*(x - x_1)*(x - x_2)*(x - x_4)*(x - x_5)/((x_0 - x_3)*(x_1 - x_3)*(x_2 - x_3)*(x_3 - x_4)*(x_3 - x_5)) + f_4*(x - x_0)*(x - x_1)*(x - x_2)*(x - x_3)*(x - x_5)/((x_0 - x_4)*(x_1 - x_4)*(x_2 - x_4)*(x_3 - x_4)*(x_4 - x_5)) - f_5*(x - x_0)*(x - x_1)*(x - x_2)*(x - x_3)*(x - x_4)/((x_0 - x_5)*(x_1 - x_5)*(x_2 - x_5)*(x_3 - x_5)*(x_4 - x_5))"
      ]
     },
     "execution_count": 57,
     "metadata": {},
     "output_type": "execute_result"
    }
   ],
   "source": [
    "# define the interpolating polynomial on [a,b]\n",
    "var('x, f_0, f_1, f_2, f_3, f_4, f_5')\n",
    "\n",
    "L5_0(x) = (x - x_1)*(x - x_2)*(x - x_3)*(x - x_4)*(x - x_5)\\\n",
    "          /((x_0 - x_1)*(x_0 - x_2)*(x_0 - x_3)*(x_0 - x_4)*(x_0 - x_5))\n",
    "\n",
    "L5_1(x) = (x - x_0)*(x - x_2)*(x - x_3)*(x - x_4)*(x - x_5)\\\n",
    "          /((x_1 - x_0)*(x_1 - x_2)*(x_1 - x_3)*(x_1 - x_4)*(x_1 - x_5))\n",
    "\n",
    "L5_2(x) = (x - x_0)*(x - x_1)*(x - x_3)*(x - x_4)*(x - x_5)\\\n",
    "          /((x_2 - x_0)*(x_2 - x_1)*(x_2 - x_3)*(x_2 - x_4)*(x_2 - x_5))\n",
    "\n",
    "L5_3(x) = (x - x_0)*(x - x_1)*(x - x_2)*(x - x_4)*(x - x_5)\\\n",
    "          /((x_3 - x_0)*(x_3 - x_1)*(x_3 - x_2)*(x_3 - x_4)*(x_3 - x_5))\n",
    "\n",
    "L5_4(x) = (x - x_0)*(x - x_1)*(x - x_2)*(x - x_3)*(x - x_5)\\\n",
    "          /((x_4 - x_0)*(x_4 - x_1)*(x_4 - x_2)*(x_4 - x_3)*(x_4 - x_5))\n",
    "\n",
    "L5_5(x) = (x - x_0)*(x - x_1)*(x - x_2)*(x - x_3)*(x - x_4)\\\n",
    "          /((x_5 - x_0)*(x_5 - x_1)*(x_5 - x_2)*(x_5 - x_3)*(x_5 - x_4))\n",
    "\n",
    "p5(x) = L5_0(x)*f_0 \\\n",
    "      + L5_1(x)*f_1 \\\n",
    "      + L5_2(x)*f_2 \\\n",
    "      + L5_3(x)*f_3 \\\n",
    "      + L5_4(x)*f_4 \\\n",
    "      + L5_5(x)*f_5\n",
    "\n",
    "p5(x)"
   ]
  },
  {
   "cell_type": "code",
   "execution_count": 66,
   "metadata": {
    "collapsed": false
   },
   "outputs": [
    {
     "data": {
      "text/html": [
       "<html><script type=\"math/tex; mode=display\">\\newcommand{\\Bold}[1]{\\mathbf{#1}}\\frac{5}{288} \\, {\\left(19 \\, f_{0} + 75 \\, f_{1} + 50 \\, f_{2} + 50 \\, f_{3} + 75 \\, f_{4} + 19 \\, f_{5}\\right)} h</script></html>"
      ],
      "text/plain": [
       "5/288*(19*f_0 + 75*f_1 + 50*f_2 + 50*f_3 + 75*f_4 + 19*f_5)*h"
      ]
     },
     "execution_count": 66,
     "metadata": {},
     "output_type": "execute_result"
    }
   ],
   "source": [
    "# integrate the interpolating polynomial over [a,b]\n",
    "int5_0 = integrate(L5_0(x), x, a, b).subs(gridkey5).simplify_full()\n",
    "int5_1 = integrate(L5_1(x), x, a, b).subs(gridkey5).simplify_full()\n",
    "int5_2 = integrate(L5_2(x), x, a, b).subs(gridkey5).simplify_full()\n",
    "int5_3 = integrate(L5_3(x), x, a, b).subs(gridkey5).simplify_full()\n",
    "int5_4 = integrate(L5_4(x), x, a, b).subs(gridkey5).simplify_full()\n",
    "int5_5 = integrate(L5_5(x), x, a, b).subs(gridkey5).simplify_full()\n",
    "int5 = int5_0*f_0 \\\n",
    "     + int5_1*f_1 \\\n",
    "     + int5_2*f_2 \\\n",
    "     + int5_3*f_3 \\\n",
    "     + int5_4*f_4 \\\n",
    "     + int5_5*f_5\n",
    "int5.factor()"
   ]
  },
  {
   "cell_type": "markdown",
   "metadata": {
    "deletable": true,
    "editable": true
   },
   "source": [
    "## Case for n=6:"
   ]
  },
  {
   "cell_type": "code",
   "execution_count": 71,
   "metadata": {
    "collapsed": true,
    "deletable": true,
    "editable": true
   },
   "outputs": [],
   "source": [
    "# define grid points\n",
    "var('a, b, h, x_0, x_1, x_2, x_3, x_4, x_5, x_6') \n",
    "gridkey6= \\\n",
    "[\n",
    "    x_0 == a,\n",
    "    x_1 == a + h,\n",
    "    x_2 == a + 2*h,\n",
    "    x_3 == a + 3*h,\n",
    "    x_4 == a + 4*h,\n",
    "    x_5 == a + 5*h,\n",
    "    x_6 == a + 6*h,\n",
    "    b == a + 6*h\n",
    "]"
   ]
  },
  {
   "cell_type": "code",
   "execution_count": 72,
   "metadata": {
    "collapsed": false,
    "deletable": true,
    "editable": true
   },
   "outputs": [
    {
     "data": {
      "text/html": [
       "<html><script type=\"math/tex; mode=display\">\\newcommand{\\Bold}[1]{\\mathbf{#1}}\\frac{f_{0} {\\left(x - x_{1}\\right)} {\\left(x - x_{2}\\right)} {\\left(x - x_{3}\\right)} {\\left(x - x_{4}\\right)} {\\left(x - x_{5}\\right)} {\\left(x - x_{6}\\right)}}{{\\left(x_{0} - x_{1}\\right)} {\\left(x_{0} - x_{2}\\right)} {\\left(x_{0} - x_{3}\\right)} {\\left(x_{0} - x_{4}\\right)} {\\left(x_{0} - x_{5}\\right)} {\\left(x_{0} - x_{6}\\right)}} - \\frac{f_{1} {\\left(x - x_{0}\\right)} {\\left(x - x_{2}\\right)} {\\left(x - x_{3}\\right)} {\\left(x - x_{4}\\right)} {\\left(x - x_{5}\\right)} {\\left(x - x_{6}\\right)}}{{\\left(x_{0} - x_{1}\\right)} {\\left(x_{1} - x_{2}\\right)} {\\left(x_{1} - x_{3}\\right)} {\\left(x_{1} - x_{4}\\right)} {\\left(x_{1} - x_{5}\\right)} {\\left(x_{1} - x_{6}\\right)}} + \\frac{f_{2} {\\left(x - x_{0}\\right)} {\\left(x - x_{1}\\right)} {\\left(x - x_{3}\\right)} {\\left(x - x_{4}\\right)} {\\left(x - x_{5}\\right)} {\\left(x - x_{6}\\right)}}{{\\left(x_{0} - x_{2}\\right)} {\\left(x_{1} - x_{2}\\right)} {\\left(x_{2} - x_{3}\\right)} {\\left(x_{2} - x_{4}\\right)} {\\left(x_{2} - x_{5}\\right)} {\\left(x_{2} - x_{6}\\right)}} - \\frac{f_{3} {\\left(x - x_{0}\\right)} {\\left(x - x_{1}\\right)} {\\left(x - x_{2}\\right)} {\\left(x - x_{4}\\right)} {\\left(x - x_{5}\\right)} {\\left(x - x_{6}\\right)}}{{\\left(x_{0} - x_{3}\\right)} {\\left(x_{1} - x_{3}\\right)} {\\left(x_{2} - x_{3}\\right)} {\\left(x_{3} - x_{4}\\right)} {\\left(x_{3} - x_{5}\\right)} {\\left(x_{3} - x_{6}\\right)}} + \\frac{f_{4} {\\left(x - x_{0}\\right)} {\\left(x - x_{1}\\right)} {\\left(x - x_{2}\\right)} {\\left(x - x_{3}\\right)} {\\left(x - x_{5}\\right)} {\\left(x - x_{6}\\right)}}{{\\left(x_{0} - x_{4}\\right)} {\\left(x_{1} - x_{4}\\right)} {\\left(x_{2} - x_{4}\\right)} {\\left(x_{3} - x_{4}\\right)} {\\left(x_{4} - x_{5}\\right)} {\\left(x_{4} - x_{6}\\right)}} - \\frac{f_{5} {\\left(x - x_{0}\\right)} {\\left(x - x_{1}\\right)} {\\left(x - x_{2}\\right)} {\\left(x - x_{3}\\right)} {\\left(x - x_{4}\\right)} {\\left(x - x_{6}\\right)}}{{\\left(x_{0} - x_{5}\\right)} {\\left(x_{1} - x_{5}\\right)} {\\left(x_{2} - x_{5}\\right)} {\\left(x_{3} - x_{5}\\right)} {\\left(x_{4} - x_{5}\\right)} {\\left(x_{5} - x_{6}\\right)}} + \\frac{f_{6} {\\left(x - x_{0}\\right)} {\\left(x - x_{1}\\right)} {\\left(x - x_{2}\\right)} {\\left(x - x_{3}\\right)} {\\left(x - x_{4}\\right)} {\\left(x - x_{5}\\right)}}{{\\left(x_{0} - x_{6}\\right)} {\\left(x_{1} - x_{6}\\right)} {\\left(x_{2} - x_{6}\\right)} {\\left(x_{3} - x_{6}\\right)} {\\left(x_{4} - x_{6}\\right)} {\\left(x_{5} - x_{6}\\right)}}</script></html>"
      ],
      "text/plain": [
       "f_0*(x - x_1)*(x - x_2)*(x - x_3)*(x - x_4)*(x - x_5)*(x - x_6)/((x_0 - x_1)*(x_0 - x_2)*(x_0 - x_3)*(x_0 - x_4)*(x_0 - x_5)*(x_0 - x_6)) - f_1*(x - x_0)*(x - x_2)*(x - x_3)*(x - x_4)*(x - x_5)*(x - x_6)/((x_0 - x_1)*(x_1 - x_2)*(x_1 - x_3)*(x_1 - x_4)*(x_1 - x_5)*(x_1 - x_6)) + f_2*(x - x_0)*(x - x_1)*(x - x_3)*(x - x_4)*(x - x_5)*(x - x_6)/((x_0 - x_2)*(x_1 - x_2)*(x_2 - x_3)*(x_2 - x_4)*(x_2 - x_5)*(x_2 - x_6)) - f_3*(x - x_0)*(x - x_1)*(x - x_2)*(x - x_4)*(x - x_5)*(x - x_6)/((x_0 - x_3)*(x_1 - x_3)*(x_2 - x_3)*(x_3 - x_4)*(x_3 - x_5)*(x_3 - x_6)) + f_4*(x - x_0)*(x - x_1)*(x - x_2)*(x - x_3)*(x - x_5)*(x - x_6)/((x_0 - x_4)*(x_1 - x_4)*(x_2 - x_4)*(x_3 - x_4)*(x_4 - x_5)*(x_4 - x_6)) - f_5*(x - x_0)*(x - x_1)*(x - x_2)*(x - x_3)*(x - x_4)*(x - x_6)/((x_0 - x_5)*(x_1 - x_5)*(x_2 - x_5)*(x_3 - x_5)*(x_4 - x_5)*(x_5 - x_6)) + f_6*(x - x_0)*(x - x_1)*(x - x_2)*(x - x_3)*(x - x_4)*(x - x_5)/((x_0 - x_6)*(x_1 - x_6)*(x_2 - x_6)*(x_3 - x_6)*(x_4 - x_6)*(x_5 - x_6))"
      ]
     },
     "execution_count": 72,
     "metadata": {},
     "output_type": "execute_result"
    }
   ],
   "source": [
    "# define the interpolating polynomial on [a,b]\n",
    "var('x, f_0, f_1, f_2, f_3, f_4, f_5, f_6')\n",
    "\n",
    "L6_0(x) = (x - x_1)*(x - x_2)*(x - x_3)*(x - x_4)*(x - x_5)*(x - x_6)\\\n",
    "          /((x_0 - x_1)*(x_0 - x_2)*(x_0 - x_3)*(x_0 - x_4)*(x_0 - x_5)*(x_0 - x_6))\n",
    "\n",
    "L6_1(x) = (x - x_0)*(x - x_2)*(x - x_3)*(x - x_4)*(x - x_5)*(x - x_6)\\\n",
    "          /((x_1 - x_0)*(x_1 - x_2)*(x_1 - x_3)*(x_1 - x_4)*(x_1 - x_5)*(x_1 - x_6))\n",
    "\n",
    "L6_2(x) = (x - x_0)*(x - x_1)*(x - x_3)*(x - x_4)*(x - x_5)*(x - x_6)\\\n",
    "          /((x_2 - x_0)*(x_2 - x_1)*(x_2 - x_3)*(x_2 - x_4)*(x_2 - x_5)*(x_2 - x_6))\n",
    "\n",
    "L6_3(x) = (x - x_0)*(x - x_1)*(x - x_2)*(x - x_4)*(x - x_5)*(x - x_6)\\\n",
    "          /((x_3 - x_0)*(x_3 - x_1)*(x_3 - x_2)*(x_3 - x_4)*(x_3 - x_5)*(x_3 - x_6))\n",
    "\n",
    "L6_4(x) = (x - x_0)*(x - x_1)*(x - x_2)*(x - x_3)*(x - x_5)*(x - x_6)\\\n",
    "          /((x_4 - x_0)*(x_4 - x_1)*(x_4 - x_2)*(x_4 - x_3)*(x_4 - x_5)*(x_4 - x_6))\n",
    "\n",
    "L6_5(x) = (x - x_0)*(x - x_1)*(x - x_2)*(x - x_3)*(x - x_4)*(x - x_6)\\\n",
    "          /((x_5 - x_0)*(x_5 - x_1)*(x_5 - x_2)*(x_5 - x_3)*(x_5 - x_4)*(x_5 - x_6))\n",
    "\n",
    "L6_6(x) = (x - x_0)*(x - x_1)*(x - x_2)*(x - x_3)*(x - x_4)*(x - x_5)\\\n",
    "          /((x_6 - x_0)*(x_6 - x_1)*(x_6 - x_2)*(x_6 - x_3)*(x_6 - x_4)*(x_6 - x_5))\n",
    "\n",
    "p6(x) = L6_0(x)*f_0 \\\n",
    "      + L6_1(x)*f_1 \\\n",
    "      + L6_2(x)*f_2 \\\n",
    "      + L6_3(x)*f_3 \\\n",
    "      + L6_4(x)*f_4 \\\n",
    "      + L6_5(x)*f_5 \\\n",
    "      + L6_6(x)*f_6\n",
    "\n",
    "p6(x)"
   ]
  },
  {
   "cell_type": "code",
   "execution_count": 73,
   "metadata": {
    "collapsed": false,
    "deletable": true,
    "editable": true
   },
   "outputs": [
    {
     "data": {
      "text/html": [
       "<html><script type=\"math/tex; mode=display\">\\newcommand{\\Bold}[1]{\\mathbf{#1}}\\frac{1}{140} \\, {\\left(41 \\, f_{0} + 216 \\, f_{1} + 27 \\, f_{2} + 272 \\, f_{3} + 27 \\, f_{4} + 216 \\, f_{5} + 41 \\, f_{6}\\right)} h</script></html>"
      ],
      "text/plain": [
       "1/140*(41*f_0 + 216*f_1 + 27*f_2 + 272*f_3 + 27*f_4 + 216*f_5 + 41*f_6)*h"
      ]
     },
     "execution_count": 73,
     "metadata": {},
     "output_type": "execute_result"
    }
   ],
   "source": [
    "# integrate the interpolating polynomial over [a,b]\n",
    "int6_0 = integrate(L6_0(x), x, a, b).subs(gridkey6).simplify_full()\n",
    "int6_1 = integrate(L6_1(x), x, a, b).subs(gridkey6).simplify_full()\n",
    "int6_2 = integrate(L6_2(x), x, a, b).subs(gridkey6).simplify_full()\n",
    "int6_3 = integrate(L6_3(x), x, a, b).subs(gridkey6).simplify_full()\n",
    "int6_4 = integrate(L6_4(x), x, a, b).subs(gridkey6).simplify_full()\n",
    "int6_5 = integrate(L6_5(x), x, a, b).subs(gridkey6).simplify_full()\n",
    "int6_6 = integrate(L6_6(x), x, a, b).subs(gridkey6).simplify_full()\n",
    "int6 = int6_0*f_0 \\\n",
    "     + int6_1*f_1 \\\n",
    "     + int6_2*f_2 \\\n",
    "     + int6_3*f_3 \\\n",
    "     + int6_4*f_4 \\\n",
    "     + int6_5*f_5 \\\n",
    "     + int6_6*f_6\n",
    "int6.factor()"
   ]
  },
  {
   "cell_type": "code",
   "execution_count": null,
   "metadata": {
    "collapsed": true,
    "deletable": true,
    "editable": true
   },
   "outputs": [],
   "source": []
  }
 ],
 "metadata": {
  "kernelspec": {
   "display_name": "SageMath 8.1",
   "language": "",
   "name": "sagemath"
  },
  "language_info": {
   "codemirror_mode": {
    "name": "ipython",
    "version": 2
   },
   "file_extension": ".py",
   "mimetype": "text/x-python",
   "name": "python",
   "nbconvert_exporter": "python",
   "pygments_lexer": "ipython2",
   "version": "2.7.14"
  }
 },
 "nbformat": 4,
 "nbformat_minor": 2
}
