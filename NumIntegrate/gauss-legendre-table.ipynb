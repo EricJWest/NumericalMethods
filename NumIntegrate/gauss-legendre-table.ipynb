{
 "cells": [
  {
   "cell_type": "markdown",
   "metadata": {
    "deletable": true,
    "editable": true
   },
   "source": [
    "# Gauss-Legendre quadrature abscissa and weights\n"
   ]
  },
  {
   "cell_type": "code",
   "execution_count": 19,
   "metadata": {
    "collapsed": true,
    "deletable": true,
    "editable": true
   },
   "outputs": [],
   "source": [
    "%display latex\n",
    "import scipy.optimize as scp \n",
    "import numpy as np\n",
    "np.set_printoptions(precision=15)"
   ]
  },
  {
   "cell_type": "code",
   "execution_count": 20,
   "metadata": {
    "collapsed": false,
    "deletable": true,
    "editable": true
   },
   "outputs": [
    {
     "data": {
      "text/html": [
       "<html><script type=\"math/tex; mode=display\">\\newcommand{\\Bold}[1]{\\mathbf{#1}}\\frac{46189}{256} \\, x^{10} - \\frac{109395}{256} \\, x^{8} + \\frac{45045}{128} \\, x^{6} - \\frac{15015}{128} \\, x^{4} + \\frac{3465}{256} \\, x^{2} - \\frac{63}{256}</script></html>"
      ],
      "text/plain": [
       "46189/256*x^10 - 109395/256*x^8 + 45045/128*x^6 - 15015/128*x^4 + 3465/256*x^2 - 63/256"
      ]
     },
     "execution_count": 20,
     "metadata": {},
     "output_type": "execute_result"
    }
   ],
   "source": [
    "# Legendre polynomials\n",
    "P(n,x) = legendre_P(n,x)\n",
    "P(10,x)"
   ]
  },
  {
   "cell_type": "code",
   "execution_count": 21,
   "metadata": {
    "collapsed": false,
    "deletable": true,
    "editable": true
   },
   "outputs": [
    {
     "data": {
      "text/html": [
       "<html><script type=\"math/tex; mode=display\">\\newcommand{\\Bold}[1]{\\mathbf{#1}}{\\left(x - x_{1}\\right)} {\\left(x - x_{10}\\right)} {\\left(x - x_{11}\\right)} {\\left(x - x_{12}\\right)} {\\left(x - x_{2}\\right)} {\\left(x - x_{3}\\right)} {\\left(x - x_{4}\\right)} {\\left(x - x_{5}\\right)} {\\left(x - x_{6}\\right)} {\\left(x - x_{7}\\right)} {\\left(x - x_{8}\\right)} {\\left(x - x_{9}\\right)}</script></html>"
      ],
      "text/plain": [
       "(x - x1)*(x - x10)*(x - x11)*(x - x12)*(x - x2)*(x - x3)*(x - x4)*(x - x5)*(x - x6)*(x - x7)*(x - x8)*(x - x9)"
      ]
     },
     "execution_count": 21,
     "metadata": {},
     "output_type": "execute_result"
    }
   ],
   "source": [
    "def pi(n, x):\n",
    "    xj = list(var('x%d' % j) for j in range(1,n+1))\n",
    "    return prod([(x - xj[l-1]) for l in range(1,n+1)])\n",
    "pi(12, x)"
   ]
  },
  {
   "cell_type": "code",
   "execution_count": 22,
   "metadata": {
    "collapsed": false,
    "deletable": true,
    "editable": true
   },
   "outputs": [
    {
     "data": {
      "text/html": [
       "<html><script type=\"math/tex; mode=display\">\\newcommand{\\Bold}[1]{\\mathbf{#1}}-\\frac{{\\left(x - x_{1}\\right)} {\\left(x - x_{10}\\right)} {\\left(x - x_{11}\\right)} {\\left(x - x_{2}\\right)} {\\left(x - x_{3}\\right)} {\\left(x - x_{4}\\right)} {\\left(x - x_{5}\\right)} {\\left(x - x_{6}\\right)} {\\left(x - x_{7}\\right)} {\\left(x - x_{8}\\right)} {\\left(x - x_{9}\\right)}}{{\\left(x_{1} - x_{12}\\right)} {\\left(x_{10} - x_{12}\\right)} {\\left(x_{11} - x_{12}\\right)} {\\left(x_{12} - x_{2}\\right)} {\\left(x_{12} - x_{3}\\right)} {\\left(x_{12} - x_{4}\\right)} {\\left(x_{12} - x_{5}\\right)} {\\left(x_{12} - x_{6}\\right)} {\\left(x_{12} - x_{7}\\right)} {\\left(x_{12} - x_{8}\\right)} {\\left(x_{12} - x_{9}\\right)}}</script></html>"
      ],
      "text/plain": [
       "-(x - x1)*(x - x10)*(x - x11)*(x - x2)*(x - x3)*(x - x4)*(x - x5)*(x - x6)*(x - x7)*(x - x8)*(x - x9)/((x1 - x12)*(x10 - x12)*(x11 - x12)*(x12 - x2)*(x12 - x3)*(x12 - x4)*(x12 - x5)*(x12 - x6)*(x12 - x7)*(x12 - x8)*(x12 - x9))"
      ]
     },
     "execution_count": 22,
     "metadata": {},
     "output_type": "execute_result"
    }
   ],
   "source": [
    "def L(n, k, x):\n",
    "    xj = list(var('x%d' % j) for j in range(1,n+1))\n",
    "    dpi(x) = diff(pi(n, x), x)\n",
    "    return pi(n, x)/((x - xj[k-1])*dpi(xj[k-1]))\n",
    "L(12,12,x)"
   ]
  },
  {
   "cell_type": "code",
   "execution_count": 23,
   "metadata": {
    "collapsed": false,
    "deletable": true,
    "editable": true
   },
   "outputs": [],
   "source": [
    "def gauss_legendre(n):\n",
    "    \"\"\"\n",
    "    function to calculate abscissa and weights for Gauss-Legendre quadrature\n",
    "    \n",
    "    INPUT: n = degree of Legendre polynomial to be used\n",
    "    \n",
    "    OUTPUT: pairs = (n x 2)-dimensional array of [abscissa, weight] pairs\n",
    "    \"\"\"\n",
    "    # find the roots of the Legendre polynomial of order n;\n",
    "    # roots of lower degree are used to bracket roots of the next degree \n",
    "    m = 1\n",
    "    interval = [-1,1]\n",
    "    roots = np.zeros(0)\n",
    "    while m <= n:\n",
    "        # update function to be Legendre polynomial of degree m\n",
    "        f(x) = P(m,x)\n",
    "        \n",
    "        # update xgrid subintervals \n",
    "        # based on the roots of previous degree Legendre polynomial\n",
    "        xgrid = np.union1d(interval,roots)\n",
    "        \n",
    "        # define left and right brackets of subintervals\n",
    "        left = xgrid[:-1] \n",
    "        right = xgrid[1:]\n",
    "        \n",
    "        # apply crude root search using bisection method\n",
    "        #print '\\nbisection root search for n =', m, ':'\n",
    "        xtest = np.zeros(m)\n",
    "        for i in range(m):\n",
    "            #print '    i =', i, ': searching sub-interval', [left[i],right[i]], '...'\n",
    "            xtest[i] = scp.bisect(f, left[i], right[i], maxiter=100)\n",
    "            #print '            ...found root at', xtest[i]\n",
    "        \n",
    "        # update preliminary roots\n",
    "        roots = xtest\n",
    "        #print '    located roots =', roots\n",
    "        \n",
    "        # increment m\n",
    "        m = m + 1\n",
    "        \n",
    "    # apply refined root search using Newton-Raphson method\n",
    "    # taking the results of bisection method as initial guesses\n",
    "    for i in range(n):\n",
    "        f(x) = P(n,x)\n",
    "        roots[i] = scp.newton(f, roots[i], maxiter=10).n(digits=15)\n",
    "    #print 'refined roots using Newton-Raphson:'\n",
    "    #print roots, '\\n'\n",
    "    \n",
    "    # Gauss-Legendre abscissa\n",
    "    xj = list(var('x%d' % j) for j in range(1,n+1))\n",
    "    print 'Gauss-Legendre abscissa for n =', n, ':'\n",
    "    for i in range(n):\n",
    "        print xj[i], '=', '%1.15f' % roots[i]\n",
    "    print ''\n",
    "\n",
    "    # integrate Lagrange functions to calculate Gauss-Legendre weights\n",
    "    weights = np.zeros(n)\n",
    "    print 'Gauss-Legendre weights for n =', n, ':'\n",
    "    for i in range (n):\n",
    "        xj = list(var('x%d' % j) for j in range(1,n+1))\n",
    "        abscissa = {xj[j]: roots[j] for j in range(n)}\n",
    "        weights[i] = integrate(L(n,i+1,x).subs(abscissa), x, -1, 1).n(digits=15)\n",
    "        cj = list(var('c%d' % j) for j in range(1,n+1))\n",
    "        print cj[i], '=', '%1.15f' % weights[i]\n",
    "    \n",
    "    pairs = np.zeros((n,2))\n",
    "    for i in range(n):\n",
    "        pairs[i] = [roots[i],weights[i]]\n",
    "    \n",
    "    return pairs"
   ]
  },
  {
   "cell_type": "code",
   "execution_count": 24,
   "metadata": {
    "collapsed": false,
    "deletable": true,
    "editable": true
   },
   "outputs": [
    {
     "name": "stdout",
     "output_type": "stream",
     "text": [
      "Gauss-Legendre abscissa for n = 4 :\n",
      "x1 = -0.861136311594053\n",
      "x2 = -0.339981043584856\n",
      "x3 = 0.339981043584856\n",
      "x4 = 0.861136311594053\n",
      "\n",
      "Gauss-Legendre weights for n = 4 :\n",
      "c1 = 0.347854845137454\n",
      "c2 = 0.652145154862546\n",
      "c3 = 0.652145154862546\n",
      "c4 = 0.347854845137454\n"
     ]
    },
    {
     "data": {
      "text/html": [
       "<html><script type=\"math/tex; mode=display\">\\newcommand{\\Bold}[1]{\\mathbf{#1}}\\begin{array}{l}\n",
       "\\verb|[[-0.861136311594053|\\phantom{\\verb!xx!}\\verb|0.347854845137454]|\\\\\n",
       "\\phantom{\\verb!x!}\\verb|[-0.339981043584856|\\phantom{\\verb!xx!}\\verb|0.652145154862546]|\\\\\n",
       "\\phantom{\\verb!x!}\\verb|[|\\phantom{\\verb!x!}\\verb|0.339981043584856|\\phantom{\\verb!xx!}\\verb|0.652145154862546]|\\\\\n",
       "\\phantom{\\verb!x!}\\verb|[|\\phantom{\\verb!x!}\\verb|0.861136311594053|\\phantom{\\verb!xx!}\\verb|0.347854845137454]]|\n",
       "\\end{array}</script></html>"
      ],
      "text/plain": [
       "array([[-0.861136311594053,  0.347854845137454],\n",
       "       [-0.339981043584856,  0.652145154862546],\n",
       "       [ 0.339981043584856,  0.652145154862546],\n",
       "       [ 0.861136311594053,  0.347854845137454]])"
      ]
     },
     "execution_count": 24,
     "metadata": {},
     "output_type": "execute_result"
    }
   ],
   "source": [
    "gauss_legendre(4)"
   ]
  },
  {
   "cell_type": "markdown",
   "metadata": {
    "deletable": true,
    "editable": true
   },
   "source": [
    "### Create table"
   ]
  },
  {
   "cell_type": "code",
   "execution_count": 25,
   "metadata": {
    "collapsed": false,
    "deletable": true,
    "editable": true
   },
   "outputs": [
    {
     "name": "stdout",
     "output_type": "stream",
     "text": [
      "Gauss-Legendre abscissa for n = 2 :\n",
      "x1 = -0.577350269189626\n",
      "x2 = 0.577350269189626\n",
      "\n",
      "Gauss-Legendre weights for n = 2 :\n",
      "c1 = 1.000000000000000\n",
      "c2 = 1.000000000000000\n"
     ]
    }
   ],
   "source": [
    "data2 = gauss_legendre(2)"
   ]
  },
  {
   "cell_type": "code",
   "execution_count": 26,
   "metadata": {
    "collapsed": false,
    "deletable": true,
    "editable": true
   },
   "outputs": [
    {
     "name": "stdout",
     "output_type": "stream",
     "text": [
      "Gauss-Legendre abscissa for n = 3 :\n",
      "x1 = -0.774596669241483\n",
      "x2 = 0.000000000000000\n",
      "x3 = 0.774596669241483\n",
      "\n",
      "Gauss-Legendre weights for n = 3 :\n",
      "c1 = 0.555555555555555\n",
      "c2 = 0.888888888888893\n",
      "c3 = 0.555555555555555\n"
     ]
    }
   ],
   "source": [
    "data3 = gauss_legendre(3)"
   ]
  },
  {
   "cell_type": "code",
   "execution_count": 27,
   "metadata": {
    "collapsed": false,
    "deletable": true,
    "editable": true
   },
   "outputs": [
    {
     "name": "stdout",
     "output_type": "stream",
     "text": [
      "Gauss-Legendre abscissa for n = 4 :\n",
      "x1 = -0.861136311594053\n",
      "x2 = -0.339981043584856\n",
      "x3 = 0.339981043584856\n",
      "x4 = 0.861136311594053\n",
      "\n",
      "Gauss-Legendre weights for n = 4 :\n",
      "c1 = 0.347854845137454\n",
      "c2 = 0.652145154862546\n",
      "c3 = 0.652145154862546\n",
      "c4 = 0.347854845137454\n"
     ]
    }
   ],
   "source": [
    "data4 = gauss_legendre(4)"
   ]
  },
  {
   "cell_type": "code",
   "execution_count": 28,
   "metadata": {
    "collapsed": false,
    "deletable": true,
    "editable": true
   },
   "outputs": [
    {
     "name": "stdout",
     "output_type": "stream",
     "text": [
      "Gauss-Legendre abscissa for n = 5 :\n",
      "x1 = -0.906179845938664\n",
      "x2 = -0.538469310105683\n",
      "x3 = 0.000000000000000\n",
      "x4 = 0.538469310105683\n",
      "x5 = 0.906179845938664\n",
      "\n",
      "Gauss-Legendre weights for n = 5 :\n",
      "c1 = 0.236926885056189\n",
      "c2 = 0.478628670499365\n",
      "c3 = 0.568888888888887\n",
      "c4 = 0.478628670499365\n",
      "c5 = 0.236926885056189\n"
     ]
    }
   ],
   "source": [
    "data5 = gauss_legendre(5)"
   ]
  },
  {
   "cell_type": "code",
   "execution_count": 29,
   "metadata": {
    "collapsed": false,
    "deletable": true,
    "editable": true
   },
   "outputs": [
    {
     "name": "stdout",
     "output_type": "stream",
     "text": [
      "Gauss-Legendre abscissa for n = 6 :\n",
      "x1 = -0.932469514203152\n",
      "x2 = -0.661209386466265\n",
      "x3 = -0.238619186083197\n",
      "x4 = 0.238619186083197\n",
      "x5 = 0.661209386466264\n",
      "x6 = 0.932469514203152\n",
      "\n",
      "Gauss-Legendre weights for n = 6 :\n",
      "c1 = 0.171324492379170\n",
      "c2 = 0.360761573048140\n",
      "c3 = 0.467913934572693\n",
      "c4 = 0.467913934572693\n",
      "c5 = 0.360761573048140\n",
      "c6 = 0.171324492379170\n"
     ]
    }
   ],
   "source": [
    "data6 = gauss_legendre(6)"
   ]
  },
  {
   "cell_type": "code",
   "execution_count": 30,
   "metadata": {
    "collapsed": false,
    "deletable": true,
    "editable": true
   },
   "outputs": [
    {
     "name": "stdout",
     "output_type": "stream",
     "text": [
      "Gauss-Legendre abscissa for n = 7 :\n",
      "x1 = -0.949107912342759\n",
      "x2 = -0.741531185599394\n",
      "x3 = -0.405845151377397\n",
      "x4 = -0.000000000000000\n",
      "x5 = 0.405845151377397\n",
      "x6 = 0.741531185599394\n",
      "x7 = 0.949107912342759\n",
      "\n",
      "Gauss-Legendre weights for n = 7 :\n",
      "c1 = 0.129484966168869\n",
      "c2 = 0.279705391489278\n",
      "c3 = 0.381830050505118\n",
      "c4 = 0.417959183673468\n",
      "c5 = 0.381830050505118\n",
      "c6 = 0.279705391489278\n",
      "c7 = 0.129484966168869\n"
     ]
    }
   ],
   "source": [
    "data7 = gauss_legendre(7)"
   ]
  },
  {
   "cell_type": "code",
   "execution_count": 31,
   "metadata": {
    "collapsed": false,
    "deletable": true,
    "editable": true
   },
   "outputs": [
    {
     "name": "stdout",
     "output_type": "stream",
     "text": [
      "Gauss-Legendre abscissa for n = 8 :\n",
      "x1 = -0.960289856497536\n",
      "x2 = -0.796666477413627\n",
      "x3 = -0.525532409916329\n",
      "x4 = -0.183434642495650\n",
      "x5 = 0.183434642495650\n",
      "x6 = 0.525532409916329\n",
      "x7 = 0.796666477413627\n",
      "x8 = 0.960289856497536\n",
      "\n",
      "Gauss-Legendre weights for n = 8 :\n",
      "c1 = 0.101228536290376\n",
      "c2 = 0.222381034453373\n",
      "c3 = 0.313706645877890\n",
      "c4 = 0.362683783378360\n",
      "c5 = 0.362683783378361\n",
      "c6 = 0.313706645877890\n",
      "c7 = 0.222381034453373\n",
      "c8 = 0.101228536290376\n"
     ]
    }
   ],
   "source": [
    "data8 = gauss_legendre(8)"
   ]
  },
  {
   "cell_type": "code",
   "execution_count": 32,
   "metadata": {
    "collapsed": false,
    "deletable": true,
    "editable": true
   },
   "outputs": [
    {
     "name": "stdout",
     "output_type": "stream",
     "text": [
      "Gauss-Legendre abscissa for n = 9 :\n",
      "x1 = -0.968160239507626\n",
      "x2 = -0.836031107326636\n",
      "x3 = -0.613371432700590\n",
      "x4 = -0.324253423403809\n",
      "x5 = -0.000000000000000\n",
      "x6 = 0.324253423403809\n",
      "x7 = 0.613371432700591\n",
      "x8 = 0.836031107326636\n",
      "x9 = 0.968160239507627\n",
      "\n",
      "Gauss-Legendre weights for n = 9 :\n",
      "c1 = 0.081274388361575\n",
      "c2 = 0.180648160694858\n",
      "c3 = 0.260610696402933\n",
      "c4 = 0.312347077040004\n",
      "c5 = 0.330239355001256\n",
      "c6 = 0.312347077040004\n",
      "c7 = 0.260610696402933\n",
      "c8 = 0.180648160694857\n",
      "c9 = 0.081274388361574\n"
     ]
    }
   ],
   "source": [
    "data9 = gauss_legendre(9)"
   ]
  },
  {
   "cell_type": "code",
   "execution_count": 33,
   "metadata": {
    "collapsed": false,
    "deletable": true,
    "editable": true
   },
   "outputs": [
    {
     "name": "stdout",
     "output_type": "stream",
     "text": [
      "Gauss-Legendre abscissa for n = 10 :\n",
      "x1 = -0.973906528517172\n",
      "x2 = -0.865063366688990\n",
      "x3 = -0.679409568299025\n",
      "x4 = -0.433395394129247\n",
      "x5 = -0.148874338981631\n",
      "x6 = 0.148874338981631\n",
      "x7 = 0.433395394129247\n",
      "x8 = 0.679409568299025\n",
      "x9 = 0.865063366688990\n",
      "x10 = 0.973906528517172\n",
      "\n",
      "Gauss-Legendre weights for n = 10 :\n",
      "c1 = 0.066671344308684\n",
      "c2 = 0.149451349150578\n",
      "c3 = 0.219086362515994\n",
      "c4 = 0.269266719309996\n",
      "c5 = 0.295524224714753\n",
      "c6 = 0.295524224714754\n",
      "c7 = 0.269266719309995\n",
      "c8 = 0.219086362515994\n",
      "c9 = 0.149451349150578\n",
      "c10 = 0.066671344308684\n"
     ]
    }
   ],
   "source": [
    "data10 = gauss_legendre(10)"
   ]
  },
  {
   "cell_type": "code",
   "execution_count": 34,
   "metadata": {
    "collapsed": false,
    "deletable": true,
    "editable": true
   },
   "outputs": [
    {
     "name": "stdout",
     "output_type": "stream",
     "text": [
      "Gauss-Legendre abscissa for n = 11 :\n",
      "x1 = -0.978228658146058\n",
      "x2 = -0.887062599768099\n",
      "x3 = -0.730152005574051\n",
      "x4 = -0.519096129206811\n",
      "x5 = -0.269543155952345\n",
      "x6 = 0.000000000000000\n",
      "x7 = 0.269543155952345\n",
      "x8 = 0.519096129206813\n",
      "x9 = 0.730152005574054\n",
      "x10 = 0.887062599768099\n",
      "x11 = 0.978228658146058\n",
      "\n",
      "Gauss-Legendre weights for n = 11 :\n",
      "c1 = 0.055668567116171\n",
      "c2 = 0.125580369464906\n",
      "c3 = 0.186290210927741\n",
      "c4 = 0.233193764591990\n",
      "c5 = 0.262804544510245\n",
      "c6 = 0.272925086777904\n",
      "c7 = 0.262804544510246\n",
      "c8 = 0.233193764591994\n",
      "c9 = 0.186290210927737\n",
      "c10 = 0.125580369464903\n",
      "c11 = 0.055668567116171\n"
     ]
    }
   ],
   "source": [
    "data11 = gauss_legendre(11)"
   ]
  },
  {
   "cell_type": "code",
   "execution_count": 35,
   "metadata": {
    "collapsed": false,
    "deletable": true,
    "editable": true
   },
   "outputs": [
    {
     "name": "stdout",
     "output_type": "stream",
     "text": [
      "Gauss-Legendre abscissa for n = 12 :\n",
      "x1 = -0.981560634246720\n",
      "x2 = -0.904117256370473\n",
      "x3 = -0.769902674194303\n",
      "x4 = -0.587317954286618\n",
      "x5 = -0.367831498998180\n",
      "x6 = -0.125233408511469\n",
      "x7 = 0.125233408511469\n",
      "x8 = 0.367831498998180\n",
      "x9 = 0.587317954286617\n",
      "x10 = 0.769902674194297\n",
      "x11 = 0.904117256370453\n",
      "x12 = 0.981560634246720\n",
      "\n",
      "Gauss-Legendre weights for n = 12 :\n",
      "c1 = 0.047175336386511\n",
      "c2 = 0.106939325995320\n",
      "c3 = 0.160078328543342\n",
      "c4 = 0.203167426723063\n",
      "c5 = 0.233492536538360\n",
      "c6 = 0.249147045813395\n",
      "c7 = 0.249147045813409\n",
      "c8 = 0.233492536538344\n",
      "c9 = 0.203167426723077\n",
      "c10 = 0.160078328543317\n",
      "c11 = 0.106939325995334\n",
      "c12 = 0.047175336386518\n"
     ]
    }
   ],
   "source": [
    "data12 = gauss_legendre(12)"
   ]
  },
  {
   "cell_type": "code",
   "execution_count": 36,
   "metadata": {
    "collapsed": false,
    "deletable": true,
    "editable": true
   },
   "outputs": [],
   "source": [
    "data_file = open('gauss-legendre-table.dat', 'w')\n",
    "data_file.write('#n=2 \\n')\n",
    "np.savetxt(data_file, data2, fmt='%1.15f')\n",
    "data_file.write('#n=3 \\n')\n",
    "np.savetxt(data_file, data3, fmt='%1.15f')\n",
    "data_file.write('#n=4 \\n')\n",
    "np.savetxt(data_file, data4, fmt='%1.15f')\n",
    "data_file.write('#n=5 \\n')\n",
    "np.savetxt(data_file, data5, fmt='%1.15f')\n",
    "data_file.write('#n=6 \\n')\n",
    "np.savetxt(data_file, data6, fmt='%1.15f')\n",
    "data_file.write('#n=7 \\n')\n",
    "np.savetxt(data_file, data7, fmt='%1.15f')\n",
    "data_file.write('#n=8 \\n')\n",
    "np.savetxt(data_file, data8, fmt='%1.15f')\n",
    "data_file.write('#n=9 \\n')\n",
    "np.savetxt(data_file, data9, fmt='%1.15f')\n",
    "data_file.write('#n=10 \\n')\n",
    "np.savetxt(data_file, data10, fmt='%1.15f')\n",
    "data_file.write('#n=11 \\n')\n",
    "np.savetxt(data_file, data11, fmt='%1.15f')\n",
    "data_file.write('#n=12 \\n')\n",
    "np.savetxt(data_file, data12, fmt='%1.15f')\n",
    "data_file.close()"
   ]
  },
  {
   "cell_type": "code",
   "execution_count": null,
   "metadata": {
    "collapsed": true
   },
   "outputs": [],
   "source": []
  }
 ],
 "metadata": {
  "kernelspec": {
   "display_name": "SageMath 8.1",
   "language": "",
   "name": "sagemath"
  },
  "language_info": {
   "codemirror_mode": {
    "name": "ipython",
    "version": 2
   },
   "file_extension": ".py",
   "mimetype": "text/x-python",
   "name": "python",
   "nbconvert_exporter": "python",
   "pygments_lexer": "ipython2",
   "version": "2.7.14"
  }
 },
 "nbformat": 4,
 "nbformat_minor": 2
}
