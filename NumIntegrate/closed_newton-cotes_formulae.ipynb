{
 "cells": [
  {
   "cell_type": "markdown",
   "metadata": {
    "deletable": true,
    "editable": true
   },
   "source": [
    "# Closed Newton-Cotes formulae"
   ]
  },
  {
   "cell_type": "code",
   "execution_count": 28,
   "metadata": {
    "collapsed": true,
    "deletable": true,
    "editable": true
   },
   "outputs": [],
   "source": [
    "%display latex"
   ]
  },
  {
   "cell_type": "markdown",
   "metadata": {
    "deletable": true,
    "editable": true
   },
   "source": [
    "## Case for n=1 (trapezoid rule):"
   ]
  },
  {
   "cell_type": "code",
   "execution_count": 29,
   "metadata": {
    "collapsed": false,
    "deletable": true,
    "editable": true
   },
   "outputs": [],
   "source": [
    "# define grid points\n",
    "var('a, b, h, x_0, x_1')\n",
    "gridkey1 = [x_0 == a,\n",
    "            x_1 == a + h, \n",
    "            b == a + h]"
   ]
  },
  {
   "cell_type": "code",
   "execution_count": 30,
   "metadata": {
    "collapsed": false,
    "deletable": true,
    "editable": true
   },
   "outputs": [
    {
     "data": {
      "text/html": [
       "<html><script type=\"math/tex; mode=display\">\\newcommand{\\Bold}[1]{\\mathbf{#1}}-\\frac{f_{1} {\\left(x - x_{0}\\right)}}{x_{0} - x_{1}} + \\frac{f_{0} {\\left(x - x_{1}\\right)}}{x_{0} - x_{1}}</script></html>"
      ],
      "text/plain": [
       "-f_1*(x - x_0)/(x_0 - x_1) + f_0*(x - x_1)/(x_0 - x_1)"
      ]
     },
     "execution_count": 30,
     "metadata": {},
     "output_type": "execute_result"
    }
   ],
   "source": [
    "# define the interpolating polynomial on [a,b]\n",
    "var('x, f_0, f_1')\n",
    "L1_0(x) = (x - x_1)/(x_0 - x_1)\n",
    "L1_1(x) = (x - x_0)/(x_1 - x_0)\n",
    "p1(x) = L1_0(x)*f_0 + L1_1(x)*f_1\n",
    "p1(x)"
   ]
  },
  {
   "cell_type": "code",
   "execution_count": 31,
   "metadata": {
    "collapsed": false,
    "deletable": true,
    "editable": true
   },
   "outputs": [
    {
     "data": {
      "text/html": [
       "<html><script type=\"math/tex; mode=display\">\\newcommand{\\Bold}[1]{\\mathbf{#1}}\\frac{1}{2} \\, {\\left(f_{0} + f_{1}\\right)} h</script></html>"
      ],
      "text/plain": [
       "1/2*(f_0 + f_1)*h"
      ]
     },
     "execution_count": 31,
     "metadata": {},
     "output_type": "execute_result"
    }
   ],
   "source": [
    "# integrate the interpolating polynomial over [a,b]\n",
    "int1 = integrate(p1(x), x, a, b)\n",
    "int1.subs(gridkey1).simplify_full()"
   ]
  },
  {
   "cell_type": "markdown",
   "metadata": {
    "deletable": true,
    "editable": true
   },
   "source": [
    "## Case for n=2 (Simpson's rule):"
   ]
  },
  {
   "cell_type": "code",
   "execution_count": 32,
   "metadata": {
    "collapsed": true,
    "deletable": true,
    "editable": true
   },
   "outputs": [],
   "source": [
    "# define grid points\n",
    "var('a, b, h, x_0, x_1, x_2') \n",
    "gridkey2 = [x_0 == a, \n",
    "            x_1 == a + h, \n",
    "            x_2 == a + 2*h, \n",
    "            b == a + 2*h]"
   ]
  },
  {
   "cell_type": "code",
   "execution_count": 33,
   "metadata": {
    "collapsed": false,
    "deletable": true,
    "editable": true
   },
   "outputs": [
    {
     "data": {
      "text/html": [
       "<html><script type=\"math/tex; mode=display\">\\newcommand{\\Bold}[1]{\\mathbf{#1}}\\frac{f_{0} {\\left(x - x_{1}\\right)} {\\left(x - x_{2}\\right)}}{{\\left(x_{0} - x_{1}\\right)} {\\left(x_{0} - x_{2}\\right)}} - \\frac{f_{1} {\\left(x - x_{0}\\right)} {\\left(x - x_{2}\\right)}}{{\\left(x_{0} - x_{1}\\right)} {\\left(x_{1} - x_{2}\\right)}} + \\frac{f_{2} {\\left(x - x_{0}\\right)} {\\left(x - x_{1}\\right)}}{{\\left(x_{0} - x_{2}\\right)} {\\left(x_{1} - x_{2}\\right)}}</script></html>"
      ],
      "text/plain": [
       "f_0*(x - x_1)*(x - x_2)/((x_0 - x_1)*(x_0 - x_2)) - f_1*(x - x_0)*(x - x_2)/((x_0 - x_1)*(x_1 - x_2)) + f_2*(x - x_0)*(x - x_1)/((x_0 - x_2)*(x_1 - x_2))"
      ]
     },
     "execution_count": 33,
     "metadata": {},
     "output_type": "execute_result"
    }
   ],
   "source": [
    "# define the interpolating polynomial on [a,b]\n",
    "var('x, f_0, f_1, f_2')\n",
    "L2_0(x) = (x - x_1)*(x - x_2)/((x_0 - x_1)*(x_0 - x_2))\n",
    "L2_1(x) = (x - x_0)*(x - x_2)/((x_1 - x_0)*(x_1 - x_2))\n",
    "L2_2(x) = (x - x_0)*(x - x_1)/((x_2 - x_0)*(x_2 - x_1))\n",
    "p2(x) = L2_0(x)*f_0 + L2_1(x)*f_1 + L2_2(x)*f_2\n",
    "p2(x)"
   ]
  },
  {
   "cell_type": "code",
   "execution_count": 34,
   "metadata": {
    "collapsed": false,
    "deletable": true,
    "editable": true
   },
   "outputs": [
    {
     "data": {
      "text/html": [
       "<html><script type=\"math/tex; mode=display\">\\newcommand{\\Bold}[1]{\\mathbf{#1}}\\frac{1}{3} \\, {\\left(f_{0} + 4 \\, f_{1} + f_{2}\\right)} h</script></html>"
      ],
      "text/plain": [
       "1/3*(f_0 + 4*f_1 + f_2)*h"
      ]
     },
     "execution_count": 34,
     "metadata": {},
     "output_type": "execute_result"
    }
   ],
   "source": [
    "# integrate the interpolating polynomial over [a,b]\n",
    "int2 = integrate(p2(x), x, a, b)\n",
    "int2.subs(gridkey2).simplify_full()"
   ]
  },
  {
   "cell_type": "markdown",
   "metadata": {
    "deletable": true,
    "editable": true
   },
   "source": [
    "## Case for n=3:"
   ]
  },
  {
   "cell_type": "code",
   "execution_count": 35,
   "metadata": {
    "collapsed": true,
    "deletable": true,
    "editable": true
   },
   "outputs": [],
   "source": [
    "# define grid points\n",
    "var('a, b, h, x_0, x_1, x_2, x_3') \n",
    "gridkey3 = [x_0 == a, \n",
    "            x_1 == a + h, \n",
    "            x_2 == a + 2*h, \n",
    "            x_3 == a + 3*h, \n",
    "            b == a + 3*h]"
   ]
  },
  {
   "cell_type": "code",
   "execution_count": 36,
   "metadata": {
    "collapsed": false,
    "deletable": true,
    "editable": true
   },
   "outputs": [
    {
     "data": {
      "text/html": [
       "<html><script type=\"math/tex; mode=display\">\\newcommand{\\Bold}[1]{\\mathbf{#1}}\\frac{f_{0} {\\left(x - x_{1}\\right)} {\\left(x - x_{2}\\right)} {\\left(x - x_{3}\\right)}}{{\\left(x_{0} - x_{1}\\right)} {\\left(x_{0} - x_{2}\\right)} {\\left(x_{0} - x_{3}\\right)}} - \\frac{f_{1} {\\left(x - x_{0}\\right)} {\\left(x - x_{2}\\right)} {\\left(x - x_{3}\\right)}}{{\\left(x_{0} - x_{1}\\right)} {\\left(x_{1} - x_{2}\\right)} {\\left(x_{1} - x_{3}\\right)}} + \\frac{f_{2} {\\left(x - x_{0}\\right)} {\\left(x - x_{1}\\right)} {\\left(x - x_{3}\\right)}}{{\\left(x_{0} - x_{2}\\right)} {\\left(x_{1} - x_{2}\\right)} {\\left(x_{2} - x_{3}\\right)}} - \\frac{f_{3} {\\left(x - x_{0}\\right)} {\\left(x - x_{1}\\right)} {\\left(x - x_{2}\\right)}}{{\\left(x_{0} - x_{3}\\right)} {\\left(x_{1} - x_{3}\\right)} {\\left(x_{2} - x_{3}\\right)}}</script></html>"
      ],
      "text/plain": [
       "f_0*(x - x_1)*(x - x_2)*(x - x_3)/((x_0 - x_1)*(x_0 - x_2)*(x_0 - x_3)) - f_1*(x - x_0)*(x - x_2)*(x - x_3)/((x_0 - x_1)*(x_1 - x_2)*(x_1 - x_3)) + f_2*(x - x_0)*(x - x_1)*(x - x_3)/((x_0 - x_2)*(x_1 - x_2)*(x_2 - x_3)) - f_3*(x - x_0)*(x - x_1)*(x - x_2)/((x_0 - x_3)*(x_1 - x_3)*(x_2 - x_3))"
      ]
     },
     "execution_count": 36,
     "metadata": {},
     "output_type": "execute_result"
    }
   ],
   "source": [
    "# define the interpolating polynomial on [a,b]\n",
    "var('x, f_0, f_1, f_2, f_3')\n",
    "L3_0(x) = (x - x_1)*(x - x_2)*(x - x_3)/((x_0 - x_1)*(x_0 - x_2)*(x_0 - x_3))\n",
    "L3_1(x) = (x - x_0)*(x - x_2)*(x - x_3)/((x_1 - x_0)*(x_1 - x_2)*(x_1 - x_3))\n",
    "L3_2(x) = (x - x_0)*(x - x_1)*(x - x_3)/((x_2 - x_0)*(x_2 - x_1)*(x_2 - x_3))\n",
    "L3_3(x) = (x - x_0)*(x - x_1)*(x - x_2)/((x_3 - x_0)*(x_3 - x_1)*(x_3 - x_2))\n",
    "p3(x) = L3_0(x)*f_0 + L3_1(x)*f_1 + L3_2(x)*f_2 + L3_3(x)*f_3\n",
    "p3(x)"
   ]
  },
  {
   "cell_type": "code",
   "execution_count": 37,
   "metadata": {
    "collapsed": false,
    "deletable": true,
    "editable": true
   },
   "outputs": [
    {
     "data": {
      "text/html": [
       "<html><script type=\"math/tex; mode=display\">\\newcommand{\\Bold}[1]{\\mathbf{#1}}\\frac{3}{8} \\, {\\left(f_{0} + 3 \\, f_{1} + 3 \\, f_{2} + f_{3}\\right)} h</script></html>"
      ],
      "text/plain": [
       "3/8*(f_0 + 3*f_1 + 3*f_2 + f_3)*h"
      ]
     },
     "execution_count": 37,
     "metadata": {},
     "output_type": "execute_result"
    }
   ],
   "source": [
    "# integrate the interpolating polynomial over [a,b]\n",
    "int3 = integrate(p3(x), x, a, b)\n",
    "int3.subs(gridkey3).simplify_full()"
   ]
  },
  {
   "cell_type": "markdown",
   "metadata": {
    "collapsed": true,
    "deletable": true,
    "editable": true
   },
   "source": [
    "## Case for n=4:"
   ]
  },
  {
   "cell_type": "code",
   "execution_count": 38,
   "metadata": {
    "collapsed": true,
    "deletable": true,
    "editable": true
   },
   "outputs": [],
   "source": [
    "# define grid points\n",
    "var('a, b, h, x_0, x_1, x_2, x_3, x_4') \n",
    "gridkey4 = [x_0 == a,\n",
    "            x_1 == a + h,\n",
    "            x_2 == a + 2*h,\n",
    "            x_3 == a + 3*h,\n",
    "            x_4 == a + 4*h,\n",
    "            b == a + 4*h]"
   ]
  },
  {
   "cell_type": "code",
   "execution_count": 39,
   "metadata": {
    "collapsed": false,
    "deletable": true,
    "editable": true
   },
   "outputs": [
    {
     "data": {
      "text/html": [
       "<html><script type=\"math/tex; mode=display\">\\newcommand{\\Bold}[1]{\\mathbf{#1}}\\frac{f_{0} {\\left(x - x_{1}\\right)} {\\left(x - x_{2}\\right)} {\\left(x - x_{3}\\right)} {\\left(x - x_{4}\\right)}}{{\\left(x_{0} - x_{1}\\right)} {\\left(x_{0} - x_{2}\\right)} {\\left(x_{0} - x_{3}\\right)} {\\left(x_{0} - x_{4}\\right)}} - \\frac{f_{1} {\\left(x - x_{0}\\right)} {\\left(x - x_{2}\\right)} {\\left(x - x_{3}\\right)} {\\left(x - x_{4}\\right)}}{{\\left(x_{0} - x_{1}\\right)} {\\left(x_{1} - x_{2}\\right)} {\\left(x_{1} - x_{3}\\right)} {\\left(x_{1} - x_{4}\\right)}} + \\frac{f_{2} {\\left(x - x_{0}\\right)} {\\left(x - x_{1}\\right)} {\\left(x - x_{3}\\right)} {\\left(x - x_{4}\\right)}}{{\\left(x_{0} - x_{2}\\right)} {\\left(x_{1} - x_{2}\\right)} {\\left(x_{2} - x_{3}\\right)} {\\left(x_{2} - x_{4}\\right)}} - \\frac{f_{3} {\\left(x - x_{0}\\right)} {\\left(x - x_{1}\\right)} {\\left(x - x_{2}\\right)} {\\left(x - x_{4}\\right)}}{{\\left(x_{0} - x_{3}\\right)} {\\left(x_{1} - x_{3}\\right)} {\\left(x_{2} - x_{3}\\right)} {\\left(x_{3} - x_{4}\\right)}} + \\frac{f_{4} {\\left(x - x_{0}\\right)} {\\left(x - x_{1}\\right)} {\\left(x - x_{2}\\right)} {\\left(x - x_{3}\\right)}}{{\\left(x_{0} - x_{4}\\right)} {\\left(x_{1} - x_{4}\\right)} {\\left(x_{2} - x_{4}\\right)} {\\left(x_{3} - x_{4}\\right)}}</script></html>"
      ],
      "text/plain": [
       "f_0*(x - x_1)*(x - x_2)*(x - x_3)*(x - x_4)/((x_0 - x_1)*(x_0 - x_2)*(x_0 - x_3)*(x_0 - x_4)) - f_1*(x - x_0)*(x - x_2)*(x - x_3)*(x - x_4)/((x_0 - x_1)*(x_1 - x_2)*(x_1 - x_3)*(x_1 - x_4)) + f_2*(x - x_0)*(x - x_1)*(x - x_3)*(x - x_4)/((x_0 - x_2)*(x_1 - x_2)*(x_2 - x_3)*(x_2 - x_4)) - f_3*(x - x_0)*(x - x_1)*(x - x_2)*(x - x_4)/((x_0 - x_3)*(x_1 - x_3)*(x_2 - x_3)*(x_3 - x_4)) + f_4*(x - x_0)*(x - x_1)*(x - x_2)*(x - x_3)/((x_0 - x_4)*(x_1 - x_4)*(x_2 - x_4)*(x_3 - x_4))"
      ]
     },
     "execution_count": 39,
     "metadata": {},
     "output_type": "execute_result"
    }
   ],
   "source": [
    "# define the interpolating polynomial on [a,b]\n",
    "var('x, f_0, f_1, f_2, f_3, f_4')\n",
    "L4_0(x) = (x - x_1)*(x - x_2)*(x - x_3)*(x - x_4)/((x_0 - x_1)*(x_0 - x_2)*(x_0 - x_3)*(x_0 - x_4))\n",
    "L4_1(x) = (x - x_0)*(x - x_2)*(x - x_3)*(x - x_4)/((x_1 - x_0)*(x_1 - x_2)*(x_1 - x_3)*(x_1 - x_4))\n",
    "L4_2(x) = (x - x_0)*(x - x_1)*(x - x_3)*(x - x_4)/((x_2 - x_0)*(x_2 - x_1)*(x_2 - x_3)*(x_2 - x_4))\n",
    "L4_3(x) = (x - x_0)*(x - x_1)*(x - x_2)*(x - x_4)/((x_3 - x_0)*(x_3 - x_1)*(x_3 - x_2)*(x_3 - x_4))\n",
    "L4_4(x) = (x - x_0)*(x - x_1)*(x - x_2)*(x - x_3)/((x_4 - x_0)*(x_4 - x_1)*(x_4 - x_2)*(x_4 - x_3))\n",
    "p4(x) = L4_0(x)*f_0 + L4_1(x)*f_1 + L4_2(x)*f_2 + L4_3(x)*f_3 + L4_4(x)*f_4\n",
    "p4(x)"
   ]
  },
  {
   "cell_type": "code",
   "execution_count": 40,
   "metadata": {
    "collapsed": false,
    "deletable": true,
    "editable": true
   },
   "outputs": [
    {
     "data": {
      "text/html": [
       "<html><script type=\"math/tex; mode=display\">\\newcommand{\\Bold}[1]{\\mathbf{#1}}\\frac{2}{45} \\, {\\left(7 \\, f_{0} + 32 \\, f_{1} + 12 \\, f_{2} + 32 \\, f_{3} + 7 \\, f_{4}\\right)} h</script></html>"
      ],
      "text/plain": [
       "2/45*(7*f_0 + 32*f_1 + 12*f_2 + 32*f_3 + 7*f_4)*h"
      ]
     },
     "execution_count": 40,
     "metadata": {},
     "output_type": "execute_result"
    }
   ],
   "source": [
    "# integrate the interpolating polynomial over [a,b]\n",
    "int4 = integrate(p4(x), x, a, b)\n",
    "int4.subs(gridkey4).simplify_full()"
   ]
  },
  {
   "cell_type": "code",
   "execution_count": null,
   "metadata": {
    "collapsed": true,
    "deletable": true,
    "editable": true
   },
   "outputs": [],
   "source": []
  }
 ],
 "metadata": {
  "kernelspec": {
   "display_name": "SageMath 8.1",
   "language": "",
   "name": "sagemath"
  },
  "language_info": {
   "codemirror_mode": {
    "name": "ipython",
    "version": 2
   },
   "file_extension": ".py",
   "mimetype": "text/x-python",
   "name": "python",
   "nbconvert_exporter": "python",
   "pygments_lexer": "ipython2",
   "version": "2.7.14"
  }
 },
 "nbformat": 4,
 "nbformat_minor": 2
}
