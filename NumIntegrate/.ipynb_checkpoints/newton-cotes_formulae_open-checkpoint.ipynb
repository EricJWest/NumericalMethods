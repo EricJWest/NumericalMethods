{
 "cells": [
  {
   "cell_type": "markdown",
   "metadata": {
    "deletable": true,
    "editable": true
   },
   "source": [
    "# Open Newton-Cotes formulae"
   ]
  },
  {
   "cell_type": "code",
   "execution_count": 17,
   "metadata": {
    "collapsed": true,
    "deletable": true,
    "editable": true
   },
   "outputs": [],
   "source": [
    "%display latex"
   ]
  },
  {
   "cell_type": "markdown",
   "metadata": {
    "deletable": true,
    "editable": true
   },
   "source": [
    "## Case for n=0 (midpoint rule):"
   ]
  },
  {
   "cell_type": "code",
   "execution_count": 18,
   "metadata": {
    "collapsed": true,
    "deletable": true,
    "editable": true
   },
   "outputs": [],
   "source": [
    "# define grid points\n",
    "var('a, b, h, x_0')\n",
    "gridkey0 = \\\n",
    "[\n",
    "    x_0 == a + h, \n",
    "    b == a + 2*h\n",
    "]"
   ]
  },
  {
   "cell_type": "code",
   "execution_count": 19,
   "metadata": {
    "collapsed": false,
    "deletable": true,
    "editable": true
   },
   "outputs": [
    {
     "data": {
      "text/html": [
       "<html><script type=\"math/tex; mode=display\">\\newcommand{\\Bold}[1]{\\mathbf{#1}}f_{0}</script></html>"
      ],
      "text/plain": [
       "f_0"
      ]
     },
     "execution_count": 19,
     "metadata": {},
     "output_type": "execute_result"
    }
   ],
   "source": [
    "# define the interpolating polynomial on [a,b]\n",
    "var('x, f_0')\n",
    "L0_0(x) = 1\n",
    "p0(x) = L0_0(x)*f_0\n",
    "p0(x)"
   ]
  },
  {
   "cell_type": "code",
   "execution_count": 20,
   "metadata": {
    "collapsed": false,
    "deletable": true,
    "editable": true
   },
   "outputs": [
    {
     "data": {
      "text/html": [
       "<html><script type=\"math/tex; mode=display\">\\newcommand{\\Bold}[1]{\\mathbf{#1}}2 \\, f_{0} h</script></html>"
      ],
      "text/plain": [
       "2*f_0*h"
      ]
     },
     "execution_count": 20,
     "metadata": {},
     "output_type": "execute_result"
    }
   ],
   "source": [
    "# integrate the interpolating polynomial over [a,b]\n",
    "int0 = integrate(p0(x), x, a, b)\n",
    "int0.subs(gridkey0).simplify_full()"
   ]
  },
  {
   "cell_type": "markdown",
   "metadata": {
    "deletable": true,
    "editable": true
   },
   "source": [
    "## Case for n=1:"
   ]
  },
  {
   "cell_type": "code",
   "execution_count": 21,
   "metadata": {
    "collapsed": true,
    "deletable": true,
    "editable": true
   },
   "outputs": [],
   "source": [
    "# define grid points\n",
    "var('a, b, h, x_0, x_1')\n",
    "gridkey1 = \\\n",
    "[\n",
    "    x_0 == a + h, \n",
    "    x_1 == a + 2*h, \n",
    "    b == a + 3*h\n",
    "]"
   ]
  },
  {
   "cell_type": "code",
   "execution_count": 22,
   "metadata": {
    "collapsed": false,
    "deletable": true,
    "editable": true
   },
   "outputs": [
    {
     "data": {
      "text/html": [
       "<html><script type=\"math/tex; mode=display\">\\newcommand{\\Bold}[1]{\\mathbf{#1}}-\\frac{f_{1} {\\left(x - x_{0}\\right)}}{x_{0} - x_{1}} + \\frac{f_{0} {\\left(x - x_{1}\\right)}}{x_{0} - x_{1}}</script></html>"
      ],
      "text/plain": [
       "-f_1*(x - x_0)/(x_0 - x_1) + f_0*(x - x_1)/(x_0 - x_1)"
      ]
     },
     "execution_count": 22,
     "metadata": {},
     "output_type": "execute_result"
    }
   ],
   "source": [
    "# define the interpolating polynomial on [a,b]\n",
    "var('x, f_0, f_1')\n",
    "L1_0(x) = (x - x_1)/(x_0 - x_1)\n",
    "L1_1(x) = (x - x_0)/(x_1 - x_0)\n",
    "p1(x) = L1_0(x)*f_0 + L1_1(x)*f_1\n",
    "p1(x)"
   ]
  },
  {
   "cell_type": "code",
   "execution_count": 23,
   "metadata": {
    "collapsed": false,
    "deletable": true,
    "editable": true
   },
   "outputs": [
    {
     "data": {
      "text/html": [
       "<html><script type=\"math/tex; mode=display\">\\newcommand{\\Bold}[1]{\\mathbf{#1}}\\frac{3}{2} \\, {\\left(f_{0} + f_{1}\\right)} h</script></html>"
      ],
      "text/plain": [
       "3/2*(f_0 + f_1)*h"
      ]
     },
     "execution_count": 23,
     "metadata": {},
     "output_type": "execute_result"
    }
   ],
   "source": [
    "# integrate the interpolating polynomial over [a,b]\n",
    "int1 = integrate(p1(x), x, a, b)\n",
    "int1.subs(gridkey1).simplify_full()"
   ]
  },
  {
   "cell_type": "markdown",
   "metadata": {
    "deletable": true,
    "editable": true
   },
   "source": [
    "## Case for n=2:"
   ]
  },
  {
   "cell_type": "code",
   "execution_count": 24,
   "metadata": {
    "collapsed": true,
    "deletable": true,
    "editable": true
   },
   "outputs": [],
   "source": [
    "# define grid points\n",
    "var('a, b, h, x_0, x_1, x_2') \n",
    "gridkey2 = \\\n",
    "[\n",
    "    x_0 == a + h, \n",
    "    x_1 == a + 2*h, \n",
    "    x_2 == a + 3*h, \n",
    "    b == a + 4*h\n",
    "]"
   ]
  },
  {
   "cell_type": "code",
   "execution_count": 25,
   "metadata": {
    "collapsed": false,
    "deletable": true,
    "editable": true
   },
   "outputs": [
    {
     "data": {
      "text/html": [
       "<html><script type=\"math/tex; mode=display\">\\newcommand{\\Bold}[1]{\\mathbf{#1}}\\frac{f_{0} {\\left(x - x_{1}\\right)} {\\left(x - x_{2}\\right)}}{{\\left(x_{0} - x_{1}\\right)} {\\left(x_{0} - x_{2}\\right)}} - \\frac{f_{1} {\\left(x - x_{0}\\right)} {\\left(x - x_{2}\\right)}}{{\\left(x_{0} - x_{1}\\right)} {\\left(x_{1} - x_{2}\\right)}} + \\frac{f_{2} {\\left(x - x_{0}\\right)} {\\left(x - x_{1}\\right)}}{{\\left(x_{0} - x_{2}\\right)} {\\left(x_{1} - x_{2}\\right)}}</script></html>"
      ],
      "text/plain": [
       "f_0*(x - x_1)*(x - x_2)/((x_0 - x_1)*(x_0 - x_2)) - f_1*(x - x_0)*(x - x_2)/((x_0 - x_1)*(x_1 - x_2)) + f_2*(x - x_0)*(x - x_1)/((x_0 - x_2)*(x_1 - x_2))"
      ]
     },
     "execution_count": 25,
     "metadata": {},
     "output_type": "execute_result"
    }
   ],
   "source": [
    "# define the interpolating polynomial on [a,b]\n",
    "var('x, f_0, f_1, f_2')\n",
    "L2_0(x) = (x - x_1)*(x - x_2)/((x_0 - x_1)*(x_0 - x_2))\n",
    "L2_1(x) = (x - x_0)*(x - x_2)/((x_1 - x_0)*(x_1 - x_2))\n",
    "L2_2(x) = (x - x_0)*(x - x_1)/((x_2 - x_0)*(x_2 - x_1))\n",
    "p2(x) = L2_0(x)*f_0 + L2_1(x)*f_1 + L2_2(x)*f_2\n",
    "p2(x)"
   ]
  },
  {
   "cell_type": "code",
   "execution_count": 26,
   "metadata": {
    "collapsed": false,
    "deletable": true,
    "editable": true
   },
   "outputs": [
    {
     "data": {
      "text/html": [
       "<html><script type=\"math/tex; mode=display\">\\newcommand{\\Bold}[1]{\\mathbf{#1}}\\frac{4}{3} \\, {\\left(2 \\, f_{0} - f_{1} + 2 \\, f_{2}\\right)} h</script></html>"
      ],
      "text/plain": [
       "4/3*(2*f_0 - f_1 + 2*f_2)*h"
      ]
     },
     "execution_count": 26,
     "metadata": {},
     "output_type": "execute_result"
    }
   ],
   "source": [
    "# integrate the interpolating polynomial over [a,b]\n",
    "int2 = integrate(p2(x), x, a, b)\n",
    "int2.subs(gridkey2).simplify_full()"
   ]
  },
  {
   "cell_type": "markdown",
   "metadata": {
    "deletable": true,
    "editable": true
   },
   "source": [
    "## Case for n=3:"
   ]
  },
  {
   "cell_type": "code",
   "execution_count": 27,
   "metadata": {
    "collapsed": true,
    "deletable": true,
    "editable": true
   },
   "outputs": [],
   "source": [
    "# define grid points\n",
    "var('a, b, h, x_0, x_1, x_2, x_3') \n",
    "gridkey3 = \\\n",
    "[\n",
    "    x_0 == a + h, \n",
    "    x_1 == a + 2*h, \n",
    "    x_2 == a + 3*h, \n",
    "    x_3 == a + 4*h, \n",
    "    b == a + 5*h\n",
    "]"
   ]
  },
  {
   "cell_type": "code",
   "execution_count": 28,
   "metadata": {
    "collapsed": false,
    "deletable": true,
    "editable": true
   },
   "outputs": [
    {
     "data": {
      "text/html": [
       "<html><script type=\"math/tex; mode=display\">\\newcommand{\\Bold}[1]{\\mathbf{#1}}\\frac{f_{0} {\\left(x - x_{1}\\right)} {\\left(x - x_{2}\\right)} {\\left(x - x_{3}\\right)}}{{\\left(x_{0} - x_{1}\\right)} {\\left(x_{0} - x_{2}\\right)} {\\left(x_{0} - x_{3}\\right)}} - \\frac{f_{1} {\\left(x - x_{0}\\right)} {\\left(x - x_{2}\\right)} {\\left(x - x_{3}\\right)}}{{\\left(x_{0} - x_{1}\\right)} {\\left(x_{1} - x_{2}\\right)} {\\left(x_{1} - x_{3}\\right)}} + \\frac{f_{2} {\\left(x - x_{0}\\right)} {\\left(x - x_{1}\\right)} {\\left(x - x_{3}\\right)}}{{\\left(x_{0} - x_{2}\\right)} {\\left(x_{1} - x_{2}\\right)} {\\left(x_{2} - x_{3}\\right)}} - \\frac{f_{3} {\\left(x - x_{0}\\right)} {\\left(x - x_{1}\\right)} {\\left(x - x_{2}\\right)}}{{\\left(x_{0} - x_{3}\\right)} {\\left(x_{1} - x_{3}\\right)} {\\left(x_{2} - x_{3}\\right)}}</script></html>"
      ],
      "text/plain": [
       "f_0*(x - x_1)*(x - x_2)*(x - x_3)/((x_0 - x_1)*(x_0 - x_2)*(x_0 - x_3)) - f_1*(x - x_0)*(x - x_2)*(x - x_3)/((x_0 - x_1)*(x_1 - x_2)*(x_1 - x_3)) + f_2*(x - x_0)*(x - x_1)*(x - x_3)/((x_0 - x_2)*(x_1 - x_2)*(x_2 - x_3)) - f_3*(x - x_0)*(x - x_1)*(x - x_2)/((x_0 - x_3)*(x_1 - x_3)*(x_2 - x_3))"
      ]
     },
     "execution_count": 28,
     "metadata": {},
     "output_type": "execute_result"
    }
   ],
   "source": [
    "# define the interpolating polynomial on [a,b]\n",
    "var('x, f_0, f_1, f_2, f_3')\n",
    "L3_0(x) = (x - x_1)*(x - x_2)*(x - x_3)/((x_0 - x_1)*(x_0 - x_2)*(x_0 - x_3))\n",
    "L3_1(x) = (x - x_0)*(x - x_2)*(x - x_3)/((x_1 - x_0)*(x_1 - x_2)*(x_1 - x_3))\n",
    "L3_2(x) = (x - x_0)*(x - x_1)*(x - x_3)/((x_2 - x_0)*(x_2 - x_1)*(x_2 - x_3))\n",
    "L3_3(x) = (x - x_0)*(x - x_1)*(x - x_2)/((x_3 - x_0)*(x_3 - x_1)*(x_3 - x_2))\n",
    "p3(x) = L3_0(x)*f_0 + L3_1(x)*f_1 + L3_2(x)*f_2 + L3_3(x)*f_3\n",
    "p3(x)"
   ]
  },
  {
   "cell_type": "code",
   "execution_count": 29,
   "metadata": {
    "collapsed": false,
    "deletable": true,
    "editable": true
   },
   "outputs": [
    {
     "data": {
      "text/html": [
       "<html><script type=\"math/tex; mode=display\">\\newcommand{\\Bold}[1]{\\mathbf{#1}}\\frac{5}{24} \\, {\\left(11 \\, f_{0} + f_{1} + f_{2} + 11 \\, f_{3}\\right)} h</script></html>"
      ],
      "text/plain": [
       "5/24*(11*f_0 + f_1 + f_2 + 11*f_3)*h"
      ]
     },
     "execution_count": 29,
     "metadata": {},
     "output_type": "execute_result"
    }
   ],
   "source": [
    "# integrate the interpolating polynomial over [a,b]\n",
    "int3 = integrate(p3(x), x, a, b)\n",
    "int3.subs(gridkey3).simplify_full()"
   ]
  },
  {
   "cell_type": "markdown",
   "metadata": {
    "collapsed": true,
    "deletable": true,
    "editable": true
   },
   "source": [
    "## Case for n=4:"
   ]
  },
  {
   "cell_type": "code",
   "execution_count": 30,
   "metadata": {
    "collapsed": true,
    "deletable": true,
    "editable": true
   },
   "outputs": [],
   "source": [
    "# define grid points\n",
    "var('a, b, h, x_0, x_1, x_2, x_3, x_4') \n",
    "gridkey4 = \\\n",
    "[\n",
    "    x_0 == a + h, \n",
    "    x_1 == a + 2*h, \n",
    "    x_2 == a + 3*h, \n",
    "    x_3 == a + 4*h, \n",
    "    x_4 == a + 5*h, \n",
    "    b == a + 6*h\n",
    "]"
   ]
  },
  {
   "cell_type": "code",
   "execution_count": 31,
   "metadata": {
    "collapsed": false,
    "deletable": true,
    "editable": true
   },
   "outputs": [
    {
     "data": {
      "text/html": [
       "<html><script type=\"math/tex; mode=display\">\\newcommand{\\Bold}[1]{\\mathbf{#1}}\\frac{f_{0} {\\left(x - x_{1}\\right)} {\\left(x - x_{2}\\right)} {\\left(x - x_{3}\\right)} {\\left(x - x_{4}\\right)}}{{\\left(x_{0} - x_{1}\\right)} {\\left(x_{0} - x_{2}\\right)} {\\left(x_{0} - x_{3}\\right)} {\\left(x_{0} - x_{4}\\right)}} - \\frac{f_{1} {\\left(x - x_{0}\\right)} {\\left(x - x_{2}\\right)} {\\left(x - x_{3}\\right)} {\\left(x - x_{4}\\right)}}{{\\left(x_{0} - x_{1}\\right)} {\\left(x_{1} - x_{2}\\right)} {\\left(x_{1} - x_{3}\\right)} {\\left(x_{1} - x_{4}\\right)}} + \\frac{f_{2} {\\left(x - x_{0}\\right)} {\\left(x - x_{1}\\right)} {\\left(x - x_{3}\\right)} {\\left(x - x_{4}\\right)}}{{\\left(x_{0} - x_{2}\\right)} {\\left(x_{1} - x_{2}\\right)} {\\left(x_{2} - x_{3}\\right)} {\\left(x_{2} - x_{4}\\right)}} - \\frac{f_{3} {\\left(x - x_{0}\\right)} {\\left(x - x_{1}\\right)} {\\left(x - x_{2}\\right)} {\\left(x - x_{4}\\right)}}{{\\left(x_{0} - x_{3}\\right)} {\\left(x_{1} - x_{3}\\right)} {\\left(x_{2} - x_{3}\\right)} {\\left(x_{3} - x_{4}\\right)}} + \\frac{f_{4} {\\left(x - x_{0}\\right)} {\\left(x - x_{1}\\right)} {\\left(x - x_{2}\\right)} {\\left(x - x_{3}\\right)}}{{\\left(x_{0} - x_{4}\\right)} {\\left(x_{1} - x_{4}\\right)} {\\left(x_{2} - x_{4}\\right)} {\\left(x_{3} - x_{4}\\right)}}</script></html>"
      ],
      "text/plain": [
       "f_0*(x - x_1)*(x - x_2)*(x - x_3)*(x - x_4)/((x_0 - x_1)*(x_0 - x_2)*(x_0 - x_3)*(x_0 - x_4)) - f_1*(x - x_0)*(x - x_2)*(x - x_3)*(x - x_4)/((x_0 - x_1)*(x_1 - x_2)*(x_1 - x_3)*(x_1 - x_4)) + f_2*(x - x_0)*(x - x_1)*(x - x_3)*(x - x_4)/((x_0 - x_2)*(x_1 - x_2)*(x_2 - x_3)*(x_2 - x_4)) - f_3*(x - x_0)*(x - x_1)*(x - x_2)*(x - x_4)/((x_0 - x_3)*(x_1 - x_3)*(x_2 - x_3)*(x_3 - x_4)) + f_4*(x - x_0)*(x - x_1)*(x - x_2)*(x - x_3)/((x_0 - x_4)*(x_1 - x_4)*(x_2 - x_4)*(x_3 - x_4))"
      ]
     },
     "execution_count": 31,
     "metadata": {},
     "output_type": "execute_result"
    }
   ],
   "source": [
    "# define the interpolating polynomial on [a,b]\n",
    "var('x, f_0, f_1, f_2, f_3, f_4')\n",
    "\n",
    "L4_0(x) = (x - x_1)*(x - x_2)*(x - x_3)*(x - x_4)\\\n",
    "        /((x_0 - x_1)*(x_0 - x_2)*(x_0 - x_3)*(x_0 - x_4))\n",
    "\n",
    "L4_1(x) = (x - x_0)*(x - x_2)*(x - x_3)*(x - x_4)\\\n",
    "        /((x_1 - x_0)*(x_1 - x_2)*(x_1 - x_3)*(x_1 - x_4))\n",
    "\n",
    "L4_2(x) = (x - x_0)*(x - x_1)*(x - x_3)*(x - x_4)\\\n",
    "        /((x_2 - x_0)*(x_2 - x_1)*(x_2 - x_3)*(x_2 - x_4))\n",
    "\n",
    "L4_3(x) = (x - x_0)*(x - x_1)*(x - x_2)*(x - x_4)\\\n",
    "        /((x_3 - x_0)*(x_3 - x_1)*(x_3 - x_2)*(x_3 - x_4))\n",
    "\n",
    "L4_4(x) = (x - x_0)*(x - x_1)*(x - x_2)*(x - x_3)\\\n",
    "        /((x_4 - x_0)*(x_4 - x_1)*(x_4 - x_2)*(x_4 - x_3))\n",
    "\n",
    "p4(x) = L4_0(x)*f_0 \\\n",
    "      + L4_1(x)*f_1 \\\n",
    "      + L4_2(x)*f_2 \\\n",
    "      + L4_3(x)*f_3 \\\n",
    "      + L4_4(x)*f_4\n",
    "\n",
    "p4(x)"
   ]
  },
  {
   "cell_type": "code",
   "execution_count": 32,
   "metadata": {
    "collapsed": false
   },
   "outputs": [
    {
     "data": {
      "text/html": [
       "<html><script type=\"math/tex; mode=display\">\\newcommand{\\Bold}[1]{\\mathbf{#1}}\\frac{3}{10} \\, {\\left(11 \\, f_{0} - 14 \\, f_{1} + 26 \\, f_{2} - 14 \\, f_{3} + 11 \\, f_{4}\\right)} h</script></html>"
      ],
      "text/plain": [
       "3/10*(11*f_0 - 14*f_1 + 26*f_2 - 14*f_3 + 11*f_4)*h"
      ]
     },
     "execution_count": 32,
     "metadata": {},
     "output_type": "execute_result"
    }
   ],
   "source": [
    "# integrate the interpolating polynomial over [a,b]\n",
    "int4 = integrate(p4(x), x, a, b)\n",
    "int4.subs(gridkey4).simplify_full()"
   ]
  },
  {
   "cell_type": "markdown",
   "metadata": {},
   "source": [
    "## Case for n=5:"
   ]
  },
  {
   "cell_type": "code",
   "execution_count": 33,
   "metadata": {
    "collapsed": true
   },
   "outputs": [],
   "source": [
    "# define grid points\n",
    "var('a, b, h, x_0, x_1, x_2, x_3, x_4, x_5') \n",
    "gridkey5 = \\\n",
    "[\n",
    "    x_0 == a + h, \n",
    "    x_1 == a + 2*h, \n",
    "    x_2 == a + 3*h, \n",
    "    x_3 == a + 4*h, \n",
    "    x_4 == a + 5*h, \n",
    "    x_5 == a + 6*h, \n",
    "    b == a + 7*h\n",
    "]"
   ]
  },
  {
   "cell_type": "code",
   "execution_count": 34,
   "metadata": {
    "collapsed": false
   },
   "outputs": [
    {
     "data": {
      "text/html": [
       "<html><script type=\"math/tex; mode=display\">\\newcommand{\\Bold}[1]{\\mathbf{#1}}\\frac{f_{0} {\\left(x - x_{1}\\right)} {\\left(x - x_{2}\\right)} {\\left(x - x_{3}\\right)} {\\left(x - x_{4}\\right)} {\\left(x - x_{5}\\right)}}{{\\left(x_{0} - x_{1}\\right)} {\\left(x_{0} - x_{2}\\right)} {\\left(x_{0} - x_{3}\\right)} {\\left(x_{0} - x_{4}\\right)} {\\left(x_{0} - x_{5}\\right)}} - \\frac{f_{1} {\\left(x - x_{0}\\right)} {\\left(x - x_{2}\\right)} {\\left(x - x_{3}\\right)} {\\left(x - x_{4}\\right)} {\\left(x - x_{5}\\right)}}{{\\left(x_{0} - x_{1}\\right)} {\\left(x_{1} - x_{2}\\right)} {\\left(x_{1} - x_{3}\\right)} {\\left(x_{1} - x_{4}\\right)} {\\left(x_{1} - x_{5}\\right)}} + \\frac{f_{2} {\\left(x - x_{0}\\right)} {\\left(x - x_{1}\\right)} {\\left(x - x_{3}\\right)} {\\left(x - x_{4}\\right)} {\\left(x - x_{5}\\right)}}{{\\left(x_{0} - x_{2}\\right)} {\\left(x_{1} - x_{2}\\right)} {\\left(x_{2} - x_{3}\\right)} {\\left(x_{2} - x_{4}\\right)} {\\left(x_{2} - x_{5}\\right)}} - \\frac{f_{3} {\\left(x - x_{0}\\right)} {\\left(x - x_{1}\\right)} {\\left(x - x_{2}\\right)} {\\left(x - x_{4}\\right)} {\\left(x - x_{5}\\right)}}{{\\left(x_{0} - x_{3}\\right)} {\\left(x_{1} - x_{3}\\right)} {\\left(x_{2} - x_{3}\\right)} {\\left(x_{3} - x_{4}\\right)} {\\left(x_{3} - x_{5}\\right)}} + \\frac{f_{4} {\\left(x - x_{0}\\right)} {\\left(x - x_{1}\\right)} {\\left(x - x_{2}\\right)} {\\left(x - x_{3}\\right)} {\\left(x - x_{5}\\right)}}{{\\left(x_{0} - x_{4}\\right)} {\\left(x_{1} - x_{4}\\right)} {\\left(x_{2} - x_{4}\\right)} {\\left(x_{3} - x_{4}\\right)} {\\left(x_{4} - x_{5}\\right)}} - \\frac{f_{5} {\\left(x - x_{0}\\right)} {\\left(x - x_{1}\\right)} {\\left(x - x_{2}\\right)} {\\left(x - x_{3}\\right)} {\\left(x - x_{4}\\right)}}{{\\left(x_{0} - x_{5}\\right)} {\\left(x_{1} - x_{5}\\right)} {\\left(x_{2} - x_{5}\\right)} {\\left(x_{3} - x_{5}\\right)} {\\left(x_{4} - x_{5}\\right)}}</script></html>"
      ],
      "text/plain": [
       "f_0*(x - x_1)*(x - x_2)*(x - x_3)*(x - x_4)*(x - x_5)/((x_0 - x_1)*(x_0 - x_2)*(x_0 - x_3)*(x_0 - x_4)*(x_0 - x_5)) - f_1*(x - x_0)*(x - x_2)*(x - x_3)*(x - x_4)*(x - x_5)/((x_0 - x_1)*(x_1 - x_2)*(x_1 - x_3)*(x_1 - x_4)*(x_1 - x_5)) + f_2*(x - x_0)*(x - x_1)*(x - x_3)*(x - x_4)*(x - x_5)/((x_0 - x_2)*(x_1 - x_2)*(x_2 - x_3)*(x_2 - x_4)*(x_2 - x_5)) - f_3*(x - x_0)*(x - x_1)*(x - x_2)*(x - x_4)*(x - x_5)/((x_0 - x_3)*(x_1 - x_3)*(x_2 - x_3)*(x_3 - x_4)*(x_3 - x_5)) + f_4*(x - x_0)*(x - x_1)*(x - x_2)*(x - x_3)*(x - x_5)/((x_0 - x_4)*(x_1 - x_4)*(x_2 - x_4)*(x_3 - x_4)*(x_4 - x_5)) - f_5*(x - x_0)*(x - x_1)*(x - x_2)*(x - x_3)*(x - x_4)/((x_0 - x_5)*(x_1 - x_5)*(x_2 - x_5)*(x_3 - x_5)*(x_4 - x_5))"
      ]
     },
     "execution_count": 34,
     "metadata": {},
     "output_type": "execute_result"
    }
   ],
   "source": [
    "# define the interpolating polynomial on [a,b]\n",
    "var('x, f_0, f_1, f_2, f_3, f_4, f_5')\n",
    "\n",
    "L5_0(x) = (x - x_1)*(x - x_2)*(x - x_3)*(x - x_4)*(x - x_5)\\\n",
    "        /((x_0 - x_1)*(x_0 - x_2)*(x_0 - x_3)*(x_0 - x_4)*(x_0 - x_5))\n",
    "\n",
    "L5_1(x) = (x - x_0)*(x - x_2)*(x - x_3)*(x - x_4)*(x - x_5)\\\n",
    "        /((x_1 - x_0)*(x_1 - x_2)*(x_1 - x_3)*(x_1 - x_4)*(x_1 - x_5))\n",
    "\n",
    "L5_2(x) = (x - x_0)*(x - x_1)*(x - x_3)*(x - x_4)*(x - x_5)\\\n",
    "        /((x_2 - x_0)*(x_2 - x_1)*(x_2 - x_3)*(x_2 - x_4)*(x_2 - x_5))\n",
    "\n",
    "L5_3(x) = (x - x_0)*(x - x_1)*(x - x_2)*(x - x_4)*(x - x_5)\\\n",
    "        /((x_3 - x_0)*(x_3 - x_1)*(x_3 - x_2)*(x_3 - x_4)*(x_3 - x_5))\n",
    "\n",
    "L5_4(x) = (x - x_0)*(x - x_1)*(x - x_2)*(x - x_3)*(x - x_5)\\\n",
    "        /((x_4 - x_0)*(x_4 - x_1)*(x_4 - x_2)*(x_4 - x_3)*(x_4 - x_5))\n",
    "\n",
    "L5_5(x) = (x - x_0)*(x - x_1)*(x - x_2)*(x - x_3)*(x - x_4)\\\n",
    "        /((x_5 - x_0)*(x_5 - x_1)*(x_5 - x_2)*(x_5 - x_3)*(x_5 - x_4))\n",
    "\n",
    "p5(x) = L5_0(x)*f_0 \\\n",
    "      + L5_1(x)*f_1 \\\n",
    "      + L5_2(x)*f_2 \\\n",
    "      + L5_3(x)*f_3 \\\n",
    "      + L5_4(x)*f_4 \\\n",
    "      + L5_5(x)*f_5\n",
    "\n",
    "p5(x)"
   ]
  },
  {
   "cell_type": "code",
   "execution_count": 36,
   "metadata": {
    "collapsed": false
   },
   "outputs": [
    {
     "data": {
      "text/html": [
       "<html><script type=\"math/tex; mode=display\">\\newcommand{\\Bold}[1]{\\mathbf{#1}}\\frac{7}{1440} \\, {\\left(611 \\, f_{0} - 453 \\, f_{1} + 562 \\, f_{2} + 562 \\, f_{3} - 453 \\, f_{4} + 611 \\, f_{5}\\right)} h</script></html>"
      ],
      "text/plain": [
       "7/1440*(611*f_0 - 453*f_1 + 562*f_2 + 562*f_3 - 453*f_4 + 611*f_5)*h"
      ]
     },
     "execution_count": 36,
     "metadata": {},
     "output_type": "execute_result"
    }
   ],
   "source": [
    "# integrate the interpolating polynomial over [a,b]\n",
    "int5 = integrate(p5(x), x, a, b)\n",
    "int5.subs(gridkey5).simplify_full()"
   ]
  },
  {
   "cell_type": "code",
   "execution_count": null,
   "metadata": {
    "collapsed": true
   },
   "outputs": [],
   "source": []
  }
 ],
 "metadata": {
  "kernelspec": {
   "display_name": "SageMath 8.1",
   "language": "",
   "name": "sagemath"
  },
  "language_info": {
   "codemirror_mode": {
    "name": "ipython",
    "version": 2
   },
   "file_extension": ".py",
   "mimetype": "text/x-python",
   "name": "python",
   "nbconvert_exporter": "python",
   "pygments_lexer": "ipython2",
   "version": "2.7.14"
  }
 },
 "nbformat": 4,
 "nbformat_minor": 2
}
