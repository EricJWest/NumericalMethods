{
 "cells": [
  {
   "cell_type": "markdown",
   "metadata": {},
   "source": [
    "# Numerical Integration\n",
    "---\n",
    "GENERAL PROBLEM: numerically evaluate a definite integral.\n",
    "\n",
    "IDEA: approximate the integral by a discrete sum\n",
    "\n",
    "$$I \\equiv \\int_{a}^{b} f(x)\\,dx \\approx \\sum_{i=0}^{n} w_{i}\\,f(x_{i})$$\n",
    "\n",
    "This method of approximating an integral by a sum is often called **numerical quadrature** (\"quadrature\" being an archaic way of saying \"box counting\")."
   ]
  },
  {
   "cell_type": "markdown",
   "metadata": {},
   "source": [
    "## Newton-Cotes Formulae\n",
    "\n",
    "We start by approximating the function $f(x)$ by a single interpolating polynomial $p(x)$ over the interval $[a,b]$, and then integrating that polynomial over the interval. Furthermore, we take the interpolating points to be evenly spaced. There is a choice to be made whether to place interpolating points at the boundaries of the interval, or not. If the boundary points $x=a$ and $x=b$ coincide with interpolating points, we obtain the **closed** Newton-Cotes formulae. If the boundary points do not correspond to interpolating points, we obtain the **open** Newton-Cotes formulae.\n",
    "\n",
    "### Closed Newton-Cotes formulae\n",
    "\n",
    "**Trapezoid rule (n=1):** The simplest case to consider is to approximate the function by a straight line between the end points $f(a)$ and $f(b)$. The integral is then the area of the resulting trapezoid\n",
    "\n",
    "$$\n",
    "   I \\equiv \\int_{a}^{b} f(x)\\,dx \\approx \\frac{h}{2}(f(a) + f(b)),\n",
    "$$\n",
    "\n",
    "where $h = b - a$ is the base of the trapezoid. This can also be obtained from Lagrange's 1st-order (linear) interpolating polynomial\n",
    "\n",
    "$$ \n",
    "   p(x) = \\frac{(x - x_{1})}{(x_{0} - x_{1})}f(x_{0})\n",
    "   + \\frac{(x - x_{0})}{(x_{1} - x_{0})}f(x_{1}) \n",
    "$$\n",
    "\n",
    "where $x_{0}=a$ and $x_{1}=b=a+h$. Integrating this fuction over $[a,b]$ yields the result above.\n",
    "\n",
    "**Simpson's rule (n=2):** Next consider approximating the function by a 2nd-order (quadratic) polynomial. Divide the interval $[a,b]$ into two equal subintervals of width $h=(b-a)/2$. Let $x_{0}=a$, $x_{1}=a+h$, and $x_{2}=a+2h=b$. Approximate $f(x)$ by the 2nd-order polynomial\n",
    "\n",
    "$$\n",
    "   p(x) = \\frac{(x - x_{1})(x - x_{2})}{(x_{0} - x_{1})(x_{0} - x_{2})}f(x_{0})\n",
    "   + \\frac{(x - x_{0})(x - x_{2})}{(x_{1} - x_{0})(x_{1} - x_{2})}f(x_{1}) \n",
    "   + \\frac{(x - x_{0})(x - x_{1})}{(x_{2} - x_{0})(x_{2} - x_{1})}f(x_{2}).\n",
    "$$\n",
    "\n",
    "Then integrate\n",
    "\n",
    "$$\n",
    "   I \\equiv \\int_{a}^{b} f(x)\\,dx \n",
    "   \\approx \\int_{a}^{b} p(x)\\,dx\n",
    "   = \\frac{h}{3}(f(x_{0}) + 4f(x_{1}) + f(x_{2})),\n",
    "$$\n",
    "\n",
    "Similar considerations yield rules for higher-order interpolating polynomials by dividing the interval $[a,b]$ into equally spaced subintervals. Notice that the cases considered above assume that the first and last interpolating points coincide with the boundary of the interval $[a,b]$. The first four closed Newton-Cotes formulae are listed here:\n",
    "\n",
    "**n=1:** $\\quad\\quad I \\approx \\frac{h}{2}\\left(f(x_{0}) + f(x_{1})\\right) \\quad\\quad$ (trapezoid rule)\n",
    "\n",
    "**n=2:** $\\quad\\quad I \\approx \\frac{h}{3}(f(x_{0}) + 4\\,f(x_{1}) + f(x_{2}))\\quad\\quad$ (Simpson's rule)\n",
    "\n",
    "**n=3:** $\\quad\\quad I \\approx \\frac{3h}{8}(f(x_{0}) + 3\\,f(x_{1}) + 3\\,f(x_{2}) + f(x_{3}))$\n",
    "\n",
    "**n=4:** $\\quad\\quad I \\approx \\frac{2h}{45}(7\\,f(x_{0}) + 32\\,f(x_{1}) + 12\\,f(x_{2}) + 32\\,f(x_{3}) + 7\\,f(x_{4}))$\n",
    "\n",
    "(See [closed_newton-cotes_formulae.ipynb](https://github.com/ejwest2/math/blob/master/NumericalMethods/NumIntegrate/closed_newton-cotes_formulae.ipynb) for derivations.) \n",
    "\n",
    "### Open Newton-Cotes formulae\n",
    "\n",
    "**Midpoint rule (n=0):** Divide the interval $[a,b]$ into two equally spaced subintervals of width $h=(b-a)/2$. Let $x_{0}=a+h=b-h$. Approximate the function $f(x)$ by the constant $f(x_{0})$. Then\n",
    "\n",
    "$$\n",
    "   I  \\approx \\int_{a}^{b}f(x_{0})\\,dx\n",
    "   = 2\\,h\\,f(x_{0}).\n",
    "$$\n",
    "\n",
    "**Rule for n=1:** Divide the interval $[a,b]$ into three equally spaced subintervals of width $h=(b-a)/3$. Let $x_{0}=a+h$ and $x_{1}=a+2h=b-h$. Approximate the function $f(x)$ by the linear interpolating polynomial, and then integrate.\n",
    "\n",
    "This procedure can then be generalized to higher-order. The first four open Newton-Cotes formulae are listed here:\n",
    "\n",
    "**n=0:** $\\quad\\quad I \\approx 2\\,h\\,f(x_{0}) \\quad\\quad$ (midpoint rule)\n",
    "\n",
    "**n=1:** $\\quad\\quad I \\approx \\frac{3h}{2}(f(x_{0}) + f(x_{1}))$\n",
    "\n",
    "**n=2:** $\\quad\\quad I \\approx \\frac{4h}{3}(2\\,f(x_{0}) - f(x_{1}) + 2\\,f(x_{2}))$\n",
    "\n",
    "**n=3:** $\\quad\\quad I \\approx \\frac{5h}{24}(11\\,f(x_{0}) + f(x_{1}) + f(x_{2}) + 11\\,f(x_{3}))$\n",
    "\n",
    "(See [open_newton-cotes_formulae.ipynb](https://github.com/ejwest2/math/blob/master/NumericalMethods/NumIntegrate/open_newton-cotes_formulae.ipynb) for derivations.) "
   ]
  },
  {
   "cell_type": "markdown",
   "metadata": {},
   "source": [
    "### Example: Integrate $e^x$\n",
    "Let's see how well these work for the integral\n",
    "\n",
    "\\begin{equation}\n",
    "   \\int_{0}^{1} e^{x}\\,dx\n",
    "\\end{equation}\n",
    "\n"
   ]
  },
  {
   "cell_type": "code",
   "execution_count": 5,
   "metadata": {},
   "outputs": [
    {
     "ename": "ImportError",
     "evalue": "No module named 'tabulate'",
     "output_type": "error",
     "traceback": [
      "\u001b[0;31m---------------------------------------------------------------------------\u001b[0m",
      "\u001b[0;31mImportError\u001b[0m                               Traceback (most recent call last)",
      "\u001b[0;32m<ipython-input-5-f541df20829c>\u001b[0m in \u001b[0;36m<module>\u001b[0;34m()\u001b[0m\n\u001b[1;32m      1\u001b[0m \u001b[0;32mfrom\u001b[0m \u001b[0mIPython\u001b[0m\u001b[0;34m.\u001b[0m\u001b[0mdisplay\u001b[0m \u001b[0;32mimport\u001b[0m \u001b[0mHTML\u001b[0m\u001b[0;34m,\u001b[0m \u001b[0mdisplay\u001b[0m\u001b[0;34m\u001b[0m\u001b[0m\n\u001b[1;32m      2\u001b[0m \u001b[0;34m\u001b[0m\u001b[0m\n\u001b[0;32m----> 3\u001b[0;31m \u001b[0;32mimport\u001b[0m \u001b[0mtabulate\u001b[0m\u001b[0;34m\u001b[0m\u001b[0m\n\u001b[0m\u001b[1;32m      4\u001b[0m table = [[\"Sun\",696000,1989100000],\n\u001b[1;32m      5\u001b[0m          \u001b[0;34m[\u001b[0m\u001b[0;34m\"Earth\"\u001b[0m\u001b[0;34m,\u001b[0m\u001b[0;36m6371\u001b[0m\u001b[0;34m,\u001b[0m\u001b[0;36m5973.6\u001b[0m\u001b[0;34m]\u001b[0m\u001b[0;34m,\u001b[0m\u001b[0;34m\u001b[0m\u001b[0m\n",
      "\u001b[0;31mImportError\u001b[0m: No module named 'tabulate'"
     ]
    }
   ],
   "source": [
    "from IPython.display import HTML, display\n",
    "\n",
    "import tabulate\n",
    "table = [[\"Sun\",696000,1989100000],\n",
    "         [\"Earth\",6371,5973.6],\n",
    "         [\"Moon\",1737,73.5],\n",
    "         [\"Mars\",3390,641.85]]\n",
    "display(HTML(tabulate.tabulate(table, tablefmt='html')))\n"
   ]
  },
  {
   "cell_type": "markdown",
   "metadata": {},
   "source": [
    "## Composite Integration\n",
    "\n",
    "The Newton-Cotes formulae above form the building blocks of numerical integration. But as is, they are not enough. They fall short for two reasons. First, very high-order interpolating polynomials may be needed to approximate many functions over the interval $[a,b]$, but higher-order rules are cumbersome to derive. Even once derived, the number of operations contained produces large amounts of roundoff error. Second, the above methods use evenly spaced subintervals, which leads to wasted effort over regions where the function is relatively flat and not enough precision in regions where the function rapidly changes. Surely we could do better.\n",
    "\n",
    "To circumvent the need for high-order interpolation, we divide the full interval into subintervals and perform piecewise interpolation over each subinterval. "
   ]
  },
  {
   "cell_type": "markdown",
   "metadata": {},
   "source": [
    "## Romberg Integration"
   ]
  },
  {
   "cell_type": "markdown",
   "metadata": {},
   "source": [
    "## Adaptive Quadrature"
   ]
  },
  {
   "cell_type": "markdown",
   "metadata": {},
   "source": [
    "## Gaussian Quadrature"
   ]
  }
 ],
 "metadata": {
  "kernelspec": {
   "display_name": "Python 2",
   "language": "python",
   "name": "python2"
  },
  "language_info": {
   "codemirror_mode": {
    "name": "ipython",
    "version": 3
   },
   "file_extension": ".py",
   "mimetype": "text/x-python",
   "name": "python",
   "nbconvert_exporter": "python",
   "pygments_lexer": "ipython3",
   "version": "3.5.2"
  }
 },
 "nbformat": 4,
 "nbformat_minor": 2
}
